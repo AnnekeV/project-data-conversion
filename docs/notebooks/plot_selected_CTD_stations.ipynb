{
 "cells": [
  {
   "cell_type": "code",
   "execution_count": 1,
   "metadata": {},
   "outputs": [
    {
     "data": {
      "application/vnd.plotly.v1+json": {
       "config": {
        "plotlyServerURL": "https://plotly.com"
       },
       "data": [
        {
         "customdata": [
          [
           "GF18090",
           "2018-08-09T13:20Z",
           64.60975,
           -50.9521
          ]
         ],
         "hovertemplate": "<b>%{hovertext}</b><br><br>time=%{customdata[1]}<br>latitude=%{customdata[2]}<br>longitude=%{customdata[3]}<br>station=%{customdata[0]}<extra></extra>",
         "hovertext": [
          "GF18090"
         ],
         "lat": [
          64.60975
         ],
         "legendgroup": "2018-08-09T13:20Z",
         "lon": [
          -50.9521
         ],
         "marker": {
          "color": "#636efa"
         },
         "mode": "markers",
         "name": "2018-08-09T13:20Z",
         "showlegend": true,
         "subplot": "mapbox",
         "type": "scattermapbox"
        },
        {
         "customdata": [
          [
           "GF18084",
           "2018-08-08T13:45Z",
           64.60586666666667,
           -50.94145
          ]
         ],
         "hovertemplate": "<b>%{hovertext}</b><br><br>time=%{customdata[1]}<br>latitude=%{customdata[2]}<br>longitude=%{customdata[3]}<br>station=%{customdata[0]}<extra></extra>",
         "hovertext": [
          "GF18084"
         ],
         "lat": [
          64.60586666666667
         ],
         "legendgroup": "2018-08-08T13:45Z",
         "lon": [
          -50.94145
         ],
         "marker": {
          "color": "#EF553B"
         },
         "mode": "markers",
         "name": "2018-08-08T13:45Z",
         "showlegend": true,
         "subplot": "mapbox",
         "type": "scattermapbox"
        },
        {
         "customdata": [
          [
           "GF18085",
           "2018-08-08T14:47Z",
           64.56863333333334,
           -51.1653
          ]
         ],
         "hovertemplate": "<b>%{hovertext}</b><br><br>time=%{customdata[1]}<br>latitude=%{customdata[2]}<br>longitude=%{customdata[3]}<br>station=%{customdata[0]}<extra></extra>",
         "hovertext": [
          "GF18085"
         ],
         "lat": [
          64.56863333333334
         ],
         "legendgroup": "2018-08-08T14:47Z",
         "lon": [
          -51.1653
         ],
         "marker": {
          "color": "#00cc96"
         },
         "mode": "markers",
         "name": "2018-08-08T14:47Z",
         "showlegend": true,
         "subplot": "mapbox",
         "type": "scattermapbox"
        },
        {
         "customdata": [
          [
           "GF18046",
           "2018-05-04T15:26Z",
           64.69156666666666,
           -50.375766666666664
          ]
         ],
         "hovertemplate": "<b>%{hovertext}</b><br><br>time=%{customdata[1]}<br>latitude=%{customdata[2]}<br>longitude=%{customdata[3]}<br>station=%{customdata[0]}<extra></extra>",
         "hovertext": [
          "GF18046"
         ],
         "lat": [
          64.69156666666666
         ],
         "legendgroup": "2018-05-04T15:26Z",
         "lon": [
          -50.375766666666664
         ],
         "marker": {
          "color": "#ab63fa"
         },
         "mode": "markers",
         "name": "2018-05-04T15:26Z",
         "showlegend": true,
         "subplot": "mapbox",
         "type": "scattermapbox"
        },
        {
         "customdata": [
          [
           "GF18087",
           "2018-08-09T10:45Z",
           64.26545,
           -51.6688
          ]
         ],
         "hovertemplate": "<b>%{hovertext}</b><br><br>time=%{customdata[1]}<br>latitude=%{customdata[2]}<br>longitude=%{customdata[3]}<br>station=%{customdata[0]}<extra></extra>",
         "hovertext": [
          "GF18087"
         ],
         "lat": [
          64.26545
         ],
         "legendgroup": "2018-08-09T10:45Z",
         "lon": [
          -51.6688
         ],
         "marker": {
          "color": "#FFA15A"
         },
         "mode": "markers",
         "name": "2018-08-09T10:45Z",
         "showlegend": true,
         "subplot": "mapbox",
         "type": "scattermapbox"
        },
        {
         "customdata": [
          [
           "GF18092",
           "2018-08-09T15:38Z",
           64.69398333333334,
           -50.370466666666665
          ]
         ],
         "hovertemplate": "<b>%{hovertext}</b><br><br>time=%{customdata[1]}<br>latitude=%{customdata[2]}<br>longitude=%{customdata[3]}<br>station=%{customdata[0]}<extra></extra>",
         "hovertext": [
          "GF18092"
         ],
         "lat": [
          64.69398333333334
         ],
         "legendgroup": "2018-08-09T15:38Z",
         "lon": [
          -50.370466666666665
         ],
         "marker": {
          "color": "#19d3f3"
         },
         "mode": "markers",
         "name": "2018-08-09T15:38Z",
         "showlegend": true,
         "subplot": "mapbox",
         "type": "scattermapbox"
        },
        {
         "customdata": [
          [
           "GF18086",
           "2018-08-08T15:42Z",
           64.51245,
           -51.39561666666667
          ]
         ],
         "hovertemplate": "<b>%{hovertext}</b><br><br>time=%{customdata[1]}<br>latitude=%{customdata[2]}<br>longitude=%{customdata[3]}<br>station=%{customdata[0]}<extra></extra>",
         "hovertext": [
          "GF18086"
         ],
         "lat": [
          64.51245
         ],
         "legendgroup": "2018-08-08T15:42Z",
         "lon": [
          -51.39561666666667
         ],
         "marker": {
          "color": "#FF6692"
         },
         "mode": "markers",
         "name": "2018-08-08T15:42Z",
         "showlegend": true,
         "subplot": "mapbox",
         "type": "scattermapbox"
        },
        {
         "customdata": [
          [
           "GF18045",
           "2018-05-04T14:54Z",
           64.64095,
           -50.2357
          ]
         ],
         "hovertemplate": "<b>%{hovertext}</b><br><br>time=%{customdata[1]}<br>latitude=%{customdata[2]}<br>longitude=%{customdata[3]}<br>station=%{customdata[0]}<extra></extra>",
         "hovertext": [
          "GF18045"
         ],
         "lat": [
          64.64095
         ],
         "legendgroup": "2018-05-04T14:54Z",
         "lon": [
          -50.2357
         ],
         "marker": {
          "color": "#B6E880"
         },
         "mode": "markers",
         "name": "2018-05-04T14:54Z",
         "showlegend": true,
         "subplot": "mapbox",
         "type": "scattermapbox"
        },
        {
         "customdata": [
          [
           "GF18041",
           "2018-05-04T10:38Z",
           64.26758333333333,
           -51.663183333333336
          ]
         ],
         "hovertemplate": "<b>%{hovertext}</b><br><br>time=%{customdata[1]}<br>latitude=%{customdata[2]}<br>longitude=%{customdata[3]}<br>station=%{customdata[0]}<extra></extra>",
         "hovertext": [
          "GF18041"
         ],
         "lat": [
          64.26758333333333
         ],
         "legendgroup": "2018-05-04T10:38Z",
         "lon": [
          -51.663183333333336
         ],
         "marker": {
          "color": "#FF97FF"
         },
         "mode": "markers",
         "name": "2018-05-04T10:38Z",
         "showlegend": true,
         "subplot": "mapbox",
         "type": "scattermapbox"
        },
        {
         "customdata": [
          [
           "GF18056",
           "2018-06-06T11:55Z",
           64.26428333333334,
           -51.66395
          ]
         ],
         "hovertemplate": "<b>%{hovertext}</b><br><br>time=%{customdata[1]}<br>latitude=%{customdata[2]}<br>longitude=%{customdata[3]}<br>station=%{customdata[0]}<extra></extra>",
         "hovertext": [
          "GF18056"
         ],
         "lat": [
          64.26428333333334
         ],
         "legendgroup": "2018-06-06T11:55Z",
         "lon": [
          -51.66395
         ],
         "marker": {
          "color": "#FECB52"
         },
         "mode": "markers",
         "name": "2018-06-06T11:55Z",
         "showlegend": true,
         "subplot": "mapbox",
         "type": "scattermapbox"
        },
        {
         "customdata": [
          [
           "GF18042",
           "2018-05-04T12:06Z",
           64.50761666666666,
           -51.3962
          ]
         ],
         "hovertemplate": "<b>%{hovertext}</b><br><br>time=%{customdata[1]}<br>latitude=%{customdata[2]}<br>longitude=%{customdata[3]}<br>station=%{customdata[0]}<extra></extra>",
         "hovertext": [
          "GF18042"
         ],
         "lat": [
          64.50761666666666
         ],
         "legendgroup": "2018-05-04T12:06Z",
         "lon": [
          -51.3962
         ],
         "marker": {
          "color": "#636efa"
         },
         "mode": "markers",
         "name": "2018-05-04T12:06Z",
         "showlegend": true,
         "subplot": "mapbox",
         "type": "scattermapbox"
        },
        {
         "customdata": [
          [
           "GF18043",
           "2018-05-04T13:10Z",
           64.6092,
           -50.95771666666667
          ]
         ],
         "hovertemplate": "<b>%{hovertext}</b><br><br>time=%{customdata[1]}<br>latitude=%{customdata[2]}<br>longitude=%{customdata[3]}<br>station=%{customdata[0]}<extra></extra>",
         "hovertext": [
          "GF18043"
         ],
         "lat": [
          64.6092
         ],
         "legendgroup": "2018-05-04T13:10Z",
         "lon": [
          -50.95771666666667
         ],
         "marker": {
          "color": "#EF553B"
         },
         "mode": "markers",
         "name": "2018-05-04T13:10Z",
         "showlegend": true,
         "subplot": "mapbox",
         "type": "scattermapbox"
        },
        {
         "customdata": [
          [
           "GF18057",
           "2018-06-06T12:33Z",
           64.38125,
           -51.585233333333335
          ]
         ],
         "hovertemplate": "<b>%{hovertext}</b><br><br>time=%{customdata[1]}<br>latitude=%{customdata[2]}<br>longitude=%{customdata[3]}<br>station=%{customdata[0]}<extra></extra>",
         "hovertext": [
          "GF18057"
         ],
         "lat": [
          64.38125
         ],
         "legendgroup": "2018-06-06T12:33Z",
         "lon": [
          -51.585233333333335
         ],
         "marker": {
          "color": "#00cc96"
         },
         "mode": "markers",
         "name": "2018-06-06T12:33Z",
         "showlegend": true,
         "subplot": "mapbox",
         "type": "scattermapbox"
        },
        {
         "customdata": [
          [
           "GF18033",
           "2018-04-03T10:55Z",
           64.26616666666666,
           -51.666333333333334
          ]
         ],
         "hovertemplate": "<b>%{hovertext}</b><br><br>time=%{customdata[1]}<br>latitude=%{customdata[2]}<br>longitude=%{customdata[3]}<br>station=%{customdata[0]}<extra></extra>",
         "hovertext": [
          "GF18033"
         ],
         "lat": [
          64.26616666666666
         ],
         "legendgroup": "2018-04-03T10:55Z",
         "lon": [
          -51.666333333333334
         ],
         "marker": {
          "color": "#ab63fa"
         },
         "mode": "markers",
         "name": "2018-04-03T10:55Z",
         "showlegend": true,
         "subplot": "mapbox",
         "type": "scattermapbox"
        },
        {
         "customdata": [
          [
           "GF18037",
           "2018-04-03T15:08Z",
           64.6095,
           -50.95745
          ]
         ],
         "hovertemplate": "<b>%{hovertext}</b><br><br>time=%{customdata[1]}<br>latitude=%{customdata[2]}<br>longitude=%{customdata[3]}<br>station=%{customdata[0]}<extra></extra>",
         "hovertext": [
          "GF18037"
         ],
         "lat": [
          64.6095
         ],
         "legendgroup": "2018-04-03T15:08Z",
         "lon": [
          -50.95745
         ],
         "marker": {
          "color": "#FFA15A"
         },
         "mode": "markers",
         "name": "2018-04-03T15:08Z",
         "showlegend": true,
         "subplot": "mapbox",
         "type": "scattermapbox"
        },
        {
         "customdata": [
          [
           "GF18035",
           "2018-04-03T13:50Z",
           64.69683333333333,
           -50.386466666666664
          ]
         ],
         "hovertemplate": "<b>%{hovertext}</b><br><br>time=%{customdata[1]}<br>latitude=%{customdata[2]}<br>longitude=%{customdata[3]}<br>station=%{customdata[0]}<extra></extra>",
         "hovertext": [
          "GF18035"
         ],
         "lat": [
          64.69683333333333
         ],
         "legendgroup": "2018-04-03T13:50Z",
         "lon": [
          -50.386466666666664
         ],
         "marker": {
          "color": "#19d3f3"
         },
         "mode": "markers",
         "name": "2018-04-03T13:50Z",
         "showlegend": true,
         "subplot": "mapbox",
         "type": "scattermapbox"
        },
        {
         "customdata": [
          [
           "GF18009",
           "2018-03-06T12:38Z",
           64.38151666666667,
           -51.583866666666665
          ]
         ],
         "hovertemplate": "<b>%{hovertext}</b><br><br>time=%{customdata[1]}<br>latitude=%{customdata[2]}<br>longitude=%{customdata[3]}<br>station=%{customdata[0]}<extra></extra>",
         "hovertext": [
          "GF18009"
         ],
         "lat": [
          64.38151666666667
         ],
         "legendgroup": "2018-03-06T12:38Z",
         "lon": [
          -51.583866666666665
         ],
         "marker": {
          "color": "#FF6692"
         },
         "mode": "markers",
         "name": "2018-03-06T12:38Z",
         "showlegend": true,
         "subplot": "mapbox",
         "type": "scattermapbox"
        },
        {
         "customdata": [
          [
           "GF18008",
           "2018-03-06T12:00Z",
           64.26535,
           -51.66665
          ]
         ],
         "hovertemplate": "<b>%{hovertext}</b><br><br>time=%{customdata[1]}<br>latitude=%{customdata[2]}<br>longitude=%{customdata[3]}<br>station=%{customdata[0]}<extra></extra>",
         "hovertext": [
          "GF18008"
         ],
         "lat": [
          64.26535
         ],
         "legendgroup": "2018-03-06T12:00Z",
         "lon": [
          -51.66665
         ],
         "marker": {
          "color": "#B6E880"
         },
         "mode": "markers",
         "name": "2018-03-06T12:00Z",
         "showlegend": true,
         "subplot": "mapbox",
         "type": "scattermapbox"
        },
        {
         "customdata": [
          [
           "GF18034",
           "2018-04-03T11:30Z",
           64.37816666666667,
           -51.58741666666667
          ]
         ],
         "hovertemplate": "<b>%{hovertext}</b><br><br>time=%{customdata[1]}<br>latitude=%{customdata[2]}<br>longitude=%{customdata[3]}<br>station=%{customdata[0]}<extra></extra>",
         "hovertext": [
          "GF18034"
         ],
         "lat": [
          64.37816666666667
         ],
         "legendgroup": "2018-04-03T11:30Z",
         "lon": [
          -51.58741666666667
         ],
         "marker": {
          "color": "#FF97FF"
         },
         "mode": "markers",
         "name": "2018-04-03T11:30Z",
         "showlegend": true,
         "subplot": "mapbox",
         "type": "scattermapbox"
        },
        {
         "customdata": [
          [
           "GF18039",
           "2018-04-03T16:19Z",
           64.50795,
           -51.40055
          ]
         ],
         "hovertemplate": "<b>%{hovertext}</b><br><br>time=%{customdata[1]}<br>latitude=%{customdata[2]}<br>longitude=%{customdata[3]}<br>station=%{customdata[0]}<extra></extra>",
         "hovertext": [
          "GF18039"
         ],
         "lat": [
          64.50795
         ],
         "legendgroup": "2018-04-03T16:19Z",
         "lon": [
          -51.40055
         ],
         "marker": {
          "color": "#FECB52"
         },
         "mode": "markers",
         "name": "2018-04-03T16:19Z",
         "showlegend": true,
         "subplot": "mapbox",
         "type": "scattermapbox"
        },
        {
         "customdata": [
          [
           "GF18011",
           "2018-03-06T14:32Z",
           64.60923333333334,
           -50.96005
          ]
         ],
         "hovertemplate": "<b>%{hovertext}</b><br><br>time=%{customdata[1]}<br>latitude=%{customdata[2]}<br>longitude=%{customdata[3]}<br>station=%{customdata[0]}<extra></extra>",
         "hovertext": [
          "GF18011"
         ],
         "lat": [
          64.60923333333334
         ],
         "legendgroup": "2018-03-06T14:32Z",
         "lon": [
          -50.96005
         ],
         "marker": {
          "color": "#636efa"
         },
         "mode": "markers",
         "name": "2018-03-06T14:32Z",
         "showlegend": true,
         "subplot": "mapbox",
         "type": "scattermapbox"
        },
        {
         "customdata": [
          [
           "GF18010",
           "2018-03-06T13:29Z",
           64.5059,
           -51.399166666666666
          ]
         ],
         "hovertemplate": "<b>%{hovertext}</b><br><br>time=%{customdata[1]}<br>latitude=%{customdata[2]}<br>longitude=%{customdata[3]}<br>station=%{customdata[0]}<extra></extra>",
         "hovertext": [
          "GF18010"
         ],
         "lat": [
          64.5059
         ],
         "legendgroup": "2018-03-06T13:29Z",
         "lon": [
          -51.399166666666666
         ],
         "marker": {
          "color": "#EF553B"
         },
         "mode": "markers",
         "name": "2018-03-06T13:29Z",
         "showlegend": true,
         "subplot": "mapbox",
         "type": "scattermapbox"
        },
        {
         "customdata": [
          [
           "GF18012",
           "2018-03-06T15:58Z",
           64.7119,
           -50.465466666666664
          ]
         ],
         "hovertemplate": "<b>%{hovertext}</b><br><br>time=%{customdata[1]}<br>latitude=%{customdata[2]}<br>longitude=%{customdata[3]}<br>station=%{customdata[0]}<extra></extra>",
         "hovertext": [
          "GF18012"
         ],
         "lat": [
          64.7119
         ],
         "legendgroup": "2018-03-06T15:58Z",
         "lon": [
          -50.465466666666664
         ],
         "marker": {
          "color": "#00cc96"
         },
         "mode": "markers",
         "name": "2018-03-06T15:58Z",
         "showlegend": true,
         "subplot": "mapbox",
         "type": "scattermapbox"
        },
        {
         "customdata": [
          [
           "GF18073",
           "2018-06-27T12:48Z",
           64.70371666666666,
           -50.59141666666667
          ]
         ],
         "hovertemplate": "<b>%{hovertext}</b><br><br>time=%{customdata[1]}<br>latitude=%{customdata[2]}<br>longitude=%{customdata[3]}<br>station=%{customdata[0]}<extra></extra>",
         "hovertext": [
          "GF18073"
         ],
         "lat": [
          64.70371666666666
         ],
         "legendgroup": "2018-06-27T12:48Z",
         "lon": [
          -50.59141666666667
         ],
         "marker": {
          "color": "#ab63fa"
         },
         "mode": "markers",
         "name": "2018-06-27T12:48Z",
         "showlegend": true,
         "subplot": "mapbox",
         "type": "scattermapbox"
        },
        {
         "customdata": [
          [
           "GF18065",
           "2018-06-11T14:02Z",
           64.72125,
           -50.50515
          ]
         ],
         "hovertemplate": "<b>%{hovertext}</b><br><br>time=%{customdata[1]}<br>latitude=%{customdata[2]}<br>longitude=%{customdata[3]}<br>station=%{customdata[0]}<extra></extra>",
         "hovertext": [
          "GF18065"
         ],
         "lat": [
          64.72125
         ],
         "legendgroup": "2018-06-11T14:02Z",
         "lon": [
          -50.50515
         ],
         "marker": {
          "color": "#FFA15A"
         },
         "mode": "markers",
         "name": "2018-06-11T14:02Z",
         "showlegend": true,
         "subplot": "mapbox",
         "type": "scattermapbox"
        },
        {
         "customdata": [
          [
           "GF18064",
           "2018-06-11T12:46Z",
           64.6121,
           -50.95133333333333
          ]
         ],
         "hovertemplate": "<b>%{hovertext}</b><br><br>time=%{customdata[1]}<br>latitude=%{customdata[2]}<br>longitude=%{customdata[3]}<br>station=%{customdata[0]}<extra></extra>",
         "hovertext": [
          "GF18064"
         ],
         "lat": [
          64.6121
         ],
         "legendgroup": "2018-06-11T12:46Z",
         "lon": [
          -50.95133333333333
         ],
         "marker": {
          "color": "#19d3f3"
         },
         "mode": "markers",
         "name": "2018-06-11T12:46Z",
         "showlegend": true,
         "subplot": "mapbox",
         "type": "scattermapbox"
        },
        {
         "customdata": [
          [
           "GF18058",
           "2018-06-06T13:30Z",
           64.50371666666666,
           -51.40116666666667
          ]
         ],
         "hovertemplate": "<b>%{hovertext}</b><br><br>time=%{customdata[1]}<br>latitude=%{customdata[2]}<br>longitude=%{customdata[3]}<br>station=%{customdata[0]}<extra></extra>",
         "hovertext": [
          "GF18058"
         ],
         "lat": [
          64.50371666666666
         ],
         "legendgroup": "2018-06-06T13:30Z",
         "lon": [
          -51.40116666666667
         ],
         "marker": {
          "color": "#FF6692"
         },
         "mode": "markers",
         "name": "2018-06-06T13:30Z",
         "showlegend": true,
         "subplot": "mapbox",
         "type": "scattermapbox"
        },
        {
         "customdata": [
          [
           "GF18060",
           "2018-06-06T15:04Z",
           64.60883333333334,
           -50.96086666666667
          ]
         ],
         "hovertemplate": "<b>%{hovertext}</b><br><br>time=%{customdata[1]}<br>latitude=%{customdata[2]}<br>longitude=%{customdata[3]}<br>station=%{customdata[0]}<extra></extra>",
         "hovertext": [
          "GF18060"
         ],
         "lat": [
          64.60883333333334
         ],
         "legendgroup": "2018-06-06T15:04Z",
         "lon": [
          -50.96086666666667
         ],
         "marker": {
          "color": "#B6E880"
         },
         "mode": "markers",
         "name": "2018-06-06T15:04Z",
         "showlegend": true,
         "subplot": "mapbox",
         "type": "scattermapbox"
        },
        {
         "customdata": [
          [
           "GF18074",
           "2018-06-27T13:48Z",
           64.60883333333334,
           -50.959183333333335
          ]
         ],
         "hovertemplate": "<b>%{hovertext}</b><br><br>time=%{customdata[1]}<br>latitude=%{customdata[2]}<br>longitude=%{customdata[3]}<br>station=%{customdata[0]}<extra></extra>",
         "hovertext": [
          "GF18074"
         ],
         "lat": [
          64.60883333333334
         ],
         "legendgroup": "2018-06-27T13:48Z",
         "lon": [
          -50.959183333333335
         ],
         "marker": {
          "color": "#FF97FF"
         },
         "mode": "markers",
         "name": "2018-06-27T13:48Z",
         "showlegend": true,
         "subplot": "mapbox",
         "type": "scattermapbox"
        },
        {
         "customdata": [
          [
           "GF18075",
           "2018-07-18T13:25Z",
           64.6031,
           -50.963566666666665
          ]
         ],
         "hovertemplate": "<b>%{hovertext}</b><br><br>time=%{customdata[1]}<br>latitude=%{customdata[2]}<br>longitude=%{customdata[3]}<br>station=%{customdata[0]}<extra></extra>",
         "hovertext": [
          "GF18075"
         ],
         "lat": [
          64.6031
         ],
         "legendgroup": "2018-07-18T13:25Z",
         "lon": [
          -50.963566666666665
         ],
         "marker": {
          "color": "#FECB52"
         },
         "mode": "markers",
         "name": "2018-07-18T13:25Z",
         "showlegend": true,
         "subplot": "mapbox",
         "type": "scattermapbox"
        },
        {
         "customdata": [
          [
           "GF18063",
           "2018-06-06T16:51Z",
           64.64276666666666,
           -50.87513333333333
          ]
         ],
         "hovertemplate": "<b>%{hovertext}</b><br><br>time=%{customdata[1]}<br>latitude=%{customdata[2]}<br>longitude=%{customdata[3]}<br>station=%{customdata[0]}<extra></extra>",
         "hovertext": [
          "GF18063"
         ],
         "lat": [
          64.64276666666666
         ],
         "legendgroup": "2018-06-06T16:51Z",
         "lon": [
          -50.87513333333333
         ],
         "marker": {
          "color": "#636efa"
         },
         "mode": "markers",
         "name": "2018-06-06T16:51Z",
         "showlegend": true,
         "subplot": "mapbox",
         "type": "scattermapbox"
        },
        {
         "customdata": [
          [
           "GF18088",
           "2018-08-09T11:22Z",
           64.38103333333333,
           -51.589283333333334
          ]
         ],
         "hovertemplate": "<b>%{hovertext}</b><br><br>time=%{customdata[1]}<br>latitude=%{customdata[2]}<br>longitude=%{customdata[3]}<br>station=%{customdata[0]}<extra></extra>",
         "hovertext": [
          "GF18088"
         ],
         "lat": [
          64.38103333333333
         ],
         "legendgroup": "2018-08-09T11:22Z",
         "lon": [
          -51.589283333333334
         ],
         "marker": {
          "color": "#EF553B"
         },
         "mode": "markers",
         "name": "2018-08-09T11:22Z",
         "showlegend": true,
         "subplot": "mapbox",
         "type": "scattermapbox"
        },
        {
         "customdata": [
          [
           "GF18089",
           "2018-08-09T12:17Z",
           64.50875,
           -51.383383333333335
          ]
         ],
         "hovertemplate": "<b>%{hovertext}</b><br><br>time=%{customdata[1]}<br>latitude=%{customdata[2]}<br>longitude=%{customdata[3]}<br>station=%{customdata[0]}<extra></extra>",
         "hovertext": [
          "GF18089"
         ],
         "lat": [
          64.50875
         ],
         "legendgroup": "2018-08-09T12:17Z",
         "lon": [
          -51.383383333333335
         ],
         "marker": {
          "color": "#00cc96"
         },
         "mode": "markers",
         "name": "2018-08-09T12:17Z",
         "showlegend": true,
         "subplot": "mapbox",
         "type": "scattermapbox"
        },
        {
         "customdata": [
          [
           "GF18076",
           "2018-07-18T16:40Z",
           64.61063333333334,
           -50.98728333333333
          ]
         ],
         "hovertemplate": "<b>%{hovertext}</b><br><br>time=%{customdata[1]}<br>latitude=%{customdata[2]}<br>longitude=%{customdata[3]}<br>station=%{customdata[0]}<extra></extra>",
         "hovertext": [
          "GF18076"
         ],
         "lat": [
          64.61063333333334
         ],
         "legendgroup": "2018-07-18T16:40Z",
         "lon": [
          -50.98728333333333
         ],
         "marker": {
          "color": "#ab63fa"
         },
         "mode": "markers",
         "name": "2018-07-18T16:40Z",
         "showlegend": true,
         "subplot": "mapbox",
         "type": "scattermapbox"
        },
        {
         "customdata": [
          [
           "GF18132",
           "2018-10-31T16:59Z",
           64.61083333333333,
           -50.953183333333335
          ]
         ],
         "hovertemplate": "<b>%{hovertext}</b><br><br>time=%{customdata[1]}<br>latitude=%{customdata[2]}<br>longitude=%{customdata[3]}<br>station=%{customdata[0]}<extra></extra>",
         "hovertext": [
          "GF18132"
         ],
         "lat": [
          64.61083333333333
         ],
         "legendgroup": "2018-10-31T16:59Z",
         "lon": [
          -50.953183333333335
         ],
         "marker": {
          "color": "#FFA15A"
         },
         "mode": "markers",
         "name": "2018-10-31T16:59Z",
         "showlegend": true,
         "subplot": "mapbox",
         "type": "scattermapbox"
        },
        {
         "customdata": [
          [
           "GF18130",
           "2018-10-31T15:31Z",
           64.63951666666667,
           -50.86225
          ]
         ],
         "hovertemplate": "<b>%{hovertext}</b><br><br>time=%{customdata[1]}<br>latitude=%{customdata[2]}<br>longitude=%{customdata[3]}<br>station=%{customdata[0]}<extra></extra>",
         "hovertext": [
          "GF18130"
         ],
         "lat": [
          64.63951666666667
         ],
         "legendgroup": "2018-10-31T15:31Z",
         "lon": [
          -50.86225
         ],
         "marker": {
          "color": "#19d3f3"
         },
         "mode": "markers",
         "name": "2018-10-31T15:31Z",
         "showlegend": true,
         "subplot": "mapbox",
         "type": "scattermapbox"
        },
        {
         "customdata": [
          [
           "GF18124",
           "2018-10-31T12:00Z",
           64.26616666666666,
           -51.66956666666667
          ]
         ],
         "hovertemplate": "<b>%{hovertext}</b><br><br>time=%{customdata[1]}<br>latitude=%{customdata[2]}<br>longitude=%{customdata[3]}<br>station=%{customdata[0]}<extra></extra>",
         "hovertext": [
          "GF18124"
         ],
         "lat": [
          64.26616666666666
         ],
         "legendgroup": "2018-10-31T12:00Z",
         "lon": [
          -51.66956666666667
         ],
         "marker": {
          "color": "#FF6692"
         },
         "mode": "markers",
         "name": "2018-10-31T12:00Z",
         "showlegend": true,
         "subplot": "mapbox",
         "type": "scattermapbox"
        },
        {
         "customdata": [
          [
           "GF18131",
           "2018-10-31T16:24Z",
           64.64425,
           -50.881483333333335
          ]
         ],
         "hovertemplate": "<b>%{hovertext}</b><br><br>time=%{customdata[1]}<br>latitude=%{customdata[2]}<br>longitude=%{customdata[3]}<br>station=%{customdata[0]}<extra></extra>",
         "hovertext": [
          "GF18131"
         ],
         "lat": [
          64.64425
         ],
         "legendgroup": "2018-10-31T16:24Z",
         "lon": [
          -50.881483333333335
         ],
         "marker": {
          "color": "#B6E880"
         },
         "mode": "markers",
         "name": "2018-10-31T16:24Z",
         "showlegend": true,
         "subplot": "mapbox",
         "type": "scattermapbox"
        },
        {
         "customdata": [
          [
           "GF18119",
           "2018-10-15T10:48Z",
           64.26443333333333,
           -51.666133333333335
          ]
         ],
         "hovertemplate": "<b>%{hovertext}</b><br><br>time=%{customdata[1]}<br>latitude=%{customdata[2]}<br>longitude=%{customdata[3]}<br>station=%{customdata[0]}<extra></extra>",
         "hovertext": [
          "GF18119"
         ],
         "lat": [
          64.26443333333333
         ],
         "legendgroup": "2018-10-15T10:48Z",
         "lon": [
          -51.666133333333335
         ],
         "marker": {
          "color": "#FF97FF"
         },
         "mode": "markers",
         "name": "2018-10-15T10:48Z",
         "showlegend": true,
         "subplot": "mapbox",
         "type": "scattermapbox"
        },
        {
         "customdata": [
          [
           "GF18135",
           "2018-12-11T11:58Z",
           64.26701666666666,
           -51.66623333333333
          ]
         ],
         "hovertemplate": "<b>%{hovertext}</b><br><br>time=%{customdata[1]}<br>latitude=%{customdata[2]}<br>longitude=%{customdata[3]}<br>station=%{customdata[0]}<extra></extra>",
         "hovertext": [
          "GF18135"
         ],
         "lat": [
          64.26701666666666
         ],
         "legendgroup": "2018-12-11T11:58Z",
         "lon": [
          -51.66623333333333
         ],
         "marker": {
          "color": "#FECB52"
         },
         "mode": "markers",
         "name": "2018-12-11T11:58Z",
         "showlegend": true,
         "subplot": "mapbox",
         "type": "scattermapbox"
        },
        {
         "customdata": [
          [
           "GF18121",
           "2018-10-15T12:20Z",
           64.50596666666667,
           -51.402033333333335
          ]
         ],
         "hovertemplate": "<b>%{hovertext}</b><br><br>time=%{customdata[1]}<br>latitude=%{customdata[2]}<br>longitude=%{customdata[3]}<br>station=%{customdata[0]}<extra></extra>",
         "hovertext": [
          "GF18121"
         ],
         "lat": [
          64.50596666666667
         ],
         "legendgroup": "2018-10-15T12:20Z",
         "lon": [
          -51.402033333333335
         ],
         "marker": {
          "color": "#636efa"
         },
         "mode": "markers",
         "name": "2018-10-15T12:20Z",
         "showlegend": true,
         "subplot": "mapbox",
         "type": "scattermapbox"
        },
        {
         "customdata": [
          [
           "GF18120",
           "2018-10-15T11:26Z",
           64.37836666666666,
           -51.59101666666667
          ]
         ],
         "hovertemplate": "<b>%{hovertext}</b><br><br>time=%{customdata[1]}<br>latitude=%{customdata[2]}<br>longitude=%{customdata[3]}<br>station=%{customdata[0]}<extra></extra>",
         "hovertext": [
          "GF18120"
         ],
         "lat": [
          64.37836666666666
         ],
         "legendgroup": "2018-10-15T11:26Z",
         "lon": [
          -51.59101666666667
         ],
         "marker": {
          "color": "#EF553B"
         },
         "mode": "markers",
         "name": "2018-10-15T11:26Z",
         "showlegend": true,
         "subplot": "mapbox",
         "type": "scattermapbox"
        },
        {
         "customdata": [
          [
           "GF18122",
           "2018-10-15T13:16Z",
           64.60703333333333,
           -50.96986666666667
          ]
         ],
         "hovertemplate": "<b>%{hovertext}</b><br><br>time=%{customdata[1]}<br>latitude=%{customdata[2]}<br>longitude=%{customdata[3]}<br>station=%{customdata[0]}<extra></extra>",
         "hovertext": [
          "GF18122"
         ],
         "lat": [
          64.60703333333333
         ],
         "legendgroup": "2018-10-15T13:16Z",
         "lon": [
          -50.96986666666667
         ],
         "marker": {
          "color": "#00cc96"
         },
         "mode": "markers",
         "name": "2018-10-15T13:16Z",
         "showlegend": true,
         "subplot": "mapbox",
         "type": "scattermapbox"
        },
        {
         "customdata": [
          [
           "GF18136",
           "2018-12-11T12:37Z",
           64.38118333333334,
           -51.5886
          ]
         ],
         "hovertemplate": "<b>%{hovertext}</b><br><br>time=%{customdata[1]}<br>latitude=%{customdata[2]}<br>longitude=%{customdata[3]}<br>station=%{customdata[0]}<extra></extra>",
         "hovertext": [
          "GF18136"
         ],
         "lat": [
          64.38118333333334
         ],
         "legendgroup": "2018-12-11T12:37Z",
         "lon": [
          -51.5886
         ],
         "marker": {
          "color": "#ab63fa"
         },
         "mode": "markers",
         "name": "2018-12-11T12:37Z",
         "showlegend": true,
         "subplot": "mapbox",
         "type": "scattermapbox"
        },
        {
         "customdata": [
          [
           "GF18137",
           "2018-12-11T13:41Z",
           64.50586666666666,
           -51.39745
          ]
         ],
         "hovertemplate": "<b>%{hovertext}</b><br><br>time=%{customdata[1]}<br>latitude=%{customdata[2]}<br>longitude=%{customdata[3]}<br>station=%{customdata[0]}<extra></extra>",
         "hovertext": [
          "GF18137"
         ],
         "lat": [
          64.50586666666666
         ],
         "legendgroup": "2018-12-11T13:41Z",
         "lon": [
          -51.39745
         ],
         "marker": {
          "color": "#FFA15A"
         },
         "mode": "markers",
         "name": "2018-12-11T13:41Z",
         "showlegend": true,
         "subplot": "mapbox",
         "type": "scattermapbox"
        },
        {
         "customdata": [
          [
           "GF18123",
           "2018-10-15T13:56Z",
           64.65055,
           -50.833666666666666
          ]
         ],
         "hovertemplate": "<b>%{hovertext}</b><br><br>time=%{customdata[1]}<br>latitude=%{customdata[2]}<br>longitude=%{customdata[3]}<br>station=%{customdata[0]}<extra></extra>",
         "hovertext": [
          "GF18123"
         ],
         "lat": [
          64.65055
         ],
         "legendgroup": "2018-10-15T13:56Z",
         "lon": [
          -50.833666666666666
         ],
         "marker": {
          "color": "#19d3f3"
         },
         "mode": "markers",
         "name": "2018-10-15T13:56Z",
         "showlegend": true,
         "subplot": "mapbox",
         "type": "scattermapbox"
        },
        {
         "customdata": [
          [
           "GF18140",
           "2018-12-11T16:08Z",
           64.6088,
           -50.9591
          ]
         ],
         "hovertemplate": "<b>%{hovertext}</b><br><br>time=%{customdata[1]}<br>latitude=%{customdata[2]}<br>longitude=%{customdata[3]}<br>station=%{customdata[0]}<extra></extra>",
         "hovertext": [
          "GF18140"
         ],
         "lat": [
          64.6088
         ],
         "legendgroup": "2018-12-11T16:08Z",
         "lon": [
          -50.9591
         ],
         "marker": {
          "color": "#FF6692"
         },
         "mode": "markers",
         "name": "2018-12-11T16:08Z",
         "showlegend": true,
         "subplot": "mapbox",
         "type": "scattermapbox"
        },
        {
         "customdata": [
          [
           "GF18005",
           "2018-01-09T13:11Z",
           64.37985,
           -51.58755
          ]
         ],
         "hovertemplate": "<b>%{hovertext}</b><br><br>time=%{customdata[1]}<br>latitude=%{customdata[2]}<br>longitude=%{customdata[3]}<br>station=%{customdata[0]}<extra></extra>",
         "hovertext": [
          "GF18005"
         ],
         "lat": [
          64.37985
         ],
         "legendgroup": "2018-01-09T13:11Z",
         "lon": [
          -51.58755
         ],
         "marker": {
          "color": "#B6E880"
         },
         "mode": "markers",
         "name": "2018-01-09T13:11Z",
         "showlegend": true,
         "subplot": "mapbox",
         "type": "scattermapbox"
        },
        {
         "customdata": [
          [
           "GF18006",
           "2018-01-09T14:04Z",
           64.5061,
           -51.400933333333334
          ]
         ],
         "hovertemplate": "<b>%{hovertext}</b><br><br>time=%{customdata[1]}<br>latitude=%{customdata[2]}<br>longitude=%{customdata[3]}<br>station=%{customdata[0]}<extra></extra>",
         "hovertext": [
          "GF18006"
         ],
         "lat": [
          64.5061
         ],
         "legendgroup": "2018-01-09T14:04Z",
         "lon": [
          -51.400933333333334
         ],
         "marker": {
          "color": "#FF97FF"
         },
         "mode": "markers",
         "name": "2018-01-09T14:04Z",
         "showlegend": true,
         "subplot": "mapbox",
         "type": "scattermapbox"
        },
        {
         "customdata": [
          [
           "GF18007",
           "2018-01-09T15:36Z",
           64.60901666666666,
           -50.96438333333333
          ]
         ],
         "hovertemplate": "<b>%{hovertext}</b><br><br>time=%{customdata[1]}<br>latitude=%{customdata[2]}<br>longitude=%{customdata[3]}<br>station=%{customdata[0]}<extra></extra>",
         "hovertext": [
          "GF18007"
         ],
         "lat": [
          64.60901666666666
         ],
         "legendgroup": "2018-01-09T15:36Z",
         "lon": [
          -50.96438333333333
         ],
         "marker": {
          "color": "#FECB52"
         },
         "mode": "markers",
         "name": "2018-01-09T15:36Z",
         "showlegend": true,
         "subplot": "mapbox",
         "type": "scattermapbox"
        },
        {
         "customdata": [
          [
           "GF18001",
           "2018-01-09T12:05Z",
           64.26646666666667,
           -51.664433333333335
          ]
         ],
         "hovertemplate": "<b>%{hovertext}</b><br><br>time=%{customdata[1]}<br>latitude=%{customdata[2]}<br>longitude=%{customdata[3]}<br>station=%{customdata[0]}<extra></extra>",
         "hovertext": [
          "GF18001"
         ],
         "lat": [
          64.26646666666667
         ],
         "legendgroup": "2018-01-09T12:05Z",
         "lon": [
          -51.664433333333335
         ],
         "marker": {
          "color": "#636efa"
         },
         "mode": "markers",
         "name": "2018-01-09T12:05Z",
         "showlegend": true,
         "subplot": "mapbox",
         "type": "scattermapbox"
        },
        {
         "customdata": [
          [
           "GF18128",
           "2018-10-31T13:05Z",
           64.38143333333333,
           -51.58606666666667
          ]
         ],
         "hovertemplate": "<b>%{hovertext}</b><br><br>time=%{customdata[1]}<br>latitude=%{customdata[2]}<br>longitude=%{customdata[3]}<br>station=%{customdata[0]}<extra></extra>",
         "hovertext": [
          "GF18128"
         ],
         "lat": [
          64.38143333333333
         ],
         "legendgroup": "2018-10-31T13:05Z",
         "lon": [
          -51.58606666666667
         ],
         "marker": {
          "color": "#EF553B"
         },
         "mode": "markers",
         "name": "2018-10-31T13:05Z",
         "showlegend": true,
         "subplot": "mapbox",
         "type": "scattermapbox"
        },
        {
         "customdata": [
          [
           "GF18129",
           "2018-10-31T14:06Z",
           64.50613333333334,
           -51.400666666666666
          ]
         ],
         "hovertemplate": "<b>%{hovertext}</b><br><br>time=%{customdata[1]}<br>latitude=%{customdata[2]}<br>longitude=%{customdata[3]}<br>station=%{customdata[0]}<extra></extra>",
         "hovertext": [
          "GF18129"
         ],
         "lat": [
          64.50613333333334
         ],
         "legendgroup": "2018-10-31T14:06Z",
         "lon": [
          -51.400666666666666
         ],
         "marker": {
          "color": "#00cc96"
         },
         "mode": "markers",
         "name": "2018-10-31T14:06Z",
         "showlegend": true,
         "subplot": "mapbox",
         "type": "scattermapbox"
        },
        {
         "customdata": [
          [
           "GF18106",
           "2018-09-06T10:52Z",
           64.26656666666666,
           -51.66641666666666
          ]
         ],
         "hovertemplate": "<b>%{hovertext}</b><br><br>time=%{customdata[1]}<br>latitude=%{customdata[2]}<br>longitude=%{customdata[3]}<br>station=%{customdata[0]}<extra></extra>",
         "hovertext": [
          "GF18106"
         ],
         "lat": [
          64.26656666666666
         ],
         "legendgroup": "2018-09-06T10:52Z",
         "lon": [
          -51.66641666666666
         ],
         "marker": {
          "color": "#ab63fa"
         },
         "mode": "markers",
         "name": "2018-09-06T10:52Z",
         "showlegend": true,
         "subplot": "mapbox",
         "type": "scattermapbox"
        },
        {
         "customdata": [
          [
           "GF18111",
           "2018-09-06T13:14Z",
           64.50735,
           -51.39995
          ]
         ],
         "hovertemplate": "<b>%{hovertext}</b><br><br>time=%{customdata[1]}<br>latitude=%{customdata[2]}<br>longitude=%{customdata[3]}<br>station=%{customdata[0]}<extra></extra>",
         "hovertext": [
          "GF18111"
         ],
         "lat": [
          64.50735
         ],
         "legendgroup": "2018-09-06T13:14Z",
         "lon": [
          -51.39995
         ],
         "marker": {
          "color": "#FFA15A"
         },
         "mode": "markers",
         "name": "2018-09-06T13:14Z",
         "showlegend": true,
         "subplot": "mapbox",
         "type": "scattermapbox"
        },
        {
         "customdata": [
          [
           "GF18110",
           "2018-09-06T12:18Z",
           64.38118333333334,
           -51.58291666666667
          ]
         ],
         "hovertemplate": "<b>%{hovertext}</b><br><br>time=%{customdata[1]}<br>latitude=%{customdata[2]}<br>longitude=%{customdata[3]}<br>station=%{customdata[0]}<extra></extra>",
         "hovertext": [
          "GF18110"
         ],
         "lat": [
          64.38118333333334
         ],
         "legendgroup": "2018-09-06T12:18Z",
         "lon": [
          -51.58291666666667
         ],
         "marker": {
          "color": "#19d3f3"
         },
         "mode": "markers",
         "name": "2018-09-06T12:18Z",
         "showlegend": true,
         "subplot": "mapbox",
         "type": "scattermapbox"
        },
        {
         "customdata": [
          [
           "GF18115",
           "2018-09-06T14:59Z",
           64.60996666666666,
           -50.957566666666665
          ]
         ],
         "hovertemplate": "<b>%{hovertext}</b><br><br>time=%{customdata[1]}<br>latitude=%{customdata[2]}<br>longitude=%{customdata[3]}<br>station=%{customdata[0]}<extra></extra>",
         "hovertext": [
          "GF18115"
         ],
         "lat": [
          64.60996666666666
         ],
         "legendgroup": "2018-09-06T14:59Z",
         "lon": [
          -50.957566666666665
         ],
         "marker": {
          "color": "#FF6692"
         },
         "mode": "markers",
         "name": "2018-09-06T14:59Z",
         "showlegend": true,
         "subplot": "mapbox",
         "type": "scattermapbox"
        },
        {
         "customdata": [
          [
           "GF18061",
           "2018-06-06T15:42Z",
           64.60858333333333,
           -50.96053333333333
          ]
         ],
         "hovertemplate": "<b>%{hovertext}</b><br><br>time=%{customdata[1]}<br>latitude=%{customdata[2]}<br>longitude=%{customdata[3]}<br>station=%{customdata[0]}<extra></extra>",
         "hovertext": [
          "GF18061"
         ],
         "lat": [
          64.60858333333333
         ],
         "legendgroup": "2018-06-06T15:42Z",
         "lon": [
          -50.96053333333333
         ],
         "marker": {
          "color": "#B6E880"
         },
         "mode": "markers",
         "name": "2018-06-06T15:42Z",
         "showlegend": true,
         "subplot": "mapbox",
         "type": "scattermapbox"
        },
        {
         "customdata": [
          [
           "GF18116",
           "2018-09-06T16:39Z",
           64.68206666666667,
           -50.30056666666667
          ]
         ],
         "hovertemplate": "<b>%{hovertext}</b><br><br>time=%{customdata[1]}<br>latitude=%{customdata[2]}<br>longitude=%{customdata[3]}<br>station=%{customdata[0]}<extra></extra>",
         "hovertext": [
          "GF18116"
         ],
         "lat": [
          64.68206666666667
         ],
         "legendgroup": "2018-09-06T16:39Z",
         "lon": [
          -50.30056666666667
         ],
         "marker": {
          "color": "#FF97FF"
         },
         "mode": "markers",
         "name": "2018-09-06T16:39Z",
         "showlegend": true,
         "subplot": "mapbox",
         "type": "scattermapbox"
        },
        {
         "customdata": [
          [
           "GF19154",
           "2019-10-17T12:39Z",
           64.6091,
           -50.96425
          ]
         ],
         "hovertemplate": "<b>%{hovertext}</b><br><br>time=%{customdata[1]}<br>latitude=%{customdata[2]}<br>longitude=%{customdata[3]}<br>station=%{customdata[0]}<extra></extra>",
         "hovertext": [
          "GF19154"
         ],
         "lat": [
          64.6091
         ],
         "legendgroup": "2019-10-17T12:39Z",
         "lon": [
          -50.96425
         ],
         "marker": {
          "color": "#FECB52"
         },
         "mode": "markers",
         "name": "2019-10-17T12:39Z",
         "showlegend": true,
         "subplot": "mapbox",
         "type": "scattermapbox"
        },
        {
         "customdata": [
          [
           "GF19155",
           "2019-10-17T13:42Z",
           64.50955,
           -51.3898
          ]
         ],
         "hovertemplate": "<b>%{hovertext}</b><br><br>time=%{customdata[1]}<br>latitude=%{customdata[2]}<br>longitude=%{customdata[3]}<br>station=%{customdata[0]}<extra></extra>",
         "hovertext": [
          "GF19155"
         ],
         "lat": [
          64.50955
         ],
         "legendgroup": "2019-10-17T13:42Z",
         "lon": [
          -51.3898
         ],
         "marker": {
          "color": "#636efa"
         },
         "mode": "markers",
         "name": "2019-10-17T13:42Z",
         "showlegend": true,
         "subplot": "mapbox",
         "type": "scattermapbox"
        },
        {
         "customdata": [
          [
           "GF19157",
           "2019-10-17T15:37Z",
           64.2652,
           -51.666183333333336
          ]
         ],
         "hovertemplate": "<b>%{hovertext}</b><br><br>time=%{customdata[1]}<br>latitude=%{customdata[2]}<br>longitude=%{customdata[3]}<br>station=%{customdata[0]}<extra></extra>",
         "hovertext": [
          "GF19157"
         ],
         "lat": [
          64.2652
         ],
         "legendgroup": "2019-10-17T15:37Z",
         "lon": [
          -51.666183333333336
         ],
         "marker": {
          "color": "#EF553B"
         },
         "mode": "markers",
         "name": "2019-10-17T15:37Z",
         "showlegend": true,
         "subplot": "mapbox",
         "type": "scattermapbox"
        },
        {
         "customdata": [
          [
           "GF19156",
           "2019-10-17T14:39Z",
           64.37851666666667,
           -51.58983333333333
          ]
         ],
         "hovertemplate": "<b>%{hovertext}</b><br><br>time=%{customdata[1]}<br>latitude=%{customdata[2]}<br>longitude=%{customdata[3]}<br>station=%{customdata[0]}<extra></extra>",
         "hovertext": [
          "GF19156"
         ],
         "lat": [
          64.37851666666667
         ],
         "legendgroup": "2019-10-17T14:39Z",
         "lon": [
          -51.58983333333333
         ],
         "marker": {
          "color": "#00cc96"
         },
         "mode": "markers",
         "name": "2019-10-17T14:39Z",
         "showlegend": true,
         "subplot": "mapbox",
         "type": "scattermapbox"
        },
        {
         "customdata": [
          [
           "GF19167",
           "2019-12-12T16:01Z",
           64.70318333333333,
           -50.65345
          ]
         ],
         "hovertemplate": "<b>%{hovertext}</b><br><br>time=%{customdata[1]}<br>latitude=%{customdata[2]}<br>longitude=%{customdata[3]}<br>station=%{customdata[0]}<extra></extra>",
         "hovertext": [
          "GF19167"
         ],
         "lat": [
          64.70318333333333
         ],
         "legendgroup": "2019-12-12T16:01Z",
         "lon": [
          -50.65345
         ],
         "marker": {
          "color": "#ab63fa"
         },
         "mode": "markers",
         "name": "2019-12-12T16:01Z",
         "showlegend": true,
         "subplot": "mapbox",
         "type": "scattermapbox"
        },
        {
         "customdata": [
          [
           "GF19166",
           "2019-12-12T14:56Z",
           64.60903333333333,
           -50.964216666666665
          ]
         ],
         "hovertemplate": "<b>%{hovertext}</b><br><br>time=%{customdata[1]}<br>latitude=%{customdata[2]}<br>longitude=%{customdata[3]}<br>station=%{customdata[0]}<extra></extra>",
         "hovertext": [
          "GF19166"
         ],
         "lat": [
          64.60903333333333
         ],
         "legendgroup": "2019-12-12T14:56Z",
         "lon": [
          -50.964216666666665
         ],
         "marker": {
          "color": "#FFA15A"
         },
         "mode": "markers",
         "name": "2019-12-12T14:56Z",
         "showlegend": true,
         "subplot": "mapbox",
         "type": "scattermapbox"
        },
        {
         "customdata": [
          [
           "GF19164",
           "2019-12-12T12:55Z",
           64.38003333333333,
           -51.58658333333333
          ]
         ],
         "hovertemplate": "<b>%{hovertext}</b><br><br>time=%{customdata[1]}<br>latitude=%{customdata[2]}<br>longitude=%{customdata[3]}<br>station=%{customdata[0]}<extra></extra>",
         "hovertext": [
          "GF19164"
         ],
         "lat": [
          64.38003333333333
         ],
         "legendgroup": "2019-12-12T12:55Z",
         "lon": [
          -51.58658333333333
         ],
         "marker": {
          "color": "#19d3f3"
         },
         "mode": "markers",
         "name": "2019-12-12T12:55Z",
         "showlegend": true,
         "subplot": "mapbox",
         "type": "scattermapbox"
        },
        {
         "customdata": [
          [
           "GF19158",
           "2019-11-05T12:07Z",
           64.26483333333333,
           -51.668683333333334
          ]
         ],
         "hovertemplate": "<b>%{hovertext}</b><br><br>time=%{customdata[1]}<br>latitude=%{customdata[2]}<br>longitude=%{customdata[3]}<br>station=%{customdata[0]}<extra></extra>",
         "hovertext": [
          "GF19158"
         ],
         "lat": [
          64.26483333333333
         ],
         "legendgroup": "2019-11-05T12:07Z",
         "lon": [
          -51.668683333333334
         ],
         "marker": {
          "color": "#FF6692"
         },
         "mode": "markers",
         "name": "2019-11-05T12:07Z",
         "showlegend": true,
         "subplot": "mapbox",
         "type": "scattermapbox"
        },
        {
         "customdata": [
          [
           "GF19038",
           "2019-05-06T15:33Z",
           64.71558333333333,
           -50.54881666666667
          ]
         ],
         "hovertemplate": "<b>%{hovertext}</b><br><br>time=%{customdata[1]}<br>latitude=%{customdata[2]}<br>longitude=%{customdata[3]}<br>station=%{customdata[0]}<extra></extra>",
         "hovertext": [
          "GF19038"
         ],
         "lat": [
          64.71558333333333
         ],
         "legendgroup": "2019-05-06T15:33Z",
         "lon": [
          -50.54881666666667
         ],
         "marker": {
          "color": "#B6E880"
         },
         "mode": "markers",
         "name": "2019-05-06T15:33Z",
         "showlegend": true,
         "subplot": "mapbox",
         "type": "scattermapbox"
        },
        {
         "customdata": [
          [
           "GF19159",
           "2019-11-05T12:54Z",
           64.37931666666667,
           -51.589866666666666
          ]
         ],
         "hovertemplate": "<b>%{hovertext}</b><br><br>time=%{customdata[1]}<br>latitude=%{customdata[2]}<br>longitude=%{customdata[3]}<br>station=%{customdata[0]}<extra></extra>",
         "hovertext": [
          "GF19159"
         ],
         "lat": [
          64.37931666666667
         ],
         "legendgroup": "2019-11-05T12:54Z",
         "lon": [
          -51.589866666666666
         ],
         "marker": {
          "color": "#FF97FF"
         },
         "mode": "markers",
         "name": "2019-11-05T12:54Z",
         "showlegend": true,
         "subplot": "mapbox",
         "type": "scattermapbox"
        },
        {
         "customdata": [
          [
           "GF19165",
           "2019-12-12T13:49Z",
           64.5075,
           -51.40025
          ]
         ],
         "hovertemplate": "<b>%{hovertext}</b><br><br>time=%{customdata[1]}<br>latitude=%{customdata[2]}<br>longitude=%{customdata[3]}<br>station=%{customdata[0]}<extra></extra>",
         "hovertext": [
          "GF19165"
         ],
         "lat": [
          64.5075
         ],
         "legendgroup": "2019-12-12T13:49Z",
         "lon": [
          -51.40025
         ],
         "marker": {
          "color": "#FECB52"
         },
         "mode": "markers",
         "name": "2019-12-12T13:49Z",
         "showlegend": true,
         "subplot": "mapbox",
         "type": "scattermapbox"
        },
        {
         "customdata": [
          [
           "GF19161",
           "2019-11-05T14:48Z",
           64.60855,
           -50.95935
          ]
         ],
         "hovertemplate": "<b>%{hovertext}</b><br><br>time=%{customdata[1]}<br>latitude=%{customdata[2]}<br>longitude=%{customdata[3]}<br>station=%{customdata[0]}<extra></extra>",
         "hovertext": [
          "GF19161"
         ],
         "lat": [
          64.60855
         ],
         "legendgroup": "2019-11-05T14:48Z",
         "lon": [
          -50.95935
         ],
         "marker": {
          "color": "#636efa"
         },
         "mode": "markers",
         "name": "2019-11-05T14:48Z",
         "showlegend": true,
         "subplot": "mapbox",
         "type": "scattermapbox"
        },
        {
         "customdata": [
          [
           "GF19160",
           "2019-11-05T13:45Z",
           64.5073,
           -51.39983333333333
          ]
         ],
         "hovertemplate": "<b>%{hovertext}</b><br><br>time=%{customdata[1]}<br>latitude=%{customdata[2]}<br>longitude=%{customdata[3]}<br>station=%{customdata[0]}<extra></extra>",
         "hovertext": [
          "GF19160"
         ],
         "lat": [
          64.5073
         ],
         "legendgroup": "2019-11-05T13:45Z",
         "lon": [
          -51.39983333333333
         ],
         "marker": {
          "color": "#EF553B"
         },
         "mode": "markers",
         "name": "2019-11-05T13:45Z",
         "showlegend": true,
         "subplot": "mapbox",
         "type": "scattermapbox"
        },
        {
         "customdata": [
          [
           "GF19162",
           "2019-11-05T15:57Z",
           64.70068333333333,
           -50.389383333333335
          ]
         ],
         "hovertemplate": "<b>%{hovertext}</b><br><br>time=%{customdata[1]}<br>latitude=%{customdata[2]}<br>longitude=%{customdata[3]}<br>station=%{customdata[0]}<extra></extra>",
         "hovertext": [
          "GF19162"
         ],
         "lat": [
          64.70068333333333
         ],
         "legendgroup": "2019-11-05T15:57Z",
         "lon": [
          -50.389383333333335
         ],
         "marker": {
          "color": "#00cc96"
         },
         "mode": "markers",
         "name": "2019-11-05T15:57Z",
         "showlegend": true,
         "subplot": "mapbox",
         "type": "scattermapbox"
        },
        {
         "customdata": [
          [
           "GF19163",
           "2019-12-12T12:17Z",
           64.26595,
           -51.66833333333334
          ]
         ],
         "hovertemplate": "<b>%{hovertext}</b><br><br>time=%{customdata[1]}<br>latitude=%{customdata[2]}<br>longitude=%{customdata[3]}<br>station=%{customdata[0]}<extra></extra>",
         "hovertext": [
          "GF19163"
         ],
         "lat": [
          64.26595
         ],
         "legendgroup": "2019-12-12T12:17Z",
         "lon": [
          -51.66833333333334
         ],
         "marker": {
          "color": "#ab63fa"
         },
         "mode": "markers",
         "name": "2019-12-12T12:17Z",
         "showlegend": true,
         "subplot": "mapbox",
         "type": "scattermapbox"
        },
        {
         "customdata": [
          [
           "GF19110",
           "2019-09-10T17:06Z",
           64.26661666666666,
           -51.66838333333333
          ]
         ],
         "hovertemplate": "<b>%{hovertext}</b><br><br>time=%{customdata[1]}<br>latitude=%{customdata[2]}<br>longitude=%{customdata[3]}<br>station=%{customdata[0]}<extra></extra>",
         "hovertext": [
          "GF19110"
         ],
         "lat": [
          64.26661666666666
         ],
         "legendgroup": "2019-09-10T17:06Z",
         "lon": [
          -51.66838333333333
         ],
         "marker": {
          "color": "#FFA15A"
         },
         "mode": "markers",
         "name": "2019-09-10T17:06Z",
         "showlegend": true,
         "subplot": "mapbox",
         "type": "scattermapbox"
        },
        {
         "customdata": [
          [
           "GF19104",
           "2019-08-27T17:09Z",
           64.6842,
           -50.749916666666664
          ]
         ],
         "hovertemplate": "<b>%{hovertext}</b><br><br>time=%{customdata[1]}<br>latitude=%{customdata[2]}<br>longitude=%{customdata[3]}<br>station=%{customdata[0]}<extra></extra>",
         "hovertext": [
          "GF19104"
         ],
         "lat": [
          64.6842
         ],
         "legendgroup": "2019-08-27T17:09Z",
         "lon": [
          -50.749916666666664
         ],
         "marker": {
          "color": "#19d3f3"
         },
         "mode": "markers",
         "name": "2019-08-27T17:09Z",
         "showlegend": true,
         "subplot": "mapbox",
         "type": "scattermapbox"
        },
        {
         "customdata": [
          [
           "GF19064",
           "2019-07-01T15:38Z",
           64.66825,
           -50.24998333333333
          ]
         ],
         "hovertemplate": "<b>%{hovertext}</b><br><br>time=%{customdata[1]}<br>latitude=%{customdata[2]}<br>longitude=%{customdata[3]}<br>station=%{customdata[0]}<extra></extra>",
         "hovertext": [
          "GF19064"
         ],
         "lat": [
          64.66825
         ],
         "legendgroup": "2019-07-01T15:38Z",
         "lon": [
          -50.24998333333333
         ],
         "marker": {
          "color": "#FF6692"
         },
         "mode": "markers",
         "name": "2019-07-01T15:38Z",
         "showlegend": true,
         "subplot": "mapbox",
         "type": "scattermapbox"
        },
        {
         "customdata": [
          [
           "GF19070",
           "2019-07-18T12:53Z",
           64.6681,
           -50.2521
          ]
         ],
         "hovertemplate": "<b>%{hovertext}</b><br><br>time=%{customdata[1]}<br>latitude=%{customdata[2]}<br>longitude=%{customdata[3]}<br>station=%{customdata[0]}<extra></extra>",
         "hovertext": [
          "GF19070"
         ],
         "lat": [
          64.6681
         ],
         "legendgroup": "2019-07-18T12:53Z",
         "lon": [
          -50.2521
         ],
         "marker": {
          "color": "#B6E880"
         },
         "mode": "markers",
         "name": "2019-07-18T12:53Z",
         "showlegend": true,
         "subplot": "mapbox",
         "type": "scattermapbox"
        },
        {
         "customdata": [
          [
           "GF19058",
           "2019-07-01T10:40Z",
           64.26671666666667,
           -51.668866666666666
          ]
         ],
         "hovertemplate": "<b>%{hovertext}</b><br><br>time=%{customdata[1]}<br>latitude=%{customdata[2]}<br>longitude=%{customdata[3]}<br>station=%{customdata[0]}<extra></extra>",
         "hovertext": [
          "GF19058"
         ],
         "lat": [
          64.26671666666667
         ],
         "legendgroup": "2019-07-01T10:40Z",
         "lon": [
          -51.668866666666666
         ],
         "marker": {
          "color": "#FF97FF"
         },
         "mode": "markers",
         "name": "2019-07-01T10:40Z",
         "showlegend": true,
         "subplot": "mapbox",
         "type": "scattermapbox"
        },
        {
         "customdata": [
          [
           "GF19059",
           "2019-07-01T11:17Z",
           64.38053333333333,
           -51.58786666666666
          ]
         ],
         "hovertemplate": "<b>%{hovertext}</b><br><br>time=%{customdata[1]}<br>latitude=%{customdata[2]}<br>longitude=%{customdata[3]}<br>station=%{customdata[0]}<extra></extra>",
         "hovertext": [
          "GF19059"
         ],
         "lat": [
          64.38053333333333
         ],
         "legendgroup": "2019-07-01T11:17Z",
         "lon": [
          -51.58786666666666
         ],
         "marker": {
          "color": "#FECB52"
         },
         "mode": "markers",
         "name": "2019-07-01T11:17Z",
         "showlegend": true,
         "subplot": "mapbox",
         "type": "scattermapbox"
        },
        {
         "customdata": [
          [
           "GF19071",
           "2019-07-18T14:38Z",
           64.6113,
           -50.21463333333333
          ]
         ],
         "hovertemplate": "<b>%{hovertext}</b><br><br>time=%{customdata[1]}<br>latitude=%{customdata[2]}<br>longitude=%{customdata[3]}<br>station=%{customdata[0]}<extra></extra>",
         "hovertext": [
          "GF19071"
         ],
         "lat": [
          64.6113
         ],
         "legendgroup": "2019-07-18T14:38Z",
         "lon": [
          -50.21463333333333
         ],
         "marker": {
          "color": "#636efa"
         },
         "mode": "markers",
         "name": "2019-07-18T14:38Z",
         "showlegend": true,
         "subplot": "mapbox",
         "type": "scattermapbox"
        },
        {
         "customdata": [
          [
           "HS190521",
           "2019-05-21T14:54Z",
           64.1391,
           -51.84973333333333
          ]
         ],
         "hovertemplate": "<b>%{hovertext}</b><br><br>time=%{customdata[1]}<br>latitude=%{customdata[2]}<br>longitude=%{customdata[3]}<br>station=%{customdata[0]}<extra></extra>",
         "hovertext": [
          "HS190521"
         ],
         "lat": [
          64.1391
         ],
         "legendgroup": "2019-05-21T14:54Z",
         "lon": [
          -51.84973333333333
         ],
         "marker": {
          "color": "#EF553B"
         },
         "mode": "markers",
         "name": "2019-05-21T14:54Z",
         "showlegend": true,
         "subplot": "mapbox",
         "type": "scattermapbox"
        },
        {
         "customdata": [
          [
           "GF19105",
           "2019-09-03T13:37Z",
           64.60403333333333,
           -50.97468333333333
          ]
         ],
         "hovertemplate": "<b>%{hovertext}</b><br><br>time=%{customdata[1]}<br>latitude=%{customdata[2]}<br>longitude=%{customdata[3]}<br>station=%{customdata[0]}<extra></extra>",
         "hovertext": [
          "GF19105"
         ],
         "lat": [
          64.60403333333333
         ],
         "legendgroup": "2019-09-03T13:37Z",
         "lon": [
          -50.97468333333333
         ],
         "marker": {
          "color": "#00cc96"
         },
         "mode": "markers",
         "name": "2019-09-03T13:37Z",
         "showlegend": true,
         "subplot": "mapbox",
         "type": "scattermapbox"
        },
        {
         "customdata": [
          [
           "GF19107",
           "2019-09-10T13:38Z",
           64.50728333333333,
           -51.3999
          ]
         ],
         "hovertemplate": "<b>%{hovertext}</b><br><br>time=%{customdata[1]}<br>latitude=%{customdata[2]}<br>longitude=%{customdata[3]}<br>station=%{customdata[0]}<extra></extra>",
         "hovertext": [
          "GF19107"
         ],
         "lat": [
          64.50728333333333
         ],
         "legendgroup": "2019-09-10T13:38Z",
         "lon": [
          -51.3999
         ],
         "marker": {
          "color": "#ab63fa"
         },
         "mode": "markers",
         "name": "2019-09-10T13:38Z",
         "showlegend": true,
         "subplot": "mapbox",
         "type": "scattermapbox"
        },
        {
         "customdata": [
          [
           "GF19113",
           "2019-09-13T13:58Z",
           64.49286666666667,
           -50.11493333333333
          ]
         ],
         "hovertemplate": "<b>%{hovertext}</b><br><br>time=%{customdata[1]}<br>latitude=%{customdata[2]}<br>longitude=%{customdata[3]}<br>station=%{customdata[0]}<extra></extra>",
         "hovertext": [
          "GF19113"
         ],
         "lat": [
          64.49286666666667
         ],
         "legendgroup": "2019-09-13T13:58Z",
         "lon": [
          -50.11493333333333
         ],
         "marker": {
          "color": "#FFA15A"
         },
         "mode": "markers",
         "name": "2019-09-13T13:58Z",
         "showlegend": true,
         "subplot": "mapbox",
         "type": "scattermapbox"
        },
        {
         "customdata": [
          [
           "GF19066",
           "2019-07-04T13:09Z",
           64.6624,
           -50.157383333333335
          ]
         ],
         "hovertemplate": "<b>%{hovertext}</b><br><br>time=%{customdata[1]}<br>latitude=%{customdata[2]}<br>longitude=%{customdata[3]}<br>station=%{customdata[0]}<extra></extra>",
         "hovertext": [
          "GF19066"
         ],
         "lat": [
          64.6624
         ],
         "legendgroup": "2019-07-04T13:09Z",
         "lon": [
          -50.157383333333335
         ],
         "marker": {
          "color": "#19d3f3"
         },
         "mode": "markers",
         "name": "2019-07-04T13:09Z",
         "showlegend": true,
         "subplot": "mapbox",
         "type": "scattermapbox"
        },
        {
         "customdata": [
          [
           "GF19072",
           "2019-08-02T13:14Z",
           64.66943333333333,
           -50.25448333333333
          ]
         ],
         "hovertemplate": "<b>%{hovertext}</b><br><br>time=%{customdata[1]}<br>latitude=%{customdata[2]}<br>longitude=%{customdata[3]}<br>station=%{customdata[0]}<extra></extra>",
         "hovertext": [
          "GF19072"
         ],
         "lat": [
          64.66943333333333
         ],
         "legendgroup": "2019-08-02T13:14Z",
         "lon": [
          -50.25448333333333
         ],
         "marker": {
          "color": "#FF6692"
         },
         "mode": "markers",
         "name": "2019-08-02T13:14Z",
         "showlegend": true,
         "subplot": "mapbox",
         "type": "scattermapbox"
        },
        {
         "customdata": [
          [
           "GF19112",
           "2019-09-13T13:27Z",
           64.45158333333333,
           -50.01345
          ]
         ],
         "hovertemplate": "<b>%{hovertext}</b><br><br>time=%{customdata[1]}<br>latitude=%{customdata[2]}<br>longitude=%{customdata[3]}<br>station=%{customdata[0]}<extra></extra>",
         "hovertext": [
          "GF19112"
         ],
         "lat": [
          64.45158333333333
         ],
         "legendgroup": "2019-09-13T13:27Z",
         "lon": [
          -50.01345
         ],
         "marker": {
          "color": "#B6E880"
         },
         "mode": "markers",
         "name": "2019-09-13T13:27Z",
         "showlegend": true,
         "subplot": "mapbox",
         "type": "scattermapbox"
        },
        {
         "customdata": [
          [
           "GF19106",
           "2019-09-10T12:49Z",
           64.56626666666666,
           -51.17398333333333
          ]
         ],
         "hovertemplate": "<b>%{hovertext}</b><br><br>time=%{customdata[1]}<br>latitude=%{customdata[2]}<br>longitude=%{customdata[3]}<br>station=%{customdata[0]}<extra></extra>",
         "hovertext": [
          "GF19106"
         ],
         "lat": [
          64.56626666666666
         ],
         "legendgroup": "2019-09-10T12:49Z",
         "lon": [
          -51.17398333333333
         ],
         "marker": {
          "color": "#FF97FF"
         },
         "mode": "markers",
         "name": "2019-09-10T12:49Z",
         "showlegend": true,
         "subplot": "mapbox",
         "type": "scattermapbox"
        },
        {
         "customdata": [
          [
           "GF19102",
           "2019-08-27T14:39Z",
           64.68,
           -50.28798333333334
          ]
         ],
         "hovertemplate": "<b>%{hovertext}</b><br><br>time=%{customdata[1]}<br>latitude=%{customdata[2]}<br>longitude=%{customdata[3]}<br>station=%{customdata[0]}<extra></extra>",
         "hovertext": [
          "GF19102"
         ],
         "lat": [
          64.68
         ],
         "legendgroup": "2019-08-27T14:39Z",
         "lon": [
          -50.28798333333334
         ],
         "marker": {
          "color": "#FECB52"
         },
         "mode": "markers",
         "name": "2019-08-27T14:39Z",
         "showlegend": true,
         "subplot": "mapbox",
         "type": "scattermapbox"
        },
        {
         "customdata": [
          [
           "GF19116",
           "2019-09-13T15:41Z",
           64.67873333333333,
           -50.28645
          ]
         ],
         "hovertemplate": "<b>%{hovertext}</b><br><br>time=%{customdata[1]}<br>latitude=%{customdata[2]}<br>longitude=%{customdata[3]}<br>station=%{customdata[0]}<extra></extra>",
         "hovertext": [
          "GF19116"
         ],
         "lat": [
          64.67873333333333
         ],
         "legendgroup": "2019-09-13T15:41Z",
         "lon": [
          -50.28645
         ],
         "marker": {
          "color": "#636efa"
         },
         "mode": "markers",
         "name": "2019-09-13T15:41Z",
         "showlegend": true,
         "subplot": "mapbox",
         "type": "scattermapbox"
        },
        {
         "customdata": [
          [
           "GF19076",
           "2019-08-06T12:12Z",
           64.50798333333333,
           -51.39966666666667
          ]
         ],
         "hovertemplate": "<b>%{hovertext}</b><br><br>time=%{customdata[1]}<br>latitude=%{customdata[2]}<br>longitude=%{customdata[3]}<br>station=%{customdata[0]}<extra></extra>",
         "hovertext": [
          "GF19076"
         ],
         "lat": [
          64.50798333333333
         ],
         "legendgroup": "2019-08-06T12:12Z",
         "lon": [
          -51.39966666666667
         ],
         "marker": {
          "color": "#EF553B"
         },
         "mode": "markers",
         "name": "2019-08-06T12:12Z",
         "showlegend": true,
         "subplot": "mapbox",
         "type": "scattermapbox"
        },
        {
         "customdata": [
          [
           "GF19089",
           "2019-08-07T19:08Z",
           64.61,
           -50.95766666666667
          ]
         ],
         "hovertemplate": "<b>%{hovertext}</b><br><br>time=%{customdata[1]}<br>latitude=%{customdata[2]}<br>longitude=%{customdata[3]}<br>station=%{customdata[0]}<extra></extra>",
         "hovertext": [
          "GF19089"
         ],
         "lat": [
          64.61
         ],
         "legendgroup": "2019-08-07T19:08Z",
         "lon": [
          -50.95766666666667
         ],
         "marker": {
          "color": "#00cc96"
         },
         "mode": "markers",
         "name": "2019-08-07T19:08Z",
         "showlegend": true,
         "subplot": "mapbox",
         "type": "scattermapbox"
        },
        {
         "customdata": [
          [
           "GF19088",
           "2019-08-07T18:22Z",
           64.71518333333333,
           -50.5441
          ]
         ],
         "hovertemplate": "<b>%{hovertext}</b><br><br>time=%{customdata[1]}<br>latitude=%{customdata[2]}<br>longitude=%{customdata[3]}<br>station=%{customdata[0]}<extra></extra>",
         "hovertext": [
          "GF19088"
         ],
         "lat": [
          64.71518333333333
         ],
         "legendgroup": "2019-08-07T18:22Z",
         "lon": [
          -50.5441
         ],
         "marker": {
          "color": "#ab63fa"
         },
         "mode": "markers",
         "name": "2019-08-07T18:22Z",
         "showlegend": true,
         "subplot": "mapbox",
         "type": "scattermapbox"
        },
        {
         "customdata": [
          [
           "GF19077",
           "2019-08-06T13:07Z",
           64.60983333333333,
           -50.96066666666667
          ]
         ],
         "hovertemplate": "<b>%{hovertext}</b><br><br>time=%{customdata[1]}<br>latitude=%{customdata[2]}<br>longitude=%{customdata[3]}<br>station=%{customdata[0]}<extra></extra>",
         "hovertext": [
          "GF19077"
         ],
         "lat": [
          64.60983333333333
         ],
         "legendgroup": "2019-08-06T13:07Z",
         "lon": [
          -50.96066666666667
         ],
         "marker": {
          "color": "#FFA15A"
         },
         "mode": "markers",
         "name": "2019-08-06T13:07Z",
         "showlegend": true,
         "subplot": "mapbox",
         "type": "scattermapbox"
        },
        {
         "customdata": [
          [
           "GF19117",
           "2019-09-13T16:10Z",
           64.71475,
           -50.54691666666667
          ]
         ],
         "hovertemplate": "<b>%{hovertext}</b><br><br>time=%{customdata[1]}<br>latitude=%{customdata[2]}<br>longitude=%{customdata[3]}<br>station=%{customdata[0]}<extra></extra>",
         "hovertext": [
          "GF19117"
         ],
         "lat": [
          64.71475
         ],
         "legendgroup": "2019-09-13T16:10Z",
         "lon": [
          -50.54691666666667
         ],
         "marker": {
          "color": "#19d3f3"
         },
         "mode": "markers",
         "name": "2019-09-13T16:10Z",
         "showlegend": true,
         "subplot": "mapbox",
         "type": "scattermapbox"
        },
        {
         "customdata": [
          [
           "GF19103",
           "2019-08-27T16:25Z",
           64.71703333333333,
           -50.55591666666667
          ]
         ],
         "hovertemplate": "<b>%{hovertext}</b><br><br>time=%{customdata[1]}<br>latitude=%{customdata[2]}<br>longitude=%{customdata[3]}<br>station=%{customdata[0]}<extra></extra>",
         "hovertext": [
          "GF19103"
         ],
         "lat": [
          64.71703333333333
         ],
         "legendgroup": "2019-08-27T16:25Z",
         "lon": [
          -50.55591666666667
         ],
         "marker": {
          "color": "#FF6692"
         },
         "mode": "markers",
         "name": "2019-08-27T16:25Z",
         "showlegend": true,
         "subplot": "mapbox",
         "type": "scattermapbox"
        },
        {
         "customdata": [
          [
           "GF19115",
           "2019-09-13T15:05Z",
           64.61163333333333,
           -50.22346666666667
          ]
         ],
         "hovertemplate": "<b>%{hovertext}</b><br><br>time=%{customdata[1]}<br>latitude=%{customdata[2]}<br>longitude=%{customdata[3]}<br>station=%{customdata[0]}<extra></extra>",
         "hovertext": [
          "GF19115"
         ],
         "lat": [
          64.61163333333333
         ],
         "legendgroup": "2019-09-13T15:05Z",
         "lon": [
          -50.22346666666667
         ],
         "marker": {
          "color": "#B6E880"
         },
         "mode": "markers",
         "name": "2019-09-13T15:05Z",
         "showlegend": true,
         "subplot": "mapbox",
         "type": "scattermapbox"
        },
        {
         "customdata": [
          [
           "GF19101",
           "2019-08-27T14:00Z",
           64.61783333333334,
           -50.23108333333333
          ]
         ],
         "hovertemplate": "<b>%{hovertext}</b><br><br>time=%{customdata[1]}<br>latitude=%{customdata[2]}<br>longitude=%{customdata[3]}<br>station=%{customdata[0]}<extra></extra>",
         "hovertext": [
          "GF19101"
         ],
         "lat": [
          64.61783333333334
         ],
         "legendgroup": "2019-08-27T14:00Z",
         "lon": [
          -50.23108333333333
         ],
         "marker": {
          "color": "#FF97FF"
         },
         "mode": "markers",
         "name": "2019-08-27T14:00Z",
         "showlegend": true,
         "subplot": "mapbox",
         "type": "scattermapbox"
        },
        {
         "customdata": [
          [
           "GF19061",
           "2019-07-01T13:11Z",
           64.61023333333333,
           -50.95555
          ]
         ],
         "hovertemplate": "<b>%{hovertext}</b><br><br>time=%{customdata[1]}<br>latitude=%{customdata[2]}<br>longitude=%{customdata[3]}<br>station=%{customdata[0]}<extra></extra>",
         "hovertext": [
          "GF19061"
         ],
         "lat": [
          64.61023333333333
         ],
         "legendgroup": "2019-07-01T13:11Z",
         "lon": [
          -50.95555
         ],
         "marker": {
          "color": "#FECB52"
         },
         "mode": "markers",
         "name": "2019-07-01T13:11Z",
         "showlegend": true,
         "subplot": "mapbox",
         "type": "scattermapbox"
        },
        {
         "customdata": [
          [
           "GF19075",
           "2019-08-06T11:23Z",
           64.38051666666667,
           -51.58851666666666
          ]
         ],
         "hovertemplate": "<b>%{hovertext}</b><br><br>time=%{customdata[1]}<br>latitude=%{customdata[2]}<br>longitude=%{customdata[3]}<br>station=%{customdata[0]}<extra></extra>",
         "hovertext": [
          "GF19075"
         ],
         "lat": [
          64.38051666666667
         ],
         "legendgroup": "2019-08-06T11:23Z",
         "lon": [
          -51.58851666666666
         ],
         "marker": {
          "color": "#636efa"
         },
         "mode": "markers",
         "name": "2019-08-06T11:23Z",
         "showlegend": true,
         "subplot": "mapbox",
         "type": "scattermapbox"
        },
        {
         "customdata": [
          [
           "GF19074",
           "2019-08-06T10:46Z",
           64.26721666666667,
           -51.66471666666666
          ]
         ],
         "hovertemplate": "<b>%{hovertext}</b><br><br>time=%{customdata[1]}<br>latitude=%{customdata[2]}<br>longitude=%{customdata[3]}<br>station=%{customdata[0]}<extra></extra>",
         "hovertext": [
          "GF19074"
         ],
         "lat": [
          64.26721666666667
         ],
         "legendgroup": "2019-08-06T10:46Z",
         "lon": [
          -51.66471666666666
         ],
         "marker": {
          "color": "#EF553B"
         },
         "mode": "markers",
         "name": "2019-08-06T10:46Z",
         "showlegend": true,
         "subplot": "mapbox",
         "type": "scattermapbox"
        },
        {
         "customdata": [
          [
           "GF19060",
           "2019-07-01T12:09Z",
           64.50646666666667,
           -51.39955
          ]
         ],
         "hovertemplate": "<b>%{hovertext}</b><br><br>time=%{customdata[1]}<br>latitude=%{customdata[2]}<br>longitude=%{customdata[3]}<br>station=%{customdata[0]}<extra></extra>",
         "hovertext": [
          "GF19060"
         ],
         "lat": [
          64.50646666666667
         ],
         "legendgroup": "2019-07-01T12:09Z",
         "lon": [
          -51.39955
         ],
         "marker": {
          "color": "#00cc96"
         },
         "mode": "markers",
         "name": "2019-07-01T12:09Z",
         "showlegend": true,
         "subplot": "mapbox",
         "type": "scattermapbox"
        },
        {
         "customdata": [
          [
           "GF19114",
           "2019-09-13T14:30Z",
           64.54626666666667,
           -50.1839
          ]
         ],
         "hovertemplate": "<b>%{hovertext}</b><br><br>time=%{customdata[1]}<br>latitude=%{customdata[2]}<br>longitude=%{customdata[3]}<br>station=%{customdata[0]}<extra></extra>",
         "hovertext": [
          "GF19114"
         ],
         "lat": [
          64.54626666666667
         ],
         "legendgroup": "2019-09-13T14:30Z",
         "lon": [
          -50.1839
         ],
         "marker": {
          "color": "#ab63fa"
         },
         "mode": "markers",
         "name": "2019-09-13T14:30Z",
         "showlegend": true,
         "subplot": "mapbox",
         "type": "scattermapbox"
        },
        {
         "customdata": [
          [
           "GF19128",
           "2019-09-16T17:52Z",
           64.19068333333334,
           -51.78315
          ]
         ],
         "hovertemplate": "<b>%{hovertext}</b><br><br>time=%{customdata[1]}<br>latitude=%{customdata[2]}<br>longitude=%{customdata[3]}<br>station=%{customdata[0]}<extra></extra>",
         "hovertext": [
          "GF19128"
         ],
         "lat": [
          64.19068333333334
         ],
         "legendgroup": "2019-09-16T17:52Z",
         "lon": [
          -51.78315
         ],
         "marker": {
          "color": "#FFA15A"
         },
         "mode": "markers",
         "name": "2019-09-16T17:52Z",
         "showlegend": true,
         "subplot": "mapbox",
         "type": "scattermapbox"
        },
        {
         "customdata": [
          [
           "GF19125",
           "2019-09-16T15:56Z",
           64.42346666666667,
           -51.51241666666667
          ]
         ],
         "hovertemplate": "<b>%{hovertext}</b><br><br>time=%{customdata[1]}<br>latitude=%{customdata[2]}<br>longitude=%{customdata[3]}<br>station=%{customdata[0]}<extra></extra>",
         "hovertext": [
          "GF19125"
         ],
         "lat": [
          64.42346666666667
         ],
         "legendgroup": "2019-09-16T15:56Z",
         "lon": [
          -51.51241666666667
         ],
         "marker": {
          "color": "#19d3f3"
         },
         "mode": "markers",
         "name": "2019-09-16T15:56Z",
         "showlegend": true,
         "subplot": "mapbox",
         "type": "scattermapbox"
        },
        {
         "customdata": [
          [
           "GF19045",
           "2019-06-04T13:48Z",
           64.60996666666666,
           -50.9588
          ]
         ],
         "hovertemplate": "<b>%{hovertext}</b><br><br>time=%{customdata[1]}<br>latitude=%{customdata[2]}<br>longitude=%{customdata[3]}<br>station=%{customdata[0]}<extra></extra>",
         "hovertext": [
          "GF19045"
         ],
         "lat": [
          64.60996666666666
         ],
         "legendgroup": "2019-06-04T13:48Z",
         "lon": [
          -50.9588
         ],
         "marker": {
          "color": "#FF6692"
         },
         "mode": "markers",
         "name": "2019-06-04T13:48Z",
         "showlegend": true,
         "subplot": "mapbox",
         "type": "scattermapbox"
        },
        {
         "customdata": [
          [
           "GF19086",
           "2019-08-07T16:59Z",
           64.6568,
           -50.11365
          ]
         ],
         "hovertemplate": "<b>%{hovertext}</b><br><br>time=%{customdata[1]}<br>latitude=%{customdata[2]}<br>longitude=%{customdata[3]}<br>station=%{customdata[0]}<extra></extra>",
         "hovertext": [
          "GF19086"
         ],
         "lat": [
          64.6568
         ],
         "legendgroup": "2019-08-07T16:59Z",
         "lon": [
          -50.11365
         ],
         "marker": {
          "color": "#B6E880"
         },
         "mode": "markers",
         "name": "2019-08-07T16:59Z",
         "showlegend": true,
         "subplot": "mapbox",
         "type": "scattermapbox"
        },
        {
         "customdata": [
          [
           "GF19087",
           "2019-08-07T17:37Z",
           64.68068333333333,
           -50.29055
          ]
         ],
         "hovertemplate": "<b>%{hovertext}</b><br><br>time=%{customdata[1]}<br>latitude=%{customdata[2]}<br>longitude=%{customdata[3]}<br>station=%{customdata[0]}<extra></extra>",
         "hovertext": [
          "GF19087"
         ],
         "lat": [
          64.68068333333333
         ],
         "legendgroup": "2019-08-07T17:37Z",
         "lon": [
          -50.29055
         ],
         "marker": {
          "color": "#FF97FF"
         },
         "mode": "markers",
         "name": "2019-08-07T17:37Z",
         "showlegend": true,
         "subplot": "mapbox",
         "type": "scattermapbox"
        },
        {
         "customdata": [
          [
           "GF19044",
           "2019-06-04T12:43Z",
           64.50805,
           -51.399766666666665
          ]
         ],
         "hovertemplate": "<b>%{hovertext}</b><br><br>time=%{customdata[1]}<br>latitude=%{customdata[2]}<br>longitude=%{customdata[3]}<br>station=%{customdata[0]}<extra></extra>",
         "hovertext": [
          "GF19044"
         ],
         "lat": [
          64.50805
         ],
         "legendgroup": "2019-06-04T12:43Z",
         "lon": [
          -51.399766666666665
         ],
         "marker": {
          "color": "#FECB52"
         },
         "mode": "markers",
         "name": "2019-06-04T12:43Z",
         "showlegend": true,
         "subplot": "mapbox",
         "type": "scattermapbox"
        },
        {
         "customdata": [
          [
           "GF19118",
           "2019-09-13T16:51Z",
           64.68363333333333,
           -50.7437
          ]
         ],
         "hovertemplate": "<b>%{hovertext}</b><br><br>time=%{customdata[1]}<br>latitude=%{customdata[2]}<br>longitude=%{customdata[3]}<br>station=%{customdata[0]}<extra></extra>",
         "hovertext": [
          "GF19118"
         ],
         "lat": [
          64.68363333333333
         ],
         "legendgroup": "2019-09-13T16:51Z",
         "lon": [
          -50.7437
         ],
         "marker": {
          "color": "#636efa"
         },
         "mode": "markers",
         "name": "2019-09-13T16:51Z",
         "showlegend": true,
         "subplot": "mapbox",
         "type": "scattermapbox"
        },
        {
         "customdata": [
          [
           "GF19124",
           "2019-09-16T15:09Z",
           64.50655,
           -51.399033333333335
          ]
         ],
         "hovertemplate": "<b>%{hovertext}</b><br><br>time=%{customdata[1]}<br>latitude=%{customdata[2]}<br>longitude=%{customdata[3]}<br>station=%{customdata[0]}<extra></extra>",
         "hovertext": [
          "GF19124"
         ],
         "lat": [
          64.50655
         ],
         "legendgroup": "2019-09-16T15:09Z",
         "lon": [
          -51.399033333333335
         ],
         "marker": {
          "color": "#EF553B"
         },
         "mode": "markers",
         "name": "2019-09-16T15:09Z",
         "showlegend": true,
         "subplot": "mapbox",
         "type": "scattermapbox"
        },
        {
         "customdata": [
          [
           "HS190716",
           "2019-07-16T14:04Z",
           64.15253333333334,
           -51.82913333333333
          ]
         ],
         "hovertemplate": "<b>%{hovertext}</b><br><br>time=%{customdata[1]}<br>latitude=%{customdata[2]}<br>longitude=%{customdata[3]}<br>station=%{customdata[0]}<extra></extra>",
         "hovertext": [
          "HS190716"
         ],
         "lat": [
          64.15253333333334
         ],
         "legendgroup": "2019-07-16T14:04Z",
         "lon": [
          -51.82913333333333
         ],
         "marker": {
          "color": "#00cc96"
         },
         "mode": "markers",
         "name": "2019-07-16T14:04Z",
         "showlegend": true,
         "subplot": "mapbox",
         "type": "scattermapbox"
        },
        {
         "customdata": [
          [
           "GF19126",
           "2019-09-16T16:19Z",
           64.37846666666667,
           -51.592166666666664
          ]
         ],
         "hovertemplate": "<b>%{hovertext}</b><br><br>time=%{customdata[1]}<br>latitude=%{customdata[2]}<br>longitude=%{customdata[3]}<br>station=%{customdata[0]}<extra></extra>",
         "hovertext": [
          "GF19126"
         ],
         "lat": [
          64.37846666666667
         ],
         "legendgroup": "2019-09-16T16:19Z",
         "lon": [
          -51.592166666666664
         ],
         "marker": {
          "color": "#ab63fa"
         },
         "mode": "markers",
         "name": "2019-09-16T16:19Z",
         "showlegend": true,
         "subplot": "mapbox",
         "type": "scattermapbox"
        },
        {
         "customdata": [
          [
           "GF19046",
           "2019-06-04T15:02Z",
           64.7046,
           -50.63848333333333
          ]
         ],
         "hovertemplate": "<b>%{hovertext}</b><br><br>time=%{customdata[1]}<br>latitude=%{customdata[2]}<br>longitude=%{customdata[3]}<br>station=%{customdata[0]}<extra></extra>",
         "hovertext": [
          "GF19046"
         ],
         "lat": [
          64.7046
         ],
         "legendgroup": "2019-06-04T15:02Z",
         "lon": [
          -50.63848333333333
         ],
         "marker": {
          "color": "#FFA15A"
         },
         "mode": "markers",
         "name": "2019-06-04T15:02Z",
         "showlegend": true,
         "subplot": "mapbox",
         "type": "scattermapbox"
        },
        {
         "customdata": [
          [
           "GF19085",
           "2019-08-07T16:21Z",
           64.60291666666667,
           -50.2209
          ]
         ],
         "hovertemplate": "<b>%{hovertext}</b><br><br>time=%{customdata[1]}<br>latitude=%{customdata[2]}<br>longitude=%{customdata[3]}<br>station=%{customdata[0]}<extra></extra>",
         "hovertext": [
          "GF19085"
         ],
         "lat": [
          64.60291666666667
         ],
         "legendgroup": "2019-08-07T16:21Z",
         "lon": [
          -50.2209
         ],
         "marker": {
          "color": "#19d3f3"
         },
         "mode": "markers",
         "name": "2019-08-07T16:21Z",
         "showlegend": true,
         "subplot": "mapbox",
         "type": "scattermapbox"
        },
        {
         "customdata": [
          [
           "GF19084",
           "2019-08-07T15:45Z",
           64.54751666666667,
           -50.184066666666666
          ]
         ],
         "hovertemplate": "<b>%{hovertext}</b><br><br>time=%{customdata[1]}<br>latitude=%{customdata[2]}<br>longitude=%{customdata[3]}<br>station=%{customdata[0]}<extra></extra>",
         "hovertext": [
          "GF19084"
         ],
         "lat": [
          64.54751666666667
         ],
         "legendgroup": "2019-08-07T15:45Z",
         "lon": [
          -50.184066666666666
         ],
         "marker": {
          "color": "#FF6692"
         },
         "mode": "markers",
         "name": "2019-08-07T15:45Z",
         "showlegend": true,
         "subplot": "mapbox",
         "type": "scattermapbox"
        },
        {
         "customdata": [
          [
           "GF19127",
           "2019-09-16T17:12Z",
           64.28331666666666,
           -51.66825
          ]
         ],
         "hovertemplate": "<b>%{hovertext}</b><br><br>time=%{customdata[1]}<br>latitude=%{customdata[2]}<br>longitude=%{customdata[3]}<br>station=%{customdata[0]}<extra></extra>",
         "hovertext": [
          "GF19127"
         ],
         "lat": [
          64.28331666666666
         ],
         "legendgroup": "2019-09-16T17:12Z",
         "lon": [
          -51.66825
         ],
         "marker": {
          "color": "#B6E880"
         },
         "mode": "markers",
         "name": "2019-09-16T17:12Z",
         "showlegend": true,
         "subplot": "mapbox",
         "type": "scattermapbox"
        },
        {
         "customdata": [
          [
           "GF19123",
           "2019-09-16T14:18Z",
           64.58325,
           -51.150666666666666
          ]
         ],
         "hovertemplate": "<b>%{hovertext}</b><br><br>time=%{customdata[1]}<br>latitude=%{customdata[2]}<br>longitude=%{customdata[3]}<br>station=%{customdata[0]}<extra></extra>",
         "hovertext": [
          "GF19123"
         ],
         "lat": [
          64.58325
         ],
         "legendgroup": "2019-09-16T14:18Z",
         "lon": [
          -51.150666666666666
         ],
         "marker": {
          "color": "#FF97FF"
         },
         "mode": "markers",
         "name": "2019-09-16T14:18Z",
         "showlegend": true,
         "subplot": "mapbox",
         "type": "scattermapbox"
        },
        {
         "customdata": [
          [
           "GF19057",
           "2019-06-14T13:39Z",
           64.61061666666667,
           -50.9595
          ]
         ],
         "hovertemplate": "<b>%{hovertext}</b><br><br>time=%{customdata[1]}<br>latitude=%{customdata[2]}<br>longitude=%{customdata[3]}<br>station=%{customdata[0]}<extra></extra>",
         "hovertext": [
          "GF19057"
         ],
         "lat": [
          64.61061666666667
         ],
         "legendgroup": "2019-06-14T13:39Z",
         "lon": [
          -50.9595
         ],
         "marker": {
          "color": "#FECB52"
         },
         "mode": "markers",
         "name": "2019-06-14T13:39Z",
         "showlegend": true,
         "subplot": "mapbox",
         "type": "scattermapbox"
        },
        {
         "customdata": [
          [
           "GF19043",
           "2019-06-04T11:43Z",
           64.3793,
           -51.59
          ]
         ],
         "hovertemplate": "<b>%{hovertext}</b><br><br>time=%{customdata[1]}<br>latitude=%{customdata[2]}<br>longitude=%{customdata[3]}<br>station=%{customdata[0]}<extra></extra>",
         "hovertext": [
          "GF19043"
         ],
         "lat": [
          64.3793
         ],
         "legendgroup": "2019-06-04T11:43Z",
         "lon": [
          -51.59
         ],
         "marker": {
          "color": "#636efa"
         },
         "mode": "markers",
         "name": "2019-06-04T11:43Z",
         "showlegend": true,
         "subplot": "mapbox",
         "type": "scattermapbox"
        },
        {
         "customdata": [
          [
           "GF19042",
           "2019-06-04T11:01Z",
           64.26618333333333,
           -51.668083333333335
          ]
         ],
         "hovertemplate": "<b>%{hovertext}</b><br><br>time=%{customdata[1]}<br>latitude=%{customdata[2]}<br>longitude=%{customdata[3]}<br>station=%{customdata[0]}<extra></extra>",
         "hovertext": [
          "GF19042"
         ],
         "lat": [
          64.26618333333333
         ],
         "legendgroup": "2019-06-04T11:01Z",
         "lon": [
          -51.668083333333335
         ],
         "marker": {
          "color": "#EF553B"
         },
         "mode": "markers",
         "name": "2019-06-04T11:01Z",
         "showlegend": true,
         "subplot": "mapbox",
         "type": "scattermapbox"
        },
        {
         "customdata": [
          [
           "GF19122",
           "2019-09-16T13:52Z",
           64.60838333333334,
           -50.96083333333333
          ]
         ],
         "hovertemplate": "<b>%{hovertext}</b><br><br>time=%{customdata[1]}<br>latitude=%{customdata[2]}<br>longitude=%{customdata[3]}<br>station=%{customdata[0]}<extra></extra>",
         "hovertext": [
          "GF19122"
         ],
         "lat": [
          64.60838333333334
         ],
         "legendgroup": "2019-09-16T13:52Z",
         "lon": [
          -50.96083333333333
         ],
         "marker": {
          "color": "#00cc96"
         },
         "mode": "markers",
         "name": "2019-09-16T13:52Z",
         "showlegend": true,
         "subplot": "mapbox",
         "type": "scattermapbox"
        },
        {
         "customdata": [
          [
           "GF19108",
           "2019-09-10T14:29Z",
           64.42348333333334,
           -51.509566666666665
          ]
         ],
         "hovertemplate": "<b>%{hovertext}</b><br><br>time=%{customdata[1]}<br>latitude=%{customdata[2]}<br>longitude=%{customdata[3]}<br>station=%{customdata[0]}<extra></extra>",
         "hovertext": [
          "GF19108"
         ],
         "lat": [
          64.42348333333334
         ],
         "legendgroup": "2019-09-10T14:29Z",
         "lon": [
          -51.509566666666665
         ],
         "marker": {
          "color": "#ab63fa"
         },
         "mode": "markers",
         "name": "2019-09-10T14:29Z",
         "showlegend": true,
         "subplot": "mapbox",
         "type": "scattermapbox"
        },
        {
         "customdata": [
          [
           "GF19120",
           "2019-09-16T12:43Z",
           64.68278333333333,
           -50.74085
          ]
         ],
         "hovertemplate": "<b>%{hovertext}</b><br><br>time=%{customdata[1]}<br>latitude=%{customdata[2]}<br>longitude=%{customdata[3]}<br>station=%{customdata[0]}<extra></extra>",
         "hovertext": [
          "GF19120"
         ],
         "lat": [
          64.68278333333333
         ],
         "legendgroup": "2019-09-16T12:43Z",
         "lon": [
          -50.74085
         ],
         "marker": {
          "color": "#FFA15A"
         },
         "mode": "markers",
         "name": "2019-09-16T12:43Z",
         "showlegend": true,
         "subplot": "mapbox",
         "type": "scattermapbox"
        },
        {
         "customdata": [
          [
           "GF19068",
           "2019-07-04T13:48Z",
           64.66816666666666,
           -50.250083333333336
          ]
         ],
         "hovertemplate": "<b>%{hovertext}</b><br><br>time=%{customdata[1]}<br>latitude=%{customdata[2]}<br>longitude=%{customdata[3]}<br>station=%{customdata[0]}<extra></extra>",
         "hovertext": [
          "GF19068"
         ],
         "lat": [
          64.66816666666666
         ],
         "legendgroup": "2019-07-04T13:48Z",
         "lon": [
          -50.250083333333336
         ],
         "marker": {
          "color": "#19d3f3"
         },
         "mode": "markers",
         "name": "2019-07-04T13:48Z",
         "showlegend": true,
         "subplot": "mapbox",
         "type": "scattermapbox"
        },
        {
         "customdata": [
          [
           "GF19083",
           "2019-08-07T15:22Z",
           64.49341666666666,
           -50.113416666666666
          ]
         ],
         "hovertemplate": "<b>%{hovertext}</b><br><br>time=%{customdata[1]}<br>latitude=%{customdata[2]}<br>longitude=%{customdata[3]}<br>station=%{customdata[0]}<extra></extra>",
         "hovertext": [
          "GF19083"
         ],
         "lat": [
          64.49341666666666
         ],
         "legendgroup": "2019-08-07T15:22Z",
         "lon": [
          -50.113416666666666
         ],
         "marker": {
          "color": "#FF6692"
         },
         "mode": "markers",
         "name": "2019-08-07T15:22Z",
         "showlegend": true,
         "subplot": "mapbox",
         "type": "scattermapbox"
        },
        {
         "customdata": [
          [
           "GF19082",
           "2019-08-07T14:59Z",
           64.48761666666667,
           -50.06791666666667
          ]
         ],
         "hovertemplate": "<b>%{hovertext}</b><br><br>time=%{customdata[1]}<br>latitude=%{customdata[2]}<br>longitude=%{customdata[3]}<br>station=%{customdata[0]}<extra></extra>",
         "hovertext": [
          "GF19082"
         ],
         "lat": [
          64.48761666666667
         ],
         "legendgroup": "2019-08-07T14:59Z",
         "lon": [
          -50.06791666666667
         ],
         "marker": {
          "color": "#B6E880"
         },
         "mode": "markers",
         "name": "2019-08-07T14:59Z",
         "showlegend": true,
         "subplot": "mapbox",
         "type": "scattermapbox"
        },
        {
         "customdata": [
          [
           "GF19109",
           "2019-09-10T16:11Z",
           64.38023333333334,
           -51.58555
          ]
         ],
         "hovertemplate": "<b>%{hovertext}</b><br><br>time=%{customdata[1]}<br>latitude=%{customdata[2]}<br>longitude=%{customdata[3]}<br>station=%{customdata[0]}<extra></extra>",
         "hovertext": [
          "GF19109"
         ],
         "lat": [
          64.38023333333334
         ],
         "legendgroup": "2019-09-10T16:11Z",
         "lon": [
          -51.58555
         ],
         "marker": {
          "color": "#FF97FF"
         },
         "mode": "markers",
         "name": "2019-09-10T16:11Z",
         "showlegend": true,
         "subplot": "mapbox",
         "type": "scattermapbox"
        },
        {
         "customdata": [
          [
           "GF19033",
           "2019-05-06T10:41Z",
           64.26703333333333,
           -51.666016666666664
          ]
         ],
         "hovertemplate": "<b>%{hovertext}</b><br><br>time=%{customdata[1]}<br>latitude=%{customdata[2]}<br>longitude=%{customdata[3]}<br>station=%{customdata[0]}<extra></extra>",
         "hovertext": [
          "GF19033"
         ],
         "lat": [
          64.26703333333333
         ],
         "legendgroup": "2019-05-06T10:41Z",
         "lon": [
          -51.666016666666664
         ],
         "marker": {
          "color": "#FECB52"
         },
         "mode": "markers",
         "name": "2019-05-06T10:41Z",
         "showlegend": true,
         "subplot": "mapbox",
         "type": "scattermapbox"
        },
        {
         "customdata": [
          [
           "GF19034",
           "2019-05-06T11:18Z",
           64.37253333333334,
           -51.58711666666667
          ]
         ],
         "hovertemplate": "<b>%{hovertext}</b><br><br>time=%{customdata[1]}<br>latitude=%{customdata[2]}<br>longitude=%{customdata[3]}<br>station=%{customdata[0]}<extra></extra>",
         "hovertext": [
          "GF19034"
         ],
         "lat": [
          64.37253333333334
         ],
         "legendgroup": "2019-05-06T11:18Z",
         "lon": [
          -51.58711666666667
         ],
         "marker": {
          "color": "#636efa"
         },
         "mode": "markers",
         "name": "2019-05-06T11:18Z",
         "showlegend": true,
         "subplot": "mapbox",
         "type": "scattermapbox"
        },
        {
         "customdata": [
          [
           "GF19035",
           "2019-05-06T12:16Z",
           64.50753333333333,
           -51.39933333333333
          ]
         ],
         "hovertemplate": "<b>%{hovertext}</b><br><br>time=%{customdata[1]}<br>latitude=%{customdata[2]}<br>longitude=%{customdata[3]}<br>station=%{customdata[0]}<extra></extra>",
         "hovertext": [
          "GF19035"
         ],
         "lat": [
          64.50753333333333
         ],
         "legendgroup": "2019-05-06T12:16Z",
         "lon": [
          -51.39933333333333
         ],
         "marker": {
          "color": "#EF553B"
         },
         "mode": "markers",
         "name": "2019-05-06T12:16Z",
         "showlegend": true,
         "subplot": "mapbox",
         "type": "scattermapbox"
        },
        {
         "customdata": [
          [
           "GF19037",
           "2019-05-06T14:34Z",
           64.64785,
           -50.250733333333336
          ]
         ],
         "hovertemplate": "<b>%{hovertext}</b><br><br>time=%{customdata[1]}<br>latitude=%{customdata[2]}<br>longitude=%{customdata[3]}<br>station=%{customdata[0]}<extra></extra>",
         "hovertext": [
          "GF19037"
         ],
         "lat": [
          64.64785
         ],
         "legendgroup": "2019-05-06T14:34Z",
         "lon": [
          -50.250733333333336
         ],
         "marker": {
          "color": "#00cc96"
         },
         "mode": "markers",
         "name": "2019-05-06T14:34Z",
         "showlegend": true,
         "subplot": "mapbox",
         "type": "scattermapbox"
        },
        {
         "customdata": [
          [
           "GF19036",
           "2019-05-06T13:18Z",
           64.60975,
           -50.95635
          ]
         ],
         "hovertemplate": "<b>%{hovertext}</b><br><br>time=%{customdata[1]}<br>latitude=%{customdata[2]}<br>longitude=%{customdata[3]}<br>station=%{customdata[0]}<extra></extra>",
         "hovertext": [
          "GF19036"
         ],
         "lat": [
          64.60975
         ],
         "legendgroup": "2019-05-06T13:18Z",
         "lon": [
          -50.95635
         ],
         "marker": {
          "color": "#ab63fa"
         },
         "mode": "markers",
         "name": "2019-05-06T13:18Z",
         "showlegend": true,
         "subplot": "mapbox",
         "type": "scattermapbox"
        },
        {
         "customdata": [
          [
           "GF19013",
           "2019-03-05T13:39Z",
           64.50945,
           -51.39843333333334
          ]
         ],
         "hovertemplate": "<b>%{hovertext}</b><br><br>time=%{customdata[1]}<br>latitude=%{customdata[2]}<br>longitude=%{customdata[3]}<br>station=%{customdata[0]}<extra></extra>",
         "hovertext": [
          "GF19013"
         ],
         "lat": [
          64.50945
         ],
         "legendgroup": "2019-03-05T13:39Z",
         "lon": [
          -51.39843333333334
         ],
         "marker": {
          "color": "#FFA15A"
         },
         "mode": "markers",
         "name": "2019-03-05T13:39Z",
         "showlegend": true,
         "subplot": "mapbox",
         "type": "scattermapbox"
        },
        {
         "customdata": [
          [
           "GF19012",
           "2019-03-05T12:40Z",
           64.38046666666666,
           -51.58988333333333
          ]
         ],
         "hovertemplate": "<b>%{hovertext}</b><br><br>time=%{customdata[1]}<br>latitude=%{customdata[2]}<br>longitude=%{customdata[3]}<br>station=%{customdata[0]}<extra></extra>",
         "hovertext": [
          "GF19012"
         ],
         "lat": [
          64.38046666666666
         ],
         "legendgroup": "2019-03-05T12:40Z",
         "lon": [
          -51.58988333333333
         ],
         "marker": {
          "color": "#19d3f3"
         },
         "mode": "markers",
         "name": "2019-03-05T12:40Z",
         "showlegend": true,
         "subplot": "mapbox",
         "type": "scattermapbox"
        },
        {
         "customdata": [
          [
           "GF19010",
           "2019-02-27T18:32Z",
           64.21901666666666,
           -51.68195
          ]
         ],
         "hovertemplate": "<b>%{hovertext}</b><br><br>time=%{customdata[1]}<br>latitude=%{customdata[2]}<br>longitude=%{customdata[3]}<br>station=%{customdata[0]}<extra></extra>",
         "hovertext": [
          "GF19010"
         ],
         "lat": [
          64.21901666666666
         ],
         "legendgroup": "2019-02-27T18:32Z",
         "lon": [
          -51.68195
         ],
         "marker": {
          "color": "#FF6692"
         },
         "mode": "markers",
         "name": "2019-02-27T18:32Z",
         "showlegend": true,
         "subplot": "mapbox",
         "type": "scattermapbox"
        },
        {
         "customdata": [
          [
           "GF19004",
           "2019-02-05T14:35Z",
           64.60891666666667,
           -50.958533333333335
          ]
         ],
         "hovertemplate": "<b>%{hovertext}</b><br><br>time=%{customdata[1]}<br>latitude=%{customdata[2]}<br>longitude=%{customdata[3]}<br>station=%{customdata[0]}<extra></extra>",
         "hovertext": [
          "GF19004"
         ],
         "lat": [
          64.60891666666667
         ],
         "legendgroup": "2019-02-05T14:35Z",
         "lon": [
          -50.958533333333335
         ],
         "marker": {
          "color": "#B6E880"
         },
         "mode": "markers",
         "name": "2019-02-05T14:35Z",
         "showlegend": true,
         "subplot": "mapbox",
         "type": "scattermapbox"
        },
        {
         "customdata": [
          [
           "GF19005",
           "2019-02-05T15:17Z",
           64.67518333333334,
           -50.76671666666667
          ]
         ],
         "hovertemplate": "<b>%{hovertext}</b><br><br>time=%{customdata[1]}<br>latitude=%{customdata[2]}<br>longitude=%{customdata[3]}<br>station=%{customdata[0]}<extra></extra>",
         "hovertext": [
          "GF19005"
         ],
         "lat": [
          64.67518333333334
         ],
         "legendgroup": "2019-02-05T15:17Z",
         "lon": [
          -50.76671666666667
         ],
         "marker": {
          "color": "#FF97FF"
         },
         "mode": "markers",
         "name": "2019-02-05T15:17Z",
         "showlegend": true,
         "subplot": "mapbox",
         "type": "scattermapbox"
        },
        {
         "customdata": [
          [
           "GF19011",
           "2019-03-05T11:59Z",
           64.26671666666667,
           -51.667766666666665
          ]
         ],
         "hovertemplate": "<b>%{hovertext}</b><br><br>time=%{customdata[1]}<br>latitude=%{customdata[2]}<br>longitude=%{customdata[3]}<br>station=%{customdata[0]}<extra></extra>",
         "hovertext": [
          "GF19011"
         ],
         "lat": [
          64.26671666666667
         ],
         "legendgroup": "2019-03-05T11:59Z",
         "lon": [
          -51.667766666666665
         ],
         "marker": {
          "color": "#FECB52"
         },
         "mode": "markers",
         "name": "2019-03-05T11:59Z",
         "showlegend": true,
         "subplot": "mapbox",
         "type": "scattermapbox"
        },
        {
         "customdata": [
          [
           "GF19029",
           "2019-04-10T15:50Z",
           64.60783333333333,
           -50.96281666666667
          ]
         ],
         "hovertemplate": "<b>%{hovertext}</b><br><br>time=%{customdata[1]}<br>latitude=%{customdata[2]}<br>longitude=%{customdata[3]}<br>station=%{customdata[0]}<extra></extra>",
         "hovertext": [
          "GF19029"
         ],
         "lat": [
          64.60783333333333
         ],
         "legendgroup": "2019-04-10T15:50Z",
         "lon": [
          -50.96281666666667
         ],
         "marker": {
          "color": "#636efa"
         },
         "mode": "markers",
         "name": "2019-04-10T15:50Z",
         "showlegend": true,
         "subplot": "mapbox",
         "type": "scattermapbox"
        },
        {
         "customdata": [
          [
           "GF19015",
           "2019-03-05T16:13Z",
           64.72043333333333,
           -50.51035
          ]
         ],
         "hovertemplate": "<b>%{hovertext}</b><br><br>time=%{customdata[1]}<br>latitude=%{customdata[2]}<br>longitude=%{customdata[3]}<br>station=%{customdata[0]}<extra></extra>",
         "hovertext": [
          "GF19015"
         ],
         "lat": [
          64.72043333333333
         ],
         "legendgroup": "2019-03-05T16:13Z",
         "lon": [
          -50.51035
         ],
         "marker": {
          "color": "#EF553B"
         },
         "mode": "markers",
         "name": "2019-03-05T16:13Z",
         "showlegend": true,
         "subplot": "mapbox",
         "type": "scattermapbox"
        },
        {
         "customdata": [
          [
           "GF19001",
           "2019-02-05T12:03Z",
           64.26556666666667,
           -51.66725
          ]
         ],
         "hovertemplate": "<b>%{hovertext}</b><br><br>time=%{customdata[1]}<br>latitude=%{customdata[2]}<br>longitude=%{customdata[3]}<br>station=%{customdata[0]}<extra></extra>",
         "hovertext": [
          "GF19001"
         ],
         "lat": [
          64.26556666666667
         ],
         "legendgroup": "2019-02-05T12:03Z",
         "lon": [
          -51.66725
         ],
         "marker": {
          "color": "#00cc96"
         },
         "mode": "markers",
         "name": "2019-02-05T12:03Z",
         "showlegend": true,
         "subplot": "mapbox",
         "type": "scattermapbox"
        },
        {
         "customdata": [
          [
           "GF19028",
           "2019-04-10T14:49Z",
           64.69451666666667,
           -50.398183333333336
          ]
         ],
         "hovertemplate": "<b>%{hovertext}</b><br><br>time=%{customdata[1]}<br>latitude=%{customdata[2]}<br>longitude=%{customdata[3]}<br>station=%{customdata[0]}<extra></extra>",
         "hovertext": [
          "GF19028"
         ],
         "lat": [
          64.69451666666667
         ],
         "legendgroup": "2019-04-10T14:49Z",
         "lon": [
          -50.398183333333336
         ],
         "marker": {
          "color": "#ab63fa"
         },
         "mode": "markers",
         "name": "2019-04-10T14:49Z",
         "showlegend": true,
         "subplot": "mapbox",
         "type": "scattermapbox"
        },
        {
         "customdata": [
          [
           "GF19002",
           "2019-02-05T12:41Z",
           64.38038333333333,
           -51.58828333333334
          ]
         ],
         "hovertemplate": "<b>%{hovertext}</b><br><br>time=%{customdata[1]}<br>latitude=%{customdata[2]}<br>longitude=%{customdata[3]}<br>station=%{customdata[0]}<extra></extra>",
         "hovertext": [
          "GF19002"
         ],
         "lat": [
          64.38038333333333
         ],
         "legendgroup": "2019-02-05T12:41Z",
         "lon": [
          -51.58828333333334
         ],
         "marker": {
          "color": "#FFA15A"
         },
         "mode": "markers",
         "name": "2019-02-05T12:41Z",
         "showlegend": true,
         "subplot": "mapbox",
         "type": "scattermapbox"
        },
        {
         "customdata": [
          [
           "GF19017",
           "2019-03-05T17:51Z",
           64.60756666666667,
           -50.96211666666667
          ]
         ],
         "hovertemplate": "<b>%{hovertext}</b><br><br>time=%{customdata[1]}<br>latitude=%{customdata[2]}<br>longitude=%{customdata[3]}<br>station=%{customdata[0]}<extra></extra>",
         "hovertext": [
          "GF19017"
         ],
         "lat": [
          64.60756666666667
         ],
         "legendgroup": "2019-03-05T17:51Z",
         "lon": [
          -50.96211666666667
         ],
         "marker": {
          "color": "#19d3f3"
         },
         "mode": "markers",
         "name": "2019-03-05T17:51Z",
         "showlegend": true,
         "subplot": "mapbox",
         "type": "scattermapbox"
        },
        {
         "customdata": [
          [
           "GF19003",
           "2019-02-05T13:33Z",
           64.50785,
           -51.395783333333334
          ]
         ],
         "hovertemplate": "<b>%{hovertext}</b><br><br>time=%{customdata[1]}<br>latitude=%{customdata[2]}<br>longitude=%{customdata[3]}<br>station=%{customdata[0]}<extra></extra>",
         "hovertext": [
          "GF19003"
         ],
         "lat": [
          64.50785
         ],
         "legendgroup": "2019-02-05T13:33Z",
         "lon": [
          -51.395783333333334
         ],
         "marker": {
          "color": "#FF6692"
         },
         "mode": "markers",
         "name": "2019-02-05T13:33Z",
         "showlegend": true,
         "subplot": "mapbox",
         "type": "scattermapbox"
        },
        {
         "customdata": [
          [
           "GF19026",
           "2019-04-10T12:16Z",
           64.3799,
           -51.59011666666667
          ]
         ],
         "hovertemplate": "<b>%{hovertext}</b><br><br>time=%{customdata[1]}<br>latitude=%{customdata[2]}<br>longitude=%{customdata[3]}<br>station=%{customdata[0]}<extra></extra>",
         "hovertext": [
          "GF19026"
         ],
         "lat": [
          64.3799
         ],
         "legendgroup": "2019-04-10T12:16Z",
         "lon": [
          -51.59011666666667
         ],
         "marker": {
          "color": "#B6E880"
         },
         "mode": "markers",
         "name": "2019-04-10T12:16Z",
         "showlegend": true,
         "subplot": "mapbox",
         "type": "scattermapbox"
        },
        {
         "customdata": [
          [
           "GF19027",
           "2019-04-10T13:08Z",
           64.50771666666667,
           -51.39861666666667
          ]
         ],
         "hovertemplate": "<b>%{hovertext}</b><br><br>time=%{customdata[1]}<br>latitude=%{customdata[2]}<br>longitude=%{customdata[3]}<br>station=%{customdata[0]}<extra></extra>",
         "hovertext": [
          "GF19027"
         ],
         "lat": [
          64.50771666666667
         ],
         "legendgroup": "2019-04-10T13:08Z",
         "lon": [
          -51.39861666666667
         ],
         "marker": {
          "color": "#FF97FF"
         },
         "mode": "markers",
         "name": "2019-04-10T13:08Z",
         "showlegend": true,
         "subplot": "mapbox",
         "type": "scattermapbox"
        },
        {
         "customdata": [
          [
           "GF19024",
           "2019-04-10T11:07Z",
           64.26656666666666,
           -51.66755
          ]
         ],
         "hovertemplate": "<b>%{hovertext}</b><br><br>time=%{customdata[1]}<br>latitude=%{customdata[2]}<br>longitude=%{customdata[3]}<br>station=%{customdata[0]}<extra></extra>",
         "hovertext": [
          "GF19024"
         ],
         "lat": [
          64.26656666666666
         ],
         "legendgroup": "2019-04-10T11:07Z",
         "lon": [
          -51.66755
         ],
         "marker": {
          "color": "#FECB52"
         },
         "mode": "markers",
         "name": "2019-04-10T11:07Z",
         "showlegend": true,
         "subplot": "mapbox",
         "type": "scattermapbox"
        },
        {
         "lat": [
          64.612
         ],
         "lon": [
          -50.954
         ],
         "marker": {
          "color": "black",
          "size": 10
         },
         "mode": "markers+text",
         "text": [
          "Mooring"
         ],
         "type": "scattermapbox"
        }
       ],
       "layout": {
        "legend": {
         "title": {
          "text": "time"
         },
         "tracegroupgap": 0
        },
        "mapbox": {
         "center": {
          "lat": 64.50948422222221,
          "lon": -51.08716633333334
         },
         "domain": {
          "x": [
           0,
           1
          ],
          "y": [
           0,
           1
          ]
         },
         "style": "open-street-map",
         "zoom": 7
        },
        "margin": {
         "b": 0,
         "l": 0,
         "r": 0,
         "t": 0
        },
        "template": {
         "data": {
          "bar": [
           {
            "error_x": {
             "color": "#2a3f5f"
            },
            "error_y": {
             "color": "#2a3f5f"
            },
            "marker": {
             "line": {
              "color": "#E5ECF6",
              "width": 0.5
             },
             "pattern": {
              "fillmode": "overlay",
              "size": 10,
              "solidity": 0.2
             }
            },
            "type": "bar"
           }
          ],
          "barpolar": [
           {
            "marker": {
             "line": {
              "color": "#E5ECF6",
              "width": 0.5
             },
             "pattern": {
              "fillmode": "overlay",
              "size": 10,
              "solidity": 0.2
             }
            },
            "type": "barpolar"
           }
          ],
          "carpet": [
           {
            "aaxis": {
             "endlinecolor": "#2a3f5f",
             "gridcolor": "white",
             "linecolor": "white",
             "minorgridcolor": "white",
             "startlinecolor": "#2a3f5f"
            },
            "baxis": {
             "endlinecolor": "#2a3f5f",
             "gridcolor": "white",
             "linecolor": "white",
             "minorgridcolor": "white",
             "startlinecolor": "#2a3f5f"
            },
            "type": "carpet"
           }
          ],
          "choropleth": [
           {
            "colorbar": {
             "outlinewidth": 0,
             "ticks": ""
            },
            "type": "choropleth"
           }
          ],
          "contour": [
           {
            "colorbar": {
             "outlinewidth": 0,
             "ticks": ""
            },
            "colorscale": [
             [
              0,
              "#0d0887"
             ],
             [
              0.1111111111111111,
              "#46039f"
             ],
             [
              0.2222222222222222,
              "#7201a8"
             ],
             [
              0.3333333333333333,
              "#9c179e"
             ],
             [
              0.4444444444444444,
              "#bd3786"
             ],
             [
              0.5555555555555556,
              "#d8576b"
             ],
             [
              0.6666666666666666,
              "#ed7953"
             ],
             [
              0.7777777777777778,
              "#fb9f3a"
             ],
             [
              0.8888888888888888,
              "#fdca26"
             ],
             [
              1,
              "#f0f921"
             ]
            ],
            "type": "contour"
           }
          ],
          "contourcarpet": [
           {
            "colorbar": {
             "outlinewidth": 0,
             "ticks": ""
            },
            "type": "contourcarpet"
           }
          ],
          "heatmap": [
           {
            "colorbar": {
             "outlinewidth": 0,
             "ticks": ""
            },
            "colorscale": [
             [
              0,
              "#0d0887"
             ],
             [
              0.1111111111111111,
              "#46039f"
             ],
             [
              0.2222222222222222,
              "#7201a8"
             ],
             [
              0.3333333333333333,
              "#9c179e"
             ],
             [
              0.4444444444444444,
              "#bd3786"
             ],
             [
              0.5555555555555556,
              "#d8576b"
             ],
             [
              0.6666666666666666,
              "#ed7953"
             ],
             [
              0.7777777777777778,
              "#fb9f3a"
             ],
             [
              0.8888888888888888,
              "#fdca26"
             ],
             [
              1,
              "#f0f921"
             ]
            ],
            "type": "heatmap"
           }
          ],
          "heatmapgl": [
           {
            "colorbar": {
             "outlinewidth": 0,
             "ticks": ""
            },
            "colorscale": [
             [
              0,
              "#0d0887"
             ],
             [
              0.1111111111111111,
              "#46039f"
             ],
             [
              0.2222222222222222,
              "#7201a8"
             ],
             [
              0.3333333333333333,
              "#9c179e"
             ],
             [
              0.4444444444444444,
              "#bd3786"
             ],
             [
              0.5555555555555556,
              "#d8576b"
             ],
             [
              0.6666666666666666,
              "#ed7953"
             ],
             [
              0.7777777777777778,
              "#fb9f3a"
             ],
             [
              0.8888888888888888,
              "#fdca26"
             ],
             [
              1,
              "#f0f921"
             ]
            ],
            "type": "heatmapgl"
           }
          ],
          "histogram": [
           {
            "marker": {
             "pattern": {
              "fillmode": "overlay",
              "size": 10,
              "solidity": 0.2
             }
            },
            "type": "histogram"
           }
          ],
          "histogram2d": [
           {
            "colorbar": {
             "outlinewidth": 0,
             "ticks": ""
            },
            "colorscale": [
             [
              0,
              "#0d0887"
             ],
             [
              0.1111111111111111,
              "#46039f"
             ],
             [
              0.2222222222222222,
              "#7201a8"
             ],
             [
              0.3333333333333333,
              "#9c179e"
             ],
             [
              0.4444444444444444,
              "#bd3786"
             ],
             [
              0.5555555555555556,
              "#d8576b"
             ],
             [
              0.6666666666666666,
              "#ed7953"
             ],
             [
              0.7777777777777778,
              "#fb9f3a"
             ],
             [
              0.8888888888888888,
              "#fdca26"
             ],
             [
              1,
              "#f0f921"
             ]
            ],
            "type": "histogram2d"
           }
          ],
          "histogram2dcontour": [
           {
            "colorbar": {
             "outlinewidth": 0,
             "ticks": ""
            },
            "colorscale": [
             [
              0,
              "#0d0887"
             ],
             [
              0.1111111111111111,
              "#46039f"
             ],
             [
              0.2222222222222222,
              "#7201a8"
             ],
             [
              0.3333333333333333,
              "#9c179e"
             ],
             [
              0.4444444444444444,
              "#bd3786"
             ],
             [
              0.5555555555555556,
              "#d8576b"
             ],
             [
              0.6666666666666666,
              "#ed7953"
             ],
             [
              0.7777777777777778,
              "#fb9f3a"
             ],
             [
              0.8888888888888888,
              "#fdca26"
             ],
             [
              1,
              "#f0f921"
             ]
            ],
            "type": "histogram2dcontour"
           }
          ],
          "mesh3d": [
           {
            "colorbar": {
             "outlinewidth": 0,
             "ticks": ""
            },
            "type": "mesh3d"
           }
          ],
          "parcoords": [
           {
            "line": {
             "colorbar": {
              "outlinewidth": 0,
              "ticks": ""
             }
            },
            "type": "parcoords"
           }
          ],
          "pie": [
           {
            "automargin": true,
            "type": "pie"
           }
          ],
          "scatter": [
           {
            "fillpattern": {
             "fillmode": "overlay",
             "size": 10,
             "solidity": 0.2
            },
            "type": "scatter"
           }
          ],
          "scatter3d": [
           {
            "line": {
             "colorbar": {
              "outlinewidth": 0,
              "ticks": ""
             }
            },
            "marker": {
             "colorbar": {
              "outlinewidth": 0,
              "ticks": ""
             }
            },
            "type": "scatter3d"
           }
          ],
          "scattercarpet": [
           {
            "marker": {
             "colorbar": {
              "outlinewidth": 0,
              "ticks": ""
             }
            },
            "type": "scattercarpet"
           }
          ],
          "scattergeo": [
           {
            "marker": {
             "colorbar": {
              "outlinewidth": 0,
              "ticks": ""
             }
            },
            "type": "scattergeo"
           }
          ],
          "scattergl": [
           {
            "marker": {
             "colorbar": {
              "outlinewidth": 0,
              "ticks": ""
             }
            },
            "type": "scattergl"
           }
          ],
          "scattermapbox": [
           {
            "marker": {
             "colorbar": {
              "outlinewidth": 0,
              "ticks": ""
             }
            },
            "type": "scattermapbox"
           }
          ],
          "scatterpolar": [
           {
            "marker": {
             "colorbar": {
              "outlinewidth": 0,
              "ticks": ""
             }
            },
            "type": "scatterpolar"
           }
          ],
          "scatterpolargl": [
           {
            "marker": {
             "colorbar": {
              "outlinewidth": 0,
              "ticks": ""
             }
            },
            "type": "scatterpolargl"
           }
          ],
          "scatterternary": [
           {
            "marker": {
             "colorbar": {
              "outlinewidth": 0,
              "ticks": ""
             }
            },
            "type": "scatterternary"
           }
          ],
          "surface": [
           {
            "colorbar": {
             "outlinewidth": 0,
             "ticks": ""
            },
            "colorscale": [
             [
              0,
              "#0d0887"
             ],
             [
              0.1111111111111111,
              "#46039f"
             ],
             [
              0.2222222222222222,
              "#7201a8"
             ],
             [
              0.3333333333333333,
              "#9c179e"
             ],
             [
              0.4444444444444444,
              "#bd3786"
             ],
             [
              0.5555555555555556,
              "#d8576b"
             ],
             [
              0.6666666666666666,
              "#ed7953"
             ],
             [
              0.7777777777777778,
              "#fb9f3a"
             ],
             [
              0.8888888888888888,
              "#fdca26"
             ],
             [
              1,
              "#f0f921"
             ]
            ],
            "type": "surface"
           }
          ],
          "table": [
           {
            "cells": {
             "fill": {
              "color": "#EBF0F8"
             },
             "line": {
              "color": "white"
             }
            },
            "header": {
             "fill": {
              "color": "#C8D4E3"
             },
             "line": {
              "color": "white"
             }
            },
            "type": "table"
           }
          ]
         },
         "layout": {
          "annotationdefaults": {
           "arrowcolor": "#2a3f5f",
           "arrowhead": 0,
           "arrowwidth": 1
          },
          "autotypenumbers": "strict",
          "coloraxis": {
           "colorbar": {
            "outlinewidth": 0,
            "ticks": ""
           }
          },
          "colorscale": {
           "diverging": [
            [
             0,
             "#8e0152"
            ],
            [
             0.1,
             "#c51b7d"
            ],
            [
             0.2,
             "#de77ae"
            ],
            [
             0.3,
             "#f1b6da"
            ],
            [
             0.4,
             "#fde0ef"
            ],
            [
             0.5,
             "#f7f7f7"
            ],
            [
             0.6,
             "#e6f5d0"
            ],
            [
             0.7,
             "#b8e186"
            ],
            [
             0.8,
             "#7fbc41"
            ],
            [
             0.9,
             "#4d9221"
            ],
            [
             1,
             "#276419"
            ]
           ],
           "sequential": [
            [
             0,
             "#0d0887"
            ],
            [
             0.1111111111111111,
             "#46039f"
            ],
            [
             0.2222222222222222,
             "#7201a8"
            ],
            [
             0.3333333333333333,
             "#9c179e"
            ],
            [
             0.4444444444444444,
             "#bd3786"
            ],
            [
             0.5555555555555556,
             "#d8576b"
            ],
            [
             0.6666666666666666,
             "#ed7953"
            ],
            [
             0.7777777777777778,
             "#fb9f3a"
            ],
            [
             0.8888888888888888,
             "#fdca26"
            ],
            [
             1,
             "#f0f921"
            ]
           ],
           "sequentialminus": [
            [
             0,
             "#0d0887"
            ],
            [
             0.1111111111111111,
             "#46039f"
            ],
            [
             0.2222222222222222,
             "#7201a8"
            ],
            [
             0.3333333333333333,
             "#9c179e"
            ],
            [
             0.4444444444444444,
             "#bd3786"
            ],
            [
             0.5555555555555556,
             "#d8576b"
            ],
            [
             0.6666666666666666,
             "#ed7953"
            ],
            [
             0.7777777777777778,
             "#fb9f3a"
            ],
            [
             0.8888888888888888,
             "#fdca26"
            ],
            [
             1,
             "#f0f921"
            ]
           ]
          },
          "colorway": [
           "#636efa",
           "#EF553B",
           "#00cc96",
           "#ab63fa",
           "#FFA15A",
           "#19d3f3",
           "#FF6692",
           "#B6E880",
           "#FF97FF",
           "#FECB52"
          ],
          "font": {
           "color": "#2a3f5f"
          },
          "geo": {
           "bgcolor": "white",
           "lakecolor": "white",
           "landcolor": "#E5ECF6",
           "showlakes": true,
           "showland": true,
           "subunitcolor": "white"
          },
          "hoverlabel": {
           "align": "left"
          },
          "hovermode": "closest",
          "mapbox": {
           "style": "light"
          },
          "paper_bgcolor": "white",
          "plot_bgcolor": "#E5ECF6",
          "polar": {
           "angularaxis": {
            "gridcolor": "white",
            "linecolor": "white",
            "ticks": ""
           },
           "bgcolor": "#E5ECF6",
           "radialaxis": {
            "gridcolor": "white",
            "linecolor": "white",
            "ticks": ""
           }
          },
          "scene": {
           "xaxis": {
            "backgroundcolor": "#E5ECF6",
            "gridcolor": "white",
            "gridwidth": 2,
            "linecolor": "white",
            "showbackground": true,
            "ticks": "",
            "zerolinecolor": "white"
           },
           "yaxis": {
            "backgroundcolor": "#E5ECF6",
            "gridcolor": "white",
            "gridwidth": 2,
            "linecolor": "white",
            "showbackground": true,
            "ticks": "",
            "zerolinecolor": "white"
           },
           "zaxis": {
            "backgroundcolor": "#E5ECF6",
            "gridcolor": "white",
            "gridwidth": 2,
            "linecolor": "white",
            "showbackground": true,
            "ticks": "",
            "zerolinecolor": "white"
           }
          },
          "shapedefaults": {
           "line": {
            "color": "#2a3f5f"
           }
          },
          "ternary": {
           "aaxis": {
            "gridcolor": "white",
            "linecolor": "white",
            "ticks": ""
           },
           "baxis": {
            "gridcolor": "white",
            "linecolor": "white",
            "ticks": ""
           },
           "bgcolor": "#E5ECF6",
           "caxis": {
            "gridcolor": "white",
            "linecolor": "white",
            "ticks": ""
           }
          },
          "title": {
           "x": 0.05
          },
          "xaxis": {
           "automargin": true,
           "gridcolor": "white",
           "linecolor": "white",
           "ticks": "",
           "title": {
            "standoff": 15
           },
           "zerolinecolor": "white",
           "zerolinewidth": 2
          },
          "yaxis": {
           "automargin": true,
           "gridcolor": "white",
           "linecolor": "white",
           "ticks": "",
           "title": {
            "standoff": 15
           },
           "zerolinecolor": "white",
           "zerolinewidth": 2
          }
         }
        }
       }
      }
     },
     "metadata": {},
     "output_type": "display_data"
    }
   ],
   "source": [
    "import plotly.express as px\n",
    "import xarray as xr\n",
    "import plotly.graph_objects as go\n",
    "\n",
    "def add_rectangle(fig, max_lat, min_lat, max_lon, min_lon, text=None):\n",
    "    fig.add_trace(go.Scattermapbox(\n",
    "        mode = \"markers+lines\",\n",
    "        lon = [max_lon, min_lon, min_lon, max_lon, max_lon], lat = [max_lat, max_lat, min_lat, min_lat, max_lat],\n",
    "        marker = {'size': 5, }))\n",
    "    if text is not None:\n",
    "        fig.add_trace(go.Scattermapbox(\n",
    "            lon = [max_lon, min_lon, min_lon, max_lon, max_lon], lat = [max_lat, max_lat, min_lat, min_lat, max_lat],\n",
    "            text = [text,text, text, text],  textfont = {'color': 'black', 'size': 10, 'family': \"Courier New, monospace\"},    textposition = \"top right\",\n",
    "            ))\n",
    "    return fig\n",
    "    \n",
    "figpath = \"../../img/\"\n",
    "ds = xr.open_dataset(\"../../data/temp/netcdf/CTD_all_stations.nc\")\n",
    "\n",
    "mooring_loc = {\"latitude\": 64.612, \"longitude\": -50.954}\n",
    "\n",
    "df_stations = ds.coords[\"latitude\"].to_dataframe().reset_index()\n",
    "df_stations.head()\n",
    "\n",
    "fig = px.scatter_mapbox(df_stations.iloc[:,:-1], lat=\"latitude\", lon=\"longitude\", \n",
    "                        hover_name=\"station\", hover_data=[\"station\", \"time\", \"latitude\", \"longitude\"],\n",
    "                        color=\"time\",\n",
    "                        color_continuous_scale=px.colors.cyclical.IceFire,\n",
    "                        # # color_discrete_sequence=[\"fuchsia\"], \n",
    "                        zoom=7, \n",
    "                        # height=300,\n",
    "                        )\n",
    "\n",
    "fig.add_trace(go.Scattermapbox(\n",
    "    mode = \"markers+text\",\n",
    "    lon = [mooring_loc[\"longitude\"]], lat = [mooring_loc[\"latitude\"]],\n",
    "    text=[\"Mooring\"],\n",
    "    marker = {'size': 10, 'color': \"black\"},\n",
    "    ))\n",
    "\n",
    "\n",
    "fig.update_layout(mapbox_style=\"open-street-map\")\n",
    "fig.update_layout(margin={\"r\":0,\"t\":0,\"l\":0,\"b\":0})\n",
    "\n",
    "\n",
    "# for i, station in enumerate([Puattorfik, Uuummannap_Sullua, KangersuneqGF12NorthSide, GF10NorthSide, GF3, Mouth]):\n",
    "#     fig = add_rectangle(fig, station[\"latitude_max\"], station[\"latitude_min\"], station[\"longitude_max\"], station[\"longitude_min\"], text=station[\"name\"])\n",
    "# fig.update_layout(mapbox_style= \"mapbox://styles/anneke-vries/cldmzfy3a003c01mwjiz2yj47\", mapbox_accesstoken=token) # if you want to use a satellite background\n",
    "\n",
    "\n",
    "# fig.write_image(f\"{figpath}/map_with_selected_stations_osm.jpg\")\n",
    "fig.write_html(f\"{figpath}/map_with_selected_stations_osm.html\")\n",
    "\n",
    "\n",
    "fig.update_layout(margin={\"r\":0,\"t\":0,\"l\":0,\"b\":0}) \n",
    "fig.show()"
   ]
  },
  {
   "cell_type": "code",
   "execution_count": 37,
   "metadata": {},
   "outputs": [
    {
     "name": "stdout",
     "output_type": "stream",
     "text": [
      "Total number of stations: 150\n",
      "Total number of unique dates: 37\n",
      "Westernmost station: 64 8m 20.76s N, 51 50m 59.04s W\n",
      "Easternmost station: 64 27m 5.7s N, 50 0m 48.42s W\n"
     ]
    }
   ],
   "source": [
    "import pandas as pd\n",
    "df_selected_stations = pd.read_csv(\"../data/temp/CTD_selected_stations_info.csv\")\n",
    "print(\"Total number of stations:\", len(df_selected_stations[\"St.No.\"].unique()))\n",
    "print(\"Total number of unique dates:\", len(df_selected_stations[\"Date\"].unique()))\n",
    "# print unique Coordinates and format as table\n",
    "# format as table\n",
    "# find minimum longitude and maximum longitude and print as table\n",
    "\n",
    "most_west_station = df_selected_stations[df_selected_stations.Longitude == df_selected_stations.Longitude.min()]\n",
    "most_east_station = df_selected_stations[df_selected_stations.Longitude == df_selected_stations.Longitude.max()]\n",
    "most_north_station = df_selected_stations[df_selected_stations.Latitude == df_selected_stations.Latitude.max()]\n",
    "most_south_station = df_selected_stations[df_selected_stations.Latitude == df_selected_stations.Latitude.min()]\n",
    "\n",
    "print(f\"Westernmost station: {most_west_station.Coordinates.values[0]}\")\n",
    "print(f\"Easternmost station: {most_east_station.Coordinates.values[0]}\")\n",
    "# most_west_station"
   ]
  },
  {
   "cell_type": "code",
   "execution_count": 8,
   "metadata": {},
   "outputs": [
    {
     "data": {
      "text/plain": [
       "['GF18056',\n",
       " 'GF18057',\n",
       " 'GF18058',\n",
       " 'GF18060',\n",
       " 'GF18074',\n",
       " 'GF18076',\n",
       " 'GF18087',\n",
       " 'GF18088',\n",
       " 'GF18089',\n",
       " 'GF18090',\n",
       " 'GF18092',\n",
       " 'GF18106',\n",
       " 'GF18110',\n",
       " 'GF18111',\n",
       " 'GF18115',\n",
       " 'GF18116',\n",
       " 'GF18119',\n",
       " 'GF18120',\n",
       " 'GF18121',\n",
       " 'GF18122',\n",
       " 'GF18123',\n",
       " 'GF18124',\n",
       " 'GF18128',\n",
       " 'GF18129',\n",
       " 'GF18130',\n",
       " 'GF18131',\n",
       " 'GF18132',\n",
       " 'GF18135',\n",
       " 'GF18136',\n",
       " 'GF18137',\n",
       " 'GF18140',\n",
       " 'GF19001',\n",
       " 'GF19002',\n",
       " 'GF19003',\n",
       " 'GF19004',\n",
       " 'GF19005',\n",
       " 'GF19011',\n",
       " 'GF19012',\n",
       " 'GF19013',\n",
       " 'GF19015',\n",
       " 'GF19017',\n",
       " 'GF19024',\n",
       " 'GF19026',\n",
       " 'GF19027',\n",
       " 'GF19028',\n",
       " 'GF19029',\n",
       " 'GF19033',\n",
       " 'GF19034',\n",
       " 'GF19035',\n",
       " 'GF19036',\n",
       " 'GF19037',\n",
       " 'GF19038',\n",
       " 'GF19042',\n",
       " 'GF19043',\n",
       " 'GF19044',\n",
       " 'GF19045',\n",
       " 'GF19046']"
      ]
     },
     "execution_count": 8,
     "metadata": {},
     "output_type": "execute_result"
    }
   ],
   "source": [
    "# open txt file selected_stations_list.txt in temp folder\n",
    "from pathlib import Path\n",
    "\n"
   ]
  }
 ],
 "metadata": {
  "kernelspec": {
   "display_name": "nioz_ctd",
   "language": "python",
   "name": "python3"
  },
  "language_info": {
   "codemirror_mode": {
    "name": "ipython",
    "version": 3
   },
   "file_extension": ".py",
   "mimetype": "text/x-python",
   "name": "python",
   "nbconvert_exporter": "python",
   "pygments_lexer": "ipython3",
   "version": "3.9.16"
  }
 },
 "nbformat": 4,
 "nbformat_minor": 2
}
