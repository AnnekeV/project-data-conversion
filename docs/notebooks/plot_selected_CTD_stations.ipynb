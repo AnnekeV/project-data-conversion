{
 "cells": [
  {
   "cell_type": "code",
   "execution_count": 1,
   "metadata": {},
   "outputs": [
    {
     "data": {
      "application/vnd.plotly.v1+json": {
       "config": {
        "plotlyServerURL": "https://plotly.com"
       },
       "data": [
        {
         "customdata": [
          [
           "GF18090",
           "2018-08-09T13:20Z",
           64.60975,
           -50.9521
          ]
         ],
         "hovertemplate": "<b>%{hovertext}</b><br><br>time=%{customdata[1]}<br>latitude=%{customdata[2]}<br>longitude=%{customdata[3]}<br>station=%{customdata[0]}<extra></extra>",
         "hovertext": [
          "GF18090"
         ],
         "lat": [
          64.60975
         ],
         "legendgroup": "2018-08-09T13:20Z",
         "lon": [
          -50.9521
         ],
         "marker": {
          "color": "#636efa"
         },
         "mode": "markers",
         "name": "2018-08-09T13:20Z",
         "showlegend": true,
         "subplot": "mapbox",
         "type": "scattermapbox"
        },
        {
         "customdata": [
          [
           "GF18084",
           "2018-08-08T13:45Z",
           64.60586666666667,
           -50.94145
          ]
         ],
         "hovertemplate": "<b>%{hovertext}</b><br><br>time=%{customdata[1]}<br>latitude=%{customdata[2]}<br>longitude=%{customdata[3]}<br>station=%{customdata[0]}<extra></extra>",
         "hovertext": [
          "GF18084"
         ],
         "lat": [
          64.60586666666667
         ],
         "legendgroup": "2018-08-08T13:45Z",
         "lon": [
          -50.94145
         ],
         "marker": {
          "color": "#EF553B"
         },
         "mode": "markers",
         "name": "2018-08-08T13:45Z",
         "showlegend": true,
         "subplot": "mapbox",
         "type": "scattermapbox"
        },
        {
         "customdata": [
          [
           "GF18085",
           "2018-08-08T14:47Z",
           64.56863333333334,
           -51.1653
          ]
         ],
         "hovertemplate": "<b>%{hovertext}</b><br><br>time=%{customdata[1]}<br>latitude=%{customdata[2]}<br>longitude=%{customdata[3]}<br>station=%{customdata[0]}<extra></extra>",
         "hovertext": [
          "GF18085"
         ],
         "lat": [
          64.56863333333334
         ],
         "legendgroup": "2018-08-08T14:47Z",
         "lon": [
          -51.1653
         ],
         "marker": {
          "color": "#00cc96"
         },
         "mode": "markers",
         "name": "2018-08-08T14:47Z",
         "showlegend": true,
         "subplot": "mapbox",
         "type": "scattermapbox"
        },
        {
         "customdata": [
          [
           "GF18046",
           "2018-05-04T15:26Z",
           64.69156666666666,
           -50.375766666666664
          ]
         ],
         "hovertemplate": "<b>%{hovertext}</b><br><br>time=%{customdata[1]}<br>latitude=%{customdata[2]}<br>longitude=%{customdata[3]}<br>station=%{customdata[0]}<extra></extra>",
         "hovertext": [
          "GF18046"
         ],
         "lat": [
          64.69156666666666
         ],
         "legendgroup": "2018-05-04T15:26Z",
         "lon": [
          -50.375766666666664
         ],
         "marker": {
          "color": "#ab63fa"
         },
         "mode": "markers",
         "name": "2018-05-04T15:26Z",
         "showlegend": true,
         "subplot": "mapbox",
         "type": "scattermapbox"
        },
        {
         "customdata": [
          [
           "GF18087",
           "2018-08-09T10:45Z",
           64.26545,
           -51.6688
          ]
         ],
         "hovertemplate": "<b>%{hovertext}</b><br><br>time=%{customdata[1]}<br>latitude=%{customdata[2]}<br>longitude=%{customdata[3]}<br>station=%{customdata[0]}<extra></extra>",
         "hovertext": [
          "GF18087"
         ],
         "lat": [
          64.26545
         ],
         "legendgroup": "2018-08-09T10:45Z",
         "lon": [
          -51.6688
         ],
         "marker": {
          "color": "#FFA15A"
         },
         "mode": "markers",
         "name": "2018-08-09T10:45Z",
         "showlegend": true,
         "subplot": "mapbox",
         "type": "scattermapbox"
        },
        {
         "customdata": [
          [
           "GF18092",
           "2018-08-09T15:38Z",
           64.69398333333334,
           -50.370466666666665
          ]
         ],
         "hovertemplate": "<b>%{hovertext}</b><br><br>time=%{customdata[1]}<br>latitude=%{customdata[2]}<br>longitude=%{customdata[3]}<br>station=%{customdata[0]}<extra></extra>",
         "hovertext": [
          "GF18092"
         ],
         "lat": [
          64.69398333333334
         ],
         "legendgroup": "2018-08-09T15:38Z",
         "lon": [
          -50.370466666666665
         ],
         "marker": {
          "color": "#19d3f3"
         },
         "mode": "markers",
         "name": "2018-08-09T15:38Z",
         "showlegend": true,
         "subplot": "mapbox",
         "type": "scattermapbox"
        },
        {
         "customdata": [
          [
           "GF18086",
           "2018-08-08T15:42Z",
           64.51245,
           -51.39561666666667
          ]
         ],
         "hovertemplate": "<b>%{hovertext}</b><br><br>time=%{customdata[1]}<br>latitude=%{customdata[2]}<br>longitude=%{customdata[3]}<br>station=%{customdata[0]}<extra></extra>",
         "hovertext": [
          "GF18086"
         ],
         "lat": [
          64.51245
         ],
         "legendgroup": "2018-08-08T15:42Z",
         "lon": [
          -51.39561666666667
         ],
         "marker": {
          "color": "#FF6692"
         },
         "mode": "markers",
         "name": "2018-08-08T15:42Z",
         "showlegend": true,
         "subplot": "mapbox",
         "type": "scattermapbox"
        },
        {
         "customdata": [
          [
           "GF18045",
           "2018-05-04T14:54Z",
           64.64095,
           -50.2357
          ]
         ],
         "hovertemplate": "<b>%{hovertext}</b><br><br>time=%{customdata[1]}<br>latitude=%{customdata[2]}<br>longitude=%{customdata[3]}<br>station=%{customdata[0]}<extra></extra>",
         "hovertext": [
          "GF18045"
         ],
         "lat": [
          64.64095
         ],
         "legendgroup": "2018-05-04T14:54Z",
         "lon": [
          -50.2357
         ],
         "marker": {
          "color": "#B6E880"
         },
         "mode": "markers",
         "name": "2018-05-04T14:54Z",
         "showlegend": true,
         "subplot": "mapbox",
         "type": "scattermapbox"
        },
        {
         "customdata": [
          [
           "GF18041",
           "2018-05-04T10:38Z",
           64.26758333333333,
           -51.663183333333336
          ]
         ],
         "hovertemplate": "<b>%{hovertext}</b><br><br>time=%{customdata[1]}<br>latitude=%{customdata[2]}<br>longitude=%{customdata[3]}<br>station=%{customdata[0]}<extra></extra>",
         "hovertext": [
          "GF18041"
         ],
         "lat": [
          64.26758333333333
         ],
         "legendgroup": "2018-05-04T10:38Z",
         "lon": [
          -51.663183333333336
         ],
         "marker": {
          "color": "#FF97FF"
         },
         "mode": "markers",
         "name": "2018-05-04T10:38Z",
         "showlegend": true,
         "subplot": "mapbox",
         "type": "scattermapbox"
        },
        {
         "customdata": [
          [
           "GF18056",
           "2018-06-06T11:55Z",
           64.26428333333334,
           -51.66395
          ]
         ],
         "hovertemplate": "<b>%{hovertext}</b><br><br>time=%{customdata[1]}<br>latitude=%{customdata[2]}<br>longitude=%{customdata[3]}<br>station=%{customdata[0]}<extra></extra>",
         "hovertext": [
          "GF18056"
         ],
         "lat": [
          64.26428333333334
         ],
         "legendgroup": "2018-06-06T11:55Z",
         "lon": [
          -51.66395
         ],
         "marker": {
          "color": "#FECB52"
         },
         "mode": "markers",
         "name": "2018-06-06T11:55Z",
         "showlegend": true,
         "subplot": "mapbox",
         "type": "scattermapbox"
        },
        {
         "customdata": [
          [
           "GF18042",
           "2018-05-04T12:06Z",
           64.50761666666666,
           -51.3962
          ]
         ],
         "hovertemplate": "<b>%{hovertext}</b><br><br>time=%{customdata[1]}<br>latitude=%{customdata[2]}<br>longitude=%{customdata[3]}<br>station=%{customdata[0]}<extra></extra>",
         "hovertext": [
          "GF18042"
         ],
         "lat": [
          64.50761666666666
         ],
         "legendgroup": "2018-05-04T12:06Z",
         "lon": [
          -51.3962
         ],
         "marker": {
          "color": "#636efa"
         },
         "mode": "markers",
         "name": "2018-05-04T12:06Z",
         "showlegend": true,
         "subplot": "mapbox",
         "type": "scattermapbox"
        },
        {
         "customdata": [
          [
           "GF18043",
           "2018-05-04T13:10Z",
           64.6092,
           -50.95771666666667
          ]
         ],
         "hovertemplate": "<b>%{hovertext}</b><br><br>time=%{customdata[1]}<br>latitude=%{customdata[2]}<br>longitude=%{customdata[3]}<br>station=%{customdata[0]}<extra></extra>",
         "hovertext": [
          "GF18043"
         ],
         "lat": [
          64.6092
         ],
         "legendgroup": "2018-05-04T13:10Z",
         "lon": [
          -50.95771666666667
         ],
         "marker": {
          "color": "#EF553B"
         },
         "mode": "markers",
         "name": "2018-05-04T13:10Z",
         "showlegend": true,
         "subplot": "mapbox",
         "type": "scattermapbox"
        },
        {
         "customdata": [
          [
           "GF18057",
           "2018-06-06T12:33Z",
           64.38125,
           -51.585233333333335
          ]
         ],
         "hovertemplate": "<b>%{hovertext}</b><br><br>time=%{customdata[1]}<br>latitude=%{customdata[2]}<br>longitude=%{customdata[3]}<br>station=%{customdata[0]}<extra></extra>",
         "hovertext": [
          "GF18057"
         ],
         "lat": [
          64.38125
         ],
         "legendgroup": "2018-06-06T12:33Z",
         "lon": [
          -51.585233333333335
         ],
         "marker": {
          "color": "#00cc96"
         },
         "mode": "markers",
         "name": "2018-06-06T12:33Z",
         "showlegend": true,
         "subplot": "mapbox",
         "type": "scattermapbox"
        },
        {
         "customdata": [
          [
           "GF18033",
           "2018-04-03T10:55Z",
           64.26616666666666,
           -51.666333333333334
          ]
         ],
         "hovertemplate": "<b>%{hovertext}</b><br><br>time=%{customdata[1]}<br>latitude=%{customdata[2]}<br>longitude=%{customdata[3]}<br>station=%{customdata[0]}<extra></extra>",
         "hovertext": [
          "GF18033"
         ],
         "lat": [
          64.26616666666666
         ],
         "legendgroup": "2018-04-03T10:55Z",
         "lon": [
          -51.666333333333334
         ],
         "marker": {
          "color": "#ab63fa"
         },
         "mode": "markers",
         "name": "2018-04-03T10:55Z",
         "showlegend": true,
         "subplot": "mapbox",
         "type": "scattermapbox"
        },
        {
         "customdata": [
          [
           "GF18037",
           "2018-04-03T15:08Z",
           64.6095,
           -50.95745
          ]
         ],
         "hovertemplate": "<b>%{hovertext}</b><br><br>time=%{customdata[1]}<br>latitude=%{customdata[2]}<br>longitude=%{customdata[3]}<br>station=%{customdata[0]}<extra></extra>",
         "hovertext": [
          "GF18037"
         ],
         "lat": [
          64.6095
         ],
         "legendgroup": "2018-04-03T15:08Z",
         "lon": [
          -50.95745
         ],
         "marker": {
          "color": "#FFA15A"
         },
         "mode": "markers",
         "name": "2018-04-03T15:08Z",
         "showlegend": true,
         "subplot": "mapbox",
         "type": "scattermapbox"
        },
        {
         "customdata": [
          [
           "GF18035",
           "2018-04-03T13:50Z",
           64.69683333333333,
           -50.386466666666664
          ]
         ],
         "hovertemplate": "<b>%{hovertext}</b><br><br>time=%{customdata[1]}<br>latitude=%{customdata[2]}<br>longitude=%{customdata[3]}<br>station=%{customdata[0]}<extra></extra>",
         "hovertext": [
          "GF18035"
         ],
         "lat": [
          64.69683333333333
         ],
         "legendgroup": "2018-04-03T13:50Z",
         "lon": [
          -50.386466666666664
         ],
         "marker": {
          "color": "#19d3f3"
         },
         "mode": "markers",
         "name": "2018-04-03T13:50Z",
         "showlegend": true,
         "subplot": "mapbox",
         "type": "scattermapbox"
        },
        {
         "customdata": [
          [
           "GF18009",
           "2018-03-06T12:38Z",
           64.38151666666667,
           -51.583866666666665
          ]
         ],
         "hovertemplate": "<b>%{hovertext}</b><br><br>time=%{customdata[1]}<br>latitude=%{customdata[2]}<br>longitude=%{customdata[3]}<br>station=%{customdata[0]}<extra></extra>",
         "hovertext": [
          "GF18009"
         ],
         "lat": [
          64.38151666666667
         ],
         "legendgroup": "2018-03-06T12:38Z",
         "lon": [
          -51.583866666666665
         ],
         "marker": {
          "color": "#FF6692"
         },
         "mode": "markers",
         "name": "2018-03-06T12:38Z",
         "showlegend": true,
         "subplot": "mapbox",
         "type": "scattermapbox"
        },
        {
         "customdata": [
          [
           "GF18008",
           "2018-03-06T12:00Z",
           64.26535,
           -51.66665
          ]
         ],
         "hovertemplate": "<b>%{hovertext}</b><br><br>time=%{customdata[1]}<br>latitude=%{customdata[2]}<br>longitude=%{customdata[3]}<br>station=%{customdata[0]}<extra></extra>",
         "hovertext": [
          "GF18008"
         ],
         "lat": [
          64.26535
         ],
         "legendgroup": "2018-03-06T12:00Z",
         "lon": [
          -51.66665
         ],
         "marker": {
          "color": "#B6E880"
         },
         "mode": "markers",
         "name": "2018-03-06T12:00Z",
         "showlegend": true,
         "subplot": "mapbox",
         "type": "scattermapbox"
        },
        {
         "customdata": [
          [
           "GF18034",
           "2018-04-03T11:30Z",
           64.37816666666667,
           -51.58741666666667
          ]
         ],
         "hovertemplate": "<b>%{hovertext}</b><br><br>time=%{customdata[1]}<br>latitude=%{customdata[2]}<br>longitude=%{customdata[3]}<br>station=%{customdata[0]}<extra></extra>",
         "hovertext": [
          "GF18034"
         ],
         "lat": [
          64.37816666666667
         ],
         "legendgroup": "2018-04-03T11:30Z",
         "lon": [
          -51.58741666666667
         ],
         "marker": {
          "color": "#FF97FF"
         },
         "mode": "markers",
         "name": "2018-04-03T11:30Z",
         "showlegend": true,
         "subplot": "mapbox",
         "type": "scattermapbox"
        },
        {
         "customdata": [
          [
           "GF18039",
           "2018-04-03T16:19Z",
           64.50795,
           -51.40055
          ]
         ],
         "hovertemplate": "<b>%{hovertext}</b><br><br>time=%{customdata[1]}<br>latitude=%{customdata[2]}<br>longitude=%{customdata[3]}<br>station=%{customdata[0]}<extra></extra>",
         "hovertext": [
          "GF18039"
         ],
         "lat": [
          64.50795
         ],
         "legendgroup": "2018-04-03T16:19Z",
         "lon": [
          -51.40055
         ],
         "marker": {
          "color": "#FECB52"
         },
         "mode": "markers",
         "name": "2018-04-03T16:19Z",
         "showlegend": true,
         "subplot": "mapbox",
         "type": "scattermapbox"
        },
        {
         "customdata": [
          [
           "GF18011",
           "2018-03-06T14:32Z",
           64.60923333333334,
           -50.96005
          ]
         ],
         "hovertemplate": "<b>%{hovertext}</b><br><br>time=%{customdata[1]}<br>latitude=%{customdata[2]}<br>longitude=%{customdata[3]}<br>station=%{customdata[0]}<extra></extra>",
         "hovertext": [
          "GF18011"
         ],
         "lat": [
          64.60923333333334
         ],
         "legendgroup": "2018-03-06T14:32Z",
         "lon": [
          -50.96005
         ],
         "marker": {
          "color": "#636efa"
         },
         "mode": "markers",
         "name": "2018-03-06T14:32Z",
         "showlegend": true,
         "subplot": "mapbox",
         "type": "scattermapbox"
        },
        {
         "customdata": [
          [
           "GF18010",
           "2018-03-06T13:29Z",
           64.5059,
           -51.399166666666666
          ]
         ],
         "hovertemplate": "<b>%{hovertext}</b><br><br>time=%{customdata[1]}<br>latitude=%{customdata[2]}<br>longitude=%{customdata[3]}<br>station=%{customdata[0]}<extra></extra>",
         "hovertext": [
          "GF18010"
         ],
         "lat": [
          64.5059
         ],
         "legendgroup": "2018-03-06T13:29Z",
         "lon": [
          -51.399166666666666
         ],
         "marker": {
          "color": "#EF553B"
         },
         "mode": "markers",
         "name": "2018-03-06T13:29Z",
         "showlegend": true,
         "subplot": "mapbox",
         "type": "scattermapbox"
        },
        {
         "customdata": [
          [
           "GF18012",
           "2018-03-06T15:58Z",
           64.7119,
           -50.465466666666664
          ]
         ],
         "hovertemplate": "<b>%{hovertext}</b><br><br>time=%{customdata[1]}<br>latitude=%{customdata[2]}<br>longitude=%{customdata[3]}<br>station=%{customdata[0]}<extra></extra>",
         "hovertext": [
          "GF18012"
         ],
         "lat": [
          64.7119
         ],
         "legendgroup": "2018-03-06T15:58Z",
         "lon": [
          -50.465466666666664
         ],
         "marker": {
          "color": "#00cc96"
         },
         "mode": "markers",
         "name": "2018-03-06T15:58Z",
         "showlegend": true,
         "subplot": "mapbox",
         "type": "scattermapbox"
        },
        {
         "customdata": [
          [
           "GF18073",
           "2018-06-27T12:48Z",
           64.70371666666666,
           -50.59141666666667
          ]
         ],
         "hovertemplate": "<b>%{hovertext}</b><br><br>time=%{customdata[1]}<br>latitude=%{customdata[2]}<br>longitude=%{customdata[3]}<br>station=%{customdata[0]}<extra></extra>",
         "hovertext": [
          "GF18073"
         ],
         "lat": [
          64.70371666666666
         ],
         "legendgroup": "2018-06-27T12:48Z",
         "lon": [
          -50.59141666666667
         ],
         "marker": {
          "color": "#ab63fa"
         },
         "mode": "markers",
         "name": "2018-06-27T12:48Z",
         "showlegend": true,
         "subplot": "mapbox",
         "type": "scattermapbox"
        },
        {
         "customdata": [
          [
           "GF18065",
           "2018-06-11T14:02Z",
           64.72125,
           -50.50515
          ]
         ],
         "hovertemplate": "<b>%{hovertext}</b><br><br>time=%{customdata[1]}<br>latitude=%{customdata[2]}<br>longitude=%{customdata[3]}<br>station=%{customdata[0]}<extra></extra>",
         "hovertext": [
          "GF18065"
         ],
         "lat": [
          64.72125
         ],
         "legendgroup": "2018-06-11T14:02Z",
         "lon": [
          -50.50515
         ],
         "marker": {
          "color": "#FFA15A"
         },
         "mode": "markers",
         "name": "2018-06-11T14:02Z",
         "showlegend": true,
         "subplot": "mapbox",
         "type": "scattermapbox"
        },
        {
         "customdata": [
          [
           "GF18064",
           "2018-06-11T12:46Z",
           64.6121,
           -50.95133333333333
          ]
         ],
         "hovertemplate": "<b>%{hovertext}</b><br><br>time=%{customdata[1]}<br>latitude=%{customdata[2]}<br>longitude=%{customdata[3]}<br>station=%{customdata[0]}<extra></extra>",
         "hovertext": [
          "GF18064"
         ],
         "lat": [
          64.6121
         ],
         "legendgroup": "2018-06-11T12:46Z",
         "lon": [
          -50.95133333333333
         ],
         "marker": {
          "color": "#19d3f3"
         },
         "mode": "markers",
         "name": "2018-06-11T12:46Z",
         "showlegend": true,
         "subplot": "mapbox",
         "type": "scattermapbox"
        },
        {
         "customdata": [
          [
           "GF18058",
           "2018-06-06T13:30Z",
           64.50371666666666,
           -51.40116666666667
          ]
         ],
         "hovertemplate": "<b>%{hovertext}</b><br><br>time=%{customdata[1]}<br>latitude=%{customdata[2]}<br>longitude=%{customdata[3]}<br>station=%{customdata[0]}<extra></extra>",
         "hovertext": [
          "GF18058"
         ],
         "lat": [
          64.50371666666666
         ],
         "legendgroup": "2018-06-06T13:30Z",
         "lon": [
          -51.40116666666667
         ],
         "marker": {
          "color": "#FF6692"
         },
         "mode": "markers",
         "name": "2018-06-06T13:30Z",
         "showlegend": true,
         "subplot": "mapbox",
         "type": "scattermapbox"
        },
        {
         "customdata": [
          [
           "GF18060",
           "2018-06-06T15:04Z",
           64.60883333333334,
           -50.96086666666667
          ]
         ],
         "hovertemplate": "<b>%{hovertext}</b><br><br>time=%{customdata[1]}<br>latitude=%{customdata[2]}<br>longitude=%{customdata[3]}<br>station=%{customdata[0]}<extra></extra>",
         "hovertext": [
          "GF18060"
         ],
         "lat": [
          64.60883333333334
         ],
         "legendgroup": "2018-06-06T15:04Z",
         "lon": [
          -50.96086666666667
         ],
         "marker": {
          "color": "#B6E880"
         },
         "mode": "markers",
         "name": "2018-06-06T15:04Z",
         "showlegend": true,
         "subplot": "mapbox",
         "type": "scattermapbox"
        },
        {
         "customdata": [
          [
           "GF18074",
           "2018-06-27T13:48Z",
           64.60883333333334,
           -50.959183333333335
          ]
         ],
         "hovertemplate": "<b>%{hovertext}</b><br><br>time=%{customdata[1]}<br>latitude=%{customdata[2]}<br>longitude=%{customdata[3]}<br>station=%{customdata[0]}<extra></extra>",
         "hovertext": [
          "GF18074"
         ],
         "lat": [
          64.60883333333334
         ],
         "legendgroup": "2018-06-27T13:48Z",
         "lon": [
          -50.959183333333335
         ],
         "marker": {
          "color": "#FF97FF"
         },
         "mode": "markers",
         "name": "2018-06-27T13:48Z",
         "showlegend": true,
         "subplot": "mapbox",
         "type": "scattermapbox"
        },
        {
         "customdata": [
          [
           "GF18075",
           "2018-07-18T13:25Z",
           64.6031,
           -50.963566666666665
          ]
         ],
         "hovertemplate": "<b>%{hovertext}</b><br><br>time=%{customdata[1]}<br>latitude=%{customdata[2]}<br>longitude=%{customdata[3]}<br>station=%{customdata[0]}<extra></extra>",
         "hovertext": [
          "GF18075"
         ],
         "lat": [
          64.6031
         ],
         "legendgroup": "2018-07-18T13:25Z",
         "lon": [
          -50.963566666666665
         ],
         "marker": {
          "color": "#FECB52"
         },
         "mode": "markers",
         "name": "2018-07-18T13:25Z",
         "showlegend": true,
         "subplot": "mapbox",
         "type": "scattermapbox"
        },
        {
         "customdata": [
          [
           "GF18063",
           "2018-06-06T16:51Z",
           64.64276666666666,
           -50.87513333333333
          ]
         ],
         "hovertemplate": "<b>%{hovertext}</b><br><br>time=%{customdata[1]}<br>latitude=%{customdata[2]}<br>longitude=%{customdata[3]}<br>station=%{customdata[0]}<extra></extra>",
         "hovertext": [
          "GF18063"
         ],
         "lat": [
          64.64276666666666
         ],
         "legendgroup": "2018-06-06T16:51Z",
         "lon": [
          -50.87513333333333
         ],
         "marker": {
          "color": "#636efa"
         },
         "mode": "markers",
         "name": "2018-06-06T16:51Z",
         "showlegend": true,
         "subplot": "mapbox",
         "type": "scattermapbox"
        },
        {
         "customdata": [
          [
           "GF18088",
           "2018-08-09T11:22Z",
           64.38103333333333,
           -51.589283333333334
          ]
         ],
         "hovertemplate": "<b>%{hovertext}</b><br><br>time=%{customdata[1]}<br>latitude=%{customdata[2]}<br>longitude=%{customdata[3]}<br>station=%{customdata[0]}<extra></extra>",
         "hovertext": [
          "GF18088"
         ],
         "lat": [
          64.38103333333333
         ],
         "legendgroup": "2018-08-09T11:22Z",
         "lon": [
          -51.589283333333334
         ],
         "marker": {
          "color": "#EF553B"
         },
         "mode": "markers",
         "name": "2018-08-09T11:22Z",
         "showlegend": true,
         "subplot": "mapbox",
         "type": "scattermapbox"
        },
        {
         "customdata": [
          [
           "GF18089",
           "2018-08-09T12:17Z",
           64.50875,
           -51.383383333333335
          ]
         ],
         "hovertemplate": "<b>%{hovertext}</b><br><br>time=%{customdata[1]}<br>latitude=%{customdata[2]}<br>longitude=%{customdata[3]}<br>station=%{customdata[0]}<extra></extra>",
         "hovertext": [
          "GF18089"
         ],
         "lat": [
          64.50875
         ],
         "legendgroup": "2018-08-09T12:17Z",
         "lon": [
          -51.383383333333335
         ],
         "marker": {
          "color": "#00cc96"
         },
         "mode": "markers",
         "name": "2018-08-09T12:17Z",
         "showlegend": true,
         "subplot": "mapbox",
         "type": "scattermapbox"
        },
        {
         "customdata": [
          [
           "GF18076",
           "2018-07-18T16:40Z",
           64.61063333333334,
           -50.98728333333333
          ]
         ],
         "hovertemplate": "<b>%{hovertext}</b><br><br>time=%{customdata[1]}<br>latitude=%{customdata[2]}<br>longitude=%{customdata[3]}<br>station=%{customdata[0]}<extra></extra>",
         "hovertext": [
          "GF18076"
         ],
         "lat": [
          64.61063333333334
         ],
         "legendgroup": "2018-07-18T16:40Z",
         "lon": [
          -50.98728333333333
         ],
         "marker": {
          "color": "#ab63fa"
         },
         "mode": "markers",
         "name": "2018-07-18T16:40Z",
         "showlegend": true,
         "subplot": "mapbox",
         "type": "scattermapbox"
        },
        {
         "customdata": [
          [
           "GF18132",
           "2018-10-31T16:59Z",
           64.61083333333333,
           -50.953183333333335
          ]
         ],
         "hovertemplate": "<b>%{hovertext}</b><br><br>time=%{customdata[1]}<br>latitude=%{customdata[2]}<br>longitude=%{customdata[3]}<br>station=%{customdata[0]}<extra></extra>",
         "hovertext": [
          "GF18132"
         ],
         "lat": [
          64.61083333333333
         ],
         "legendgroup": "2018-10-31T16:59Z",
         "lon": [
          -50.953183333333335
         ],
         "marker": {
          "color": "#FFA15A"
         },
         "mode": "markers",
         "name": "2018-10-31T16:59Z",
         "showlegend": true,
         "subplot": "mapbox",
         "type": "scattermapbox"
        },
        {
         "customdata": [
          [
           "GF18130",
           "2018-10-31T15:31Z",
           64.63951666666667,
           -50.86225
          ]
         ],
         "hovertemplate": "<b>%{hovertext}</b><br><br>time=%{customdata[1]}<br>latitude=%{customdata[2]}<br>longitude=%{customdata[3]}<br>station=%{customdata[0]}<extra></extra>",
         "hovertext": [
          "GF18130"
         ],
         "lat": [
          64.63951666666667
         ],
         "legendgroup": "2018-10-31T15:31Z",
         "lon": [
          -50.86225
         ],
         "marker": {
          "color": "#19d3f3"
         },
         "mode": "markers",
         "name": "2018-10-31T15:31Z",
         "showlegend": true,
         "subplot": "mapbox",
         "type": "scattermapbox"
        },
        {
         "customdata": [
          [
           "GF18124",
           "2018-10-31T12:00Z",
           64.26616666666666,
           -51.66956666666667
          ]
         ],
         "hovertemplate": "<b>%{hovertext}</b><br><br>time=%{customdata[1]}<br>latitude=%{customdata[2]}<br>longitude=%{customdata[3]}<br>station=%{customdata[0]}<extra></extra>",
         "hovertext": [
          "GF18124"
         ],
         "lat": [
          64.26616666666666
         ],
         "legendgroup": "2018-10-31T12:00Z",
         "lon": [
          -51.66956666666667
         ],
         "marker": {
          "color": "#FF6692"
         },
         "mode": "markers",
         "name": "2018-10-31T12:00Z",
         "showlegend": true,
         "subplot": "mapbox",
         "type": "scattermapbox"
        },
        {
         "customdata": [
          [
           "GF18131",
           "2018-10-31T16:24Z",
           64.64425,
           -50.881483333333335
          ]
         ],
         "hovertemplate": "<b>%{hovertext}</b><br><br>time=%{customdata[1]}<br>latitude=%{customdata[2]}<br>longitude=%{customdata[3]}<br>station=%{customdata[0]}<extra></extra>",
         "hovertext": [
          "GF18131"
         ],
         "lat": [
          64.64425
         ],
         "legendgroup": "2018-10-31T16:24Z",
         "lon": [
          -50.881483333333335
         ],
         "marker": {
          "color": "#B6E880"
         },
         "mode": "markers",
         "name": "2018-10-31T16:24Z",
         "showlegend": true,
         "subplot": "mapbox",
         "type": "scattermapbox"
        },
        {
         "customdata": [
          [
           "GF18119",
           "2018-10-15T10:48Z",
           64.26443333333333,
           -51.666133333333335
          ]
         ],
         "hovertemplate": "<b>%{hovertext}</b><br><br>time=%{customdata[1]}<br>latitude=%{customdata[2]}<br>longitude=%{customdata[3]}<br>station=%{customdata[0]}<extra></extra>",
         "hovertext": [
          "GF18119"
         ],
         "lat": [
          64.26443333333333
         ],
         "legendgroup": "2018-10-15T10:48Z",
         "lon": [
          -51.666133333333335
         ],
         "marker": {
          "color": "#FF97FF"
         },
         "mode": "markers",
         "name": "2018-10-15T10:48Z",
         "showlegend": true,
         "subplot": "mapbox",
         "type": "scattermapbox"
        },
        {
         "customdata": [
          [
           "GF18135",
           "2018-12-11T11:58Z",
           64.26701666666666,
           -51.66623333333333
          ]
         ],
         "hovertemplate": "<b>%{hovertext}</b><br><br>time=%{customdata[1]}<br>latitude=%{customdata[2]}<br>longitude=%{customdata[3]}<br>station=%{customdata[0]}<extra></extra>",
         "hovertext": [
          "GF18135"
         ],
         "lat": [
          64.26701666666666
         ],
         "legendgroup": "2018-12-11T11:58Z",
         "lon": [
          -51.66623333333333
         ],
         "marker": {
          "color": "#FECB52"
         },
         "mode": "markers",
         "name": "2018-12-11T11:58Z",
         "showlegend": true,
         "subplot": "mapbox",
         "type": "scattermapbox"
        },
        {
         "customdata": [
          [
           "GF18121",
           "2018-10-15T12:20Z",
           64.50596666666667,
           -51.402033333333335
          ]
         ],
         "hovertemplate": "<b>%{hovertext}</b><br><br>time=%{customdata[1]}<br>latitude=%{customdata[2]}<br>longitude=%{customdata[3]}<br>station=%{customdata[0]}<extra></extra>",
         "hovertext": [
          "GF18121"
         ],
         "lat": [
          64.50596666666667
         ],
         "legendgroup": "2018-10-15T12:20Z",
         "lon": [
          -51.402033333333335
         ],
         "marker": {
          "color": "#636efa"
         },
         "mode": "markers",
         "name": "2018-10-15T12:20Z",
         "showlegend": true,
         "subplot": "mapbox",
         "type": "scattermapbox"
        },
        {
         "customdata": [
          [
           "GF18120",
           "2018-10-15T11:26Z",
           64.37836666666666,
           -51.59101666666667
          ]
         ],
         "hovertemplate": "<b>%{hovertext}</b><br><br>time=%{customdata[1]}<br>latitude=%{customdata[2]}<br>longitude=%{customdata[3]}<br>station=%{customdata[0]}<extra></extra>",
         "hovertext": [
          "GF18120"
         ],
         "lat": [
          64.37836666666666
         ],
         "legendgroup": "2018-10-15T11:26Z",
         "lon": [
          -51.59101666666667
         ],
         "marker": {
          "color": "#EF553B"
         },
         "mode": "markers",
         "name": "2018-10-15T11:26Z",
         "showlegend": true,
         "subplot": "mapbox",
         "type": "scattermapbox"
        },
        {
         "customdata": [
          [
           "GF18122",
           "2018-10-15T13:16Z",
           64.60703333333333,
           -50.96986666666667
          ]
         ],
         "hovertemplate": "<b>%{hovertext}</b><br><br>time=%{customdata[1]}<br>latitude=%{customdata[2]}<br>longitude=%{customdata[3]}<br>station=%{customdata[0]}<extra></extra>",
         "hovertext": [
          "GF18122"
         ],
         "lat": [
          64.60703333333333
         ],
         "legendgroup": "2018-10-15T13:16Z",
         "lon": [
          -50.96986666666667
         ],
         "marker": {
          "color": "#00cc96"
         },
         "mode": "markers",
         "name": "2018-10-15T13:16Z",
         "showlegend": true,
         "subplot": "mapbox",
         "type": "scattermapbox"
        },
        {
         "customdata": [
          [
           "GF18136",
           "2018-12-11T12:37Z",
           64.38118333333334,
           -51.5886
          ]
         ],
         "hovertemplate": "<b>%{hovertext}</b><br><br>time=%{customdata[1]}<br>latitude=%{customdata[2]}<br>longitude=%{customdata[3]}<br>station=%{customdata[0]}<extra></extra>",
         "hovertext": [
          "GF18136"
         ],
         "lat": [
          64.38118333333334
         ],
         "legendgroup": "2018-12-11T12:37Z",
         "lon": [
          -51.5886
         ],
         "marker": {
          "color": "#ab63fa"
         },
         "mode": "markers",
         "name": "2018-12-11T12:37Z",
         "showlegend": true,
         "subplot": "mapbox",
         "type": "scattermapbox"
        },
        {
         "customdata": [
          [
           "GF18137",
           "2018-12-11T13:41Z",
           64.50586666666666,
           -51.39745
          ]
         ],
         "hovertemplate": "<b>%{hovertext}</b><br><br>time=%{customdata[1]}<br>latitude=%{customdata[2]}<br>longitude=%{customdata[3]}<br>station=%{customdata[0]}<extra></extra>",
         "hovertext": [
          "GF18137"
         ],
         "lat": [
          64.50586666666666
         ],
         "legendgroup": "2018-12-11T13:41Z",
         "lon": [
          -51.39745
         ],
         "marker": {
          "color": "#FFA15A"
         },
         "mode": "markers",
         "name": "2018-12-11T13:41Z",
         "showlegend": true,
         "subplot": "mapbox",
         "type": "scattermapbox"
        },
        {
         "customdata": [
          [
           "GF18123",
           "2018-10-15T13:56Z",
           64.65055,
           -50.833666666666666
          ]
         ],
         "hovertemplate": "<b>%{hovertext}</b><br><br>time=%{customdata[1]}<br>latitude=%{customdata[2]}<br>longitude=%{customdata[3]}<br>station=%{customdata[0]}<extra></extra>",
         "hovertext": [
          "GF18123"
         ],
         "lat": [
          64.65055
         ],
         "legendgroup": "2018-10-15T13:56Z",
         "lon": [
          -50.833666666666666
         ],
         "marker": {
          "color": "#19d3f3"
         },
         "mode": "markers",
         "name": "2018-10-15T13:56Z",
         "showlegend": true,
         "subplot": "mapbox",
         "type": "scattermapbox"
        },
        {
         "customdata": [
          [
           "GF18140",
           "2018-12-11T16:08Z",
           64.6088,
           -50.9591
          ]
         ],
         "hovertemplate": "<b>%{hovertext}</b><br><br>time=%{customdata[1]}<br>latitude=%{customdata[2]}<br>longitude=%{customdata[3]}<br>station=%{customdata[0]}<extra></extra>",
         "hovertext": [
          "GF18140"
         ],
         "lat": [
          64.6088
         ],
         "legendgroup": "2018-12-11T16:08Z",
         "lon": [
          -50.9591
         ],
         "marker": {
          "color": "#FF6692"
         },
         "mode": "markers",
         "name": "2018-12-11T16:08Z",
         "showlegend": true,
         "subplot": "mapbox",
         "type": "scattermapbox"
        },
        {
         "customdata": [
          [
           "GF18005",
           "2018-01-09T13:11Z",
           64.37985,
           -51.58755
          ]
         ],
         "hovertemplate": "<b>%{hovertext}</b><br><br>time=%{customdata[1]}<br>latitude=%{customdata[2]}<br>longitude=%{customdata[3]}<br>station=%{customdata[0]}<extra></extra>",
         "hovertext": [
          "GF18005"
         ],
         "lat": [
          64.37985
         ],
         "legendgroup": "2018-01-09T13:11Z",
         "lon": [
          -51.58755
         ],
         "marker": {
          "color": "#B6E880"
         },
         "mode": "markers",
         "name": "2018-01-09T13:11Z",
         "showlegend": true,
         "subplot": "mapbox",
         "type": "scattermapbox"
        },
        {
         "customdata": [
          [
           "GF18006",
           "2018-01-09T14:04Z",
           64.5061,
           -51.400933333333334
          ]
         ],
         "hovertemplate": "<b>%{hovertext}</b><br><br>time=%{customdata[1]}<br>latitude=%{customdata[2]}<br>longitude=%{customdata[3]}<br>station=%{customdata[0]}<extra></extra>",
         "hovertext": [
          "GF18006"
         ],
         "lat": [
          64.5061
         ],
         "legendgroup": "2018-01-09T14:04Z",
         "lon": [
          -51.400933333333334
         ],
         "marker": {
          "color": "#FF97FF"
         },
         "mode": "markers",
         "name": "2018-01-09T14:04Z",
         "showlegend": true,
         "subplot": "mapbox",
         "type": "scattermapbox"
        },
        {
         "customdata": [
          [
           "GF18007",
           "2018-01-09T15:36Z",
           64.60901666666666,
           -50.96438333333333
          ]
         ],
         "hovertemplate": "<b>%{hovertext}</b><br><br>time=%{customdata[1]}<br>latitude=%{customdata[2]}<br>longitude=%{customdata[3]}<br>station=%{customdata[0]}<extra></extra>",
         "hovertext": [
          "GF18007"
         ],
         "lat": [
          64.60901666666666
         ],
         "legendgroup": "2018-01-09T15:36Z",
         "lon": [
          -50.96438333333333
         ],
         "marker": {
          "color": "#FECB52"
         },
         "mode": "markers",
         "name": "2018-01-09T15:36Z",
         "showlegend": true,
         "subplot": "mapbox",
         "type": "scattermapbox"
        },
        {
         "customdata": [
          [
           "GF18001",
           "2018-01-09T12:05Z",
           64.26646666666667,
           -51.664433333333335
          ]
         ],
         "hovertemplate": "<b>%{hovertext}</b><br><br>time=%{customdata[1]}<br>latitude=%{customdata[2]}<br>longitude=%{customdata[3]}<br>station=%{customdata[0]}<extra></extra>",
         "hovertext": [
          "GF18001"
         ],
         "lat": [
          64.26646666666667
         ],
         "legendgroup": "2018-01-09T12:05Z",
         "lon": [
          -51.664433333333335
         ],
         "marker": {
          "color": "#636efa"
         },
         "mode": "markers",
         "name": "2018-01-09T12:05Z",
         "showlegend": true,
         "subplot": "mapbox",
         "type": "scattermapbox"
        },
        {
         "customdata": [
          [
           "GF18128",
           "2018-10-31T13:05Z",
           64.38143333333333,
           -51.58606666666667
          ]
         ],
         "hovertemplate": "<b>%{hovertext}</b><br><br>time=%{customdata[1]}<br>latitude=%{customdata[2]}<br>longitude=%{customdata[3]}<br>station=%{customdata[0]}<extra></extra>",
         "hovertext": [
          "GF18128"
         ],
         "lat": [
          64.38143333333333
         ],
         "legendgroup": "2018-10-31T13:05Z",
         "lon": [
          -51.58606666666667
         ],
         "marker": {
          "color": "#EF553B"
         },
         "mode": "markers",
         "name": "2018-10-31T13:05Z",
         "showlegend": true,
         "subplot": "mapbox",
         "type": "scattermapbox"
        },
        {
         "customdata": [
          [
           "GF18129",
           "2018-10-31T14:06Z",
           64.50613333333334,
           -51.400666666666666
          ]
         ],
         "hovertemplate": "<b>%{hovertext}</b><br><br>time=%{customdata[1]}<br>latitude=%{customdata[2]}<br>longitude=%{customdata[3]}<br>station=%{customdata[0]}<extra></extra>",
         "hovertext": [
          "GF18129"
         ],
         "lat": [
          64.50613333333334
         ],
         "legendgroup": "2018-10-31T14:06Z",
         "lon": [
          -51.400666666666666
         ],
         "marker": {
          "color": "#00cc96"
         },
         "mode": "markers",
         "name": "2018-10-31T14:06Z",
         "showlegend": true,
         "subplot": "mapbox",
         "type": "scattermapbox"
        },
        {
         "customdata": [
          [
           "GF18106",
           "2018-09-06T10:52Z",
           64.26656666666666,
           -51.66641666666666
          ]
         ],
         "hovertemplate": "<b>%{hovertext}</b><br><br>time=%{customdata[1]}<br>latitude=%{customdata[2]}<br>longitude=%{customdata[3]}<br>station=%{customdata[0]}<extra></extra>",
         "hovertext": [
          "GF18106"
         ],
         "lat": [
          64.26656666666666
         ],
         "legendgroup": "2018-09-06T10:52Z",
         "lon": [
          -51.66641666666666
         ],
         "marker": {
          "color": "#ab63fa"
         },
         "mode": "markers",
         "name": "2018-09-06T10:52Z",
         "showlegend": true,
         "subplot": "mapbox",
         "type": "scattermapbox"
        },
        {
         "customdata": [
          [
           "GF18111",
           "2018-09-06T13:14Z",
           64.50735,
           -51.39995
          ]
         ],
         "hovertemplate": "<b>%{hovertext}</b><br><br>time=%{customdata[1]}<br>latitude=%{customdata[2]}<br>longitude=%{customdata[3]}<br>station=%{customdata[0]}<extra></extra>",
         "hovertext": [
          "GF18111"
         ],
         "lat": [
          64.50735
         ],
         "legendgroup": "2018-09-06T13:14Z",
         "lon": [
          -51.39995
         ],
         "marker": {
          "color": "#FFA15A"
         },
         "mode": "markers",
         "name": "2018-09-06T13:14Z",
         "showlegend": true,
         "subplot": "mapbox",
         "type": "scattermapbox"
        },
        {
         "customdata": [
          [
           "GF18110",
           "2018-09-06T12:18Z",
           64.38118333333334,
           -51.58291666666667
          ]
         ],
         "hovertemplate": "<b>%{hovertext}</b><br><br>time=%{customdata[1]}<br>latitude=%{customdata[2]}<br>longitude=%{customdata[3]}<br>station=%{customdata[0]}<extra></extra>",
         "hovertext": [
          "GF18110"
         ],
         "lat": [
          64.38118333333334
         ],
         "legendgroup": "2018-09-06T12:18Z",
         "lon": [
          -51.58291666666667
         ],
         "marker": {
          "color": "#19d3f3"
         },
         "mode": "markers",
         "name": "2018-09-06T12:18Z",
         "showlegend": true,
         "subplot": "mapbox",
         "type": "scattermapbox"
        },
        {
         "customdata": [
          [
           "GF18115",
           "2018-09-06T14:59Z",
           64.60996666666666,
           -50.957566666666665
          ]
         ],
         "hovertemplate": "<b>%{hovertext}</b><br><br>time=%{customdata[1]}<br>latitude=%{customdata[2]}<br>longitude=%{customdata[3]}<br>station=%{customdata[0]}<extra></extra>",
         "hovertext": [
          "GF18115"
         ],
         "lat": [
          64.60996666666666
         ],
         "legendgroup": "2018-09-06T14:59Z",
         "lon": [
          -50.957566666666665
         ],
         "marker": {
          "color": "#FF6692"
         },
         "mode": "markers",
         "name": "2018-09-06T14:59Z",
         "showlegend": true,
         "subplot": "mapbox",
         "type": "scattermapbox"
        },
        {
         "customdata": [
          [
           "GF18061",
           "2018-06-06T15:42Z",
           64.60858333333333,
           -50.96053333333333
          ]
         ],
         "hovertemplate": "<b>%{hovertext}</b><br><br>time=%{customdata[1]}<br>latitude=%{customdata[2]}<br>longitude=%{customdata[3]}<br>station=%{customdata[0]}<extra></extra>",
         "hovertext": [
          "GF18061"
         ],
         "lat": [
          64.60858333333333
         ],
         "legendgroup": "2018-06-06T15:42Z",
         "lon": [
          -50.96053333333333
         ],
         "marker": {
          "color": "#B6E880"
         },
         "mode": "markers",
         "name": "2018-06-06T15:42Z",
         "showlegend": true,
         "subplot": "mapbox",
         "type": "scattermapbox"
        },
        {
         "customdata": [
          [
           "GF18116",
           "2018-09-06T16:39Z",
           64.68206666666667,
           -50.30056666666667
          ]
         ],
         "hovertemplate": "<b>%{hovertext}</b><br><br>time=%{customdata[1]}<br>latitude=%{customdata[2]}<br>longitude=%{customdata[3]}<br>station=%{customdata[0]}<extra></extra>",
         "hovertext": [
          "GF18116"
         ],
         "lat": [
          64.68206666666667
         ],
         "legendgroup": "2018-09-06T16:39Z",
         "lon": [
          -50.30056666666667
         ],
         "marker": {
          "color": "#FF97FF"
         },
         "mode": "markers",
         "name": "2018-09-06T16:39Z",
         "showlegend": true,
         "subplot": "mapbox",
         "type": "scattermapbox"
        },
        {
         "customdata": [
          [
           "GF19154",
           "2019-10-17T12:39Z",
           64.6091,
           -50.96425
          ]
         ],
         "hovertemplate": "<b>%{hovertext}</b><br><br>time=%{customdata[1]}<br>latitude=%{customdata[2]}<br>longitude=%{customdata[3]}<br>station=%{customdata[0]}<extra></extra>",
         "hovertext": [
          "GF19154"
         ],
         "lat": [
          64.6091
         ],
         "legendgroup": "2019-10-17T12:39Z",
         "lon": [
          -50.96425
         ],
         "marker": {
          "color": "#FECB52"
         },
         "mode": "markers",
         "name": "2019-10-17T12:39Z",
         "showlegend": true,
         "subplot": "mapbox",
         "type": "scattermapbox"
        },
        {
         "customdata": [
          [
           "GF19155",
           "2019-10-17T13:42Z",
           64.50955,
           -51.3898
          ]
         ],
         "hovertemplate": "<b>%{hovertext}</b><br><br>time=%{customdata[1]}<br>latitude=%{customdata[2]}<br>longitude=%{customdata[3]}<br>station=%{customdata[0]}<extra></extra>",
         "hovertext": [
          "GF19155"
         ],
         "lat": [
          64.50955
         ],
         "legendgroup": "2019-10-17T13:42Z",
         "lon": [
          -51.3898
         ],
         "marker": {
          "color": "#636efa"
         },
         "mode": "markers",
         "name": "2019-10-17T13:42Z",
         "showlegend": true,
         "subplot": "mapbox",
         "type": "scattermapbox"
        },
        {
         "customdata": [
          [
           "GF19157",
           "2019-10-17T15:37Z",
           64.2652,
           -51.666183333333336
          ]
         ],
         "hovertemplate": "<b>%{hovertext}</b><br><br>time=%{customdata[1]}<br>latitude=%{customdata[2]}<br>longitude=%{customdata[3]}<br>station=%{customdata[0]}<extra></extra>",
         "hovertext": [
          "GF19157"
         ],
         "lat": [
          64.2652
         ],
         "legendgroup": "2019-10-17T15:37Z",
         "lon": [
          -51.666183333333336
         ],
         "marker": {
          "color": "#EF553B"
         },
         "mode": "markers",
         "name": "2019-10-17T15:37Z",
         "showlegend": true,
         "subplot": "mapbox",
         "type": "scattermapbox"
        },
        {
         "customdata": [
          [
           "GF19156",
           "2019-10-17T14:39Z",
           64.37851666666667,
           -51.58983333333333
          ]
         ],
         "hovertemplate": "<b>%{hovertext}</b><br><br>time=%{customdata[1]}<br>latitude=%{customdata[2]}<br>longitude=%{customdata[3]}<br>station=%{customdata[0]}<extra></extra>",
         "hovertext": [
          "GF19156"
         ],
         "lat": [
          64.37851666666667
         ],
         "legendgroup": "2019-10-17T14:39Z",
         "lon": [
          -51.58983333333333
         ],
         "marker": {
          "color": "#00cc96"
         },
         "mode": "markers",
         "name": "2019-10-17T14:39Z",
         "showlegend": true,
         "subplot": "mapbox",
         "type": "scattermapbox"
        },
        {
         "customdata": [
          [
           "GF19167",
           "2019-12-12T16:01Z",
           64.70318333333333,
           -50.65345
          ]
         ],
         "hovertemplate": "<b>%{hovertext}</b><br><br>time=%{customdata[1]}<br>latitude=%{customdata[2]}<br>longitude=%{customdata[3]}<br>station=%{customdata[0]}<extra></extra>",
         "hovertext": [
          "GF19167"
         ],
         "lat": [
          64.70318333333333
         ],
         "legendgroup": "2019-12-12T16:01Z",
         "lon": [
          -50.65345
         ],
         "marker": {
          "color": "#ab63fa"
         },
         "mode": "markers",
         "name": "2019-12-12T16:01Z",
         "showlegend": true,
         "subplot": "mapbox",
         "type": "scattermapbox"
        },
        {
         "customdata": [
          [
           "GF19166",
           "2019-12-12T14:56Z",
           64.60903333333333,
           -50.964216666666665
          ]
         ],
         "hovertemplate": "<b>%{hovertext}</b><br><br>time=%{customdata[1]}<br>latitude=%{customdata[2]}<br>longitude=%{customdata[3]}<br>station=%{customdata[0]}<extra></extra>",
         "hovertext": [
          "GF19166"
         ],
         "lat": [
          64.60903333333333
         ],
         "legendgroup": "2019-12-12T14:56Z",
         "lon": [
          -50.964216666666665
         ],
         "marker": {
          "color": "#FFA15A"
         },
         "mode": "markers",
         "name": "2019-12-12T14:56Z",
         "showlegend": true,
         "subplot": "mapbox",
         "type": "scattermapbox"
        },
        {
         "customdata": [
          [
           "GF19164",
           "2019-12-12T12:55Z",
           64.38003333333333,
           -51.58658333333333
          ]
         ],
         "hovertemplate": "<b>%{hovertext}</b><br><br>time=%{customdata[1]}<br>latitude=%{customdata[2]}<br>longitude=%{customdata[3]}<br>station=%{customdata[0]}<extra></extra>",
         "hovertext": [
          "GF19164"
         ],
         "lat": [
          64.38003333333333
         ],
         "legendgroup": "2019-12-12T12:55Z",
         "lon": [
          -51.58658333333333
         ],
         "marker": {
          "color": "#19d3f3"
         },
         "mode": "markers",
         "name": "2019-12-12T12:55Z",
         "showlegend": true,
         "subplot": "mapbox",
         "type": "scattermapbox"
        },
        {
         "customdata": [
          [
           "GF19158",
           "2019-11-05T12:07Z",
           64.26483333333333,
           -51.668683333333334
          ]
         ],
         "hovertemplate": "<b>%{hovertext}</b><br><br>time=%{customdata[1]}<br>latitude=%{customdata[2]}<br>longitude=%{customdata[3]}<br>station=%{customdata[0]}<extra></extra>",
         "hovertext": [
          "GF19158"
         ],
         "lat": [
          64.26483333333333
         ],
         "legendgroup": "2019-11-05T12:07Z",
         "lon": [
          -51.668683333333334
         ],
         "marker": {
          "color": "#FF6692"
         },
         "mode": "markers",
         "name": "2019-11-05T12:07Z",
         "showlegend": true,
         "subplot": "mapbox",
         "type": "scattermapbox"
        },
        {
         "customdata": [
          [
           "GF19038",
           "2019-05-06T15:33Z",
           64.71558333333333,
           -50.54881666666667
          ]
         ],
         "hovertemplate": "<b>%{hovertext}</b><br><br>time=%{customdata[1]}<br>latitude=%{customdata[2]}<br>longitude=%{customdata[3]}<br>station=%{customdata[0]}<extra></extra>",
         "hovertext": [
          "GF19038"
         ],
         "lat": [
          64.71558333333333
         ],
         "legendgroup": "2019-05-06T15:33Z",
         "lon": [
          -50.54881666666667
         ],
         "marker": {
          "color": "#B6E880"
         },
         "mode": "markers",
         "name": "2019-05-06T15:33Z",
         "showlegend": true,
         "subplot": "mapbox",
         "type": "scattermapbox"
        },
        {
         "customdata": [
          [
           "GF19159",
           "2019-11-05T12:54Z",
           64.37931666666667,
           -51.589866666666666
          ]
         ],
         "hovertemplate": "<b>%{hovertext}</b><br><br>time=%{customdata[1]}<br>latitude=%{customdata[2]}<br>longitude=%{customdata[3]}<br>station=%{customdata[0]}<extra></extra>",
         "hovertext": [
          "GF19159"
         ],
         "lat": [
          64.37931666666667
         ],
         "legendgroup": "2019-11-05T12:54Z",
         "lon": [
          -51.589866666666666
         ],
         "marker": {
          "color": "#FF97FF"
         },
         "mode": "markers",
         "name": "2019-11-05T12:54Z",
         "showlegend": true,
         "subplot": "mapbox",
         "type": "scattermapbox"
        },
        {
         "customdata": [
          [
           "GF19165",
           "2019-12-12T13:49Z",
           64.5075,
           -51.40025
          ]
         ],
         "hovertemplate": "<b>%{hovertext}</b><br><br>time=%{customdata[1]}<br>latitude=%{customdata[2]}<br>longitude=%{customdata[3]}<br>station=%{customdata[0]}<extra></extra>",
         "hovertext": [
          "GF19165"
         ],
         "lat": [
          64.5075
         ],
         "legendgroup": "2019-12-12T13:49Z",
         "lon": [
          -51.40025
         ],
         "marker": {
          "color": "#FECB52"
         },
         "mode": "markers",
         "name": "2019-12-12T13:49Z",
         "showlegend": true,
         "subplot": "mapbox",
         "type": "scattermapbox"
        },
        {
         "customdata": [
          [
           "GF19161",
           "2019-11-05T14:48Z",
           64.60855,
           -50.95935
          ]
         ],
         "hovertemplate": "<b>%{hovertext}</b><br><br>time=%{customdata[1]}<br>latitude=%{customdata[2]}<br>longitude=%{customdata[3]}<br>station=%{customdata[0]}<extra></extra>",
         "hovertext": [
          "GF19161"
         ],
         "lat": [
          64.60855
         ],
         "legendgroup": "2019-11-05T14:48Z",
         "lon": [
          -50.95935
         ],
         "marker": {
          "color": "#636efa"
         },
         "mode": "markers",
         "name": "2019-11-05T14:48Z",
         "showlegend": true,
         "subplot": "mapbox",
         "type": "scattermapbox"
        },
        {
         "customdata": [
          [
           "GF19160",
           "2019-11-05T13:45Z",
           64.5073,
           -51.39983333333333
          ]
         ],
         "hovertemplate": "<b>%{hovertext}</b><br><br>time=%{customdata[1]}<br>latitude=%{customdata[2]}<br>longitude=%{customdata[3]}<br>station=%{customdata[0]}<extra></extra>",
         "hovertext": [
          "GF19160"
         ],
         "lat": [
          64.5073
         ],
         "legendgroup": "2019-11-05T13:45Z",
         "lon": [
          -51.39983333333333
         ],
         "marker": {
          "color": "#EF553B"
         },
         "mode": "markers",
         "name": "2019-11-05T13:45Z",
         "showlegend": true,
         "subplot": "mapbox",
         "type": "scattermapbox"
        },
        {
         "customdata": [
          [
           "GF19162",
           "2019-11-05T15:57Z",
           64.70068333333333,
           -50.389383333333335
          ]
         ],
         "hovertemplate": "<b>%{hovertext}</b><br><br>time=%{customdata[1]}<br>latitude=%{customdata[2]}<br>longitude=%{customdata[3]}<br>station=%{customdata[0]}<extra></extra>",
         "hovertext": [
          "GF19162"
         ],
         "lat": [
          64.70068333333333
         ],
         "legendgroup": "2019-11-05T15:57Z",
         "lon": [
          -50.389383333333335
         ],
         "marker": {
          "color": "#00cc96"
         },
         "mode": "markers",
         "name": "2019-11-05T15:57Z",
         "showlegend": true,
         "subplot": "mapbox",
         "type": "scattermapbox"
        },
        {
         "customdata": [
          [
           "GF19163",
           "2019-12-12T12:17Z",
           64.26595,
           -51.66833333333334
          ]
         ],
         "hovertemplate": "<b>%{hovertext}</b><br><br>time=%{customdata[1]}<br>latitude=%{customdata[2]}<br>longitude=%{customdata[3]}<br>station=%{customdata[0]}<extra></extra>",
         "hovertext": [
          "GF19163"
         ],
         "lat": [
          64.26595
         ],
         "legendgroup": "2019-12-12T12:17Z",
         "lon": [
          -51.66833333333334
         ],
         "marker": {
          "color": "#ab63fa"
         },
         "mode": "markers",
         "name": "2019-12-12T12:17Z",
         "showlegend": true,
         "subplot": "mapbox",
         "type": "scattermapbox"
        },
        {
         "customdata": [
          [
           "GF19110",
           "2019-09-10T17:06Z",
           64.26661666666666,
           -51.66838333333333
          ]
         ],
         "hovertemplate": "<b>%{hovertext}</b><br><br>time=%{customdata[1]}<br>latitude=%{customdata[2]}<br>longitude=%{customdata[3]}<br>station=%{customdata[0]}<extra></extra>",
         "hovertext": [
          "GF19110"
         ],
         "lat": [
          64.26661666666666
         ],
         "legendgroup": "2019-09-10T17:06Z",
         "lon": [
          -51.66838333333333
         ],
         "marker": {
          "color": "#FFA15A"
         },
         "mode": "markers",
         "name": "2019-09-10T17:06Z",
         "showlegend": true,
         "subplot": "mapbox",
         "type": "scattermapbox"
        },
        {
         "customdata": [
          [
           "GF19104",
           "2019-08-27T17:09Z",
           64.6842,
           -50.749916666666664
          ]
         ],
         "hovertemplate": "<b>%{hovertext}</b><br><br>time=%{customdata[1]}<br>latitude=%{customdata[2]}<br>longitude=%{customdata[3]}<br>station=%{customdata[0]}<extra></extra>",
         "hovertext": [
          "GF19104"
         ],
         "lat": [
          64.6842
         ],
         "legendgroup": "2019-08-27T17:09Z",
         "lon": [
          -50.749916666666664
         ],
         "marker": {
          "color": "#19d3f3"
         },
         "mode": "markers",
         "name": "2019-08-27T17:09Z",
         "showlegend": true,
         "subplot": "mapbox",
         "type": "scattermapbox"
        },
        {
         "customdata": [
          [
           "GF19064",
           "2019-07-01T15:38Z",
           64.66825,
           -50.24998333333333
          ]
         ],
         "hovertemplate": "<b>%{hovertext}</b><br><br>time=%{customdata[1]}<br>latitude=%{customdata[2]}<br>longitude=%{customdata[3]}<br>station=%{customdata[0]}<extra></extra>",
         "hovertext": [
          "GF19064"
         ],
         "lat": [
          64.66825
         ],
         "legendgroup": "2019-07-01T15:38Z",
         "lon": [
          -50.24998333333333
         ],
         "marker": {
          "color": "#FF6692"
         },
         "mode": "markers",
         "name": "2019-07-01T15:38Z",
         "showlegend": true,
         "subplot": "mapbox",
         "type": "scattermapbox"
        },
        {
         "customdata": [
          [
           "GF19070",
           "2019-07-18T12:53Z",
           64.6681,
           -50.2521
          ]
         ],
         "hovertemplate": "<b>%{hovertext}</b><br><br>time=%{customdata[1]}<br>latitude=%{customdata[2]}<br>longitude=%{customdata[3]}<br>station=%{customdata[0]}<extra></extra>",
         "hovertext": [
          "GF19070"
         ],
         "lat": [
          64.6681
         ],
         "legendgroup": "2019-07-18T12:53Z",
         "lon": [
          -50.2521
         ],
         "marker": {
          "color": "#B6E880"
         },
         "mode": "markers",
         "name": "2019-07-18T12:53Z",
         "showlegend": true,
         "subplot": "mapbox",
         "type": "scattermapbox"
        },
        {
         "customdata": [
          [
           "GF19058",
           "2019-07-01T10:40Z",
           64.26671666666667,
           -51.668866666666666
          ]
         ],
         "hovertemplate": "<b>%{hovertext}</b><br><br>time=%{customdata[1]}<br>latitude=%{customdata[2]}<br>longitude=%{customdata[3]}<br>station=%{customdata[0]}<extra></extra>",
         "hovertext": [
          "GF19058"
         ],
         "lat": [
          64.26671666666667
         ],
         "legendgroup": "2019-07-01T10:40Z",
         "lon": [
          -51.668866666666666
         ],
         "marker": {
          "color": "#FF97FF"
         },
         "mode": "markers",
         "name": "2019-07-01T10:40Z",
         "showlegend": true,
         "subplot": "mapbox",
         "type": "scattermapbox"
        },
        {
         "customdata": [
          [
           "GF19059",
           "2019-07-01T11:17Z",
           64.38053333333333,
           -51.58786666666666
          ]
         ],
         "hovertemplate": "<b>%{hovertext}</b><br><br>time=%{customdata[1]}<br>latitude=%{customdata[2]}<br>longitude=%{customdata[3]}<br>station=%{customdata[0]}<extra></extra>",
         "hovertext": [
          "GF19059"
         ],
         "lat": [
          64.38053333333333
         ],
         "legendgroup": "2019-07-01T11:17Z",
         "lon": [
          -51.58786666666666
         ],
         "marker": {
          "color": "#FECB52"
         },
         "mode": "markers",
         "name": "2019-07-01T11:17Z",
         "showlegend": true,
         "subplot": "mapbox",
         "type": "scattermapbox"
        },
        {
         "customdata": [
          [
           "GF19071",
           "2019-07-18T14:38Z",
           64.6113,
           -50.21463333333333
          ]
         ],
         "hovertemplate": "<b>%{hovertext}</b><br><br>time=%{customdata[1]}<br>latitude=%{customdata[2]}<br>longitude=%{customdata[3]}<br>station=%{customdata[0]}<extra></extra>",
         "hovertext": [
          "GF19071"
         ],
         "lat": [
          64.6113
         ],
         "legendgroup": "2019-07-18T14:38Z",
         "lon": [
          -50.21463333333333
         ],
         "marker": {
          "color": "#636efa"
         },
         "mode": "markers",
         "name": "2019-07-18T14:38Z",
         "showlegend": true,
         "subplot": "mapbox",
         "type": "scattermapbox"
        },
        {
         "customdata": [
          [
           "HS190521",
           "2019-05-21T14:54Z",
           64.1391,
           -51.84973333333333
          ]
         ],
         "hovertemplate": "<b>%{hovertext}</b><br><br>time=%{customdata[1]}<br>latitude=%{customdata[2]}<br>longitude=%{customdata[3]}<br>station=%{customdata[0]}<extra></extra>",
         "hovertext": [
          "HS190521"
         ],
         "lat": [
          64.1391
         ],
         "legendgroup": "2019-05-21T14:54Z",
         "lon": [
          -51.84973333333333
         ],
         "marker": {
          "color": "#EF553B"
         },
         "mode": "markers",
         "name": "2019-05-21T14:54Z",
         "showlegend": true,
         "subplot": "mapbox",
         "type": "scattermapbox"
        },
        {
         "customdata": [
          [
           "GF19105",
           "2019-09-03T13:37Z",
           64.60403333333333,
           -50.97468333333333
          ]
         ],
         "hovertemplate": "<b>%{hovertext}</b><br><br>time=%{customdata[1]}<br>latitude=%{customdata[2]}<br>longitude=%{customdata[3]}<br>station=%{customdata[0]}<extra></extra>",
         "hovertext": [
          "GF19105"
         ],
         "lat": [
          64.60403333333333
         ],
         "legendgroup": "2019-09-03T13:37Z",
         "lon": [
          -50.97468333333333
         ],
         "marker": {
          "color": "#00cc96"
         },
         "mode": "markers",
         "name": "2019-09-03T13:37Z",
         "showlegend": true,
         "subplot": "mapbox",
         "type": "scattermapbox"
        },
        {
         "customdata": [
          [
           "GF19107",
           "2019-09-10T13:38Z",
           64.50728333333333,
           -51.3999
          ]
         ],
         "hovertemplate": "<b>%{hovertext}</b><br><br>time=%{customdata[1]}<br>latitude=%{customdata[2]}<br>longitude=%{customdata[3]}<br>station=%{customdata[0]}<extra></extra>",
         "hovertext": [
          "GF19107"
         ],
         "lat": [
          64.50728333333333
         ],
         "legendgroup": "2019-09-10T13:38Z",
         "lon": [
          -51.3999
         ],
         "marker": {
          "color": "#ab63fa"
         },
         "mode": "markers",
         "name": "2019-09-10T13:38Z",
         "showlegend": true,
         "subplot": "mapbox",
         "type": "scattermapbox"
        },
        {
         "customdata": [
          [
           "GF19113",
           "2019-09-13T13:58Z",
           64.49286666666667,
           -50.11493333333333
          ]
         ],
         "hovertemplate": "<b>%{hovertext}</b><br><br>time=%{customdata[1]}<br>latitude=%{customdata[2]}<br>longitude=%{customdata[3]}<br>station=%{customdata[0]}<extra></extra>",
         "hovertext": [
          "GF19113"
         ],
         "lat": [
          64.49286666666667
         ],
         "legendgroup": "2019-09-13T13:58Z",
         "lon": [
          -50.11493333333333
         ],
         "marker": {
          "color": "#FFA15A"
         },
         "mode": "markers",
         "name": "2019-09-13T13:58Z",
         "showlegend": true,
         "subplot": "mapbox",
         "type": "scattermapbox"
        },
        {
         "customdata": [
          [
           "GF19066",
           "2019-07-04T13:09Z",
           64.6624,
           -50.157383333333335
          ]
         ],
         "hovertemplate": "<b>%{hovertext}</b><br><br>time=%{customdata[1]}<br>latitude=%{customdata[2]}<br>longitude=%{customdata[3]}<br>station=%{customdata[0]}<extra></extra>",
         "hovertext": [
          "GF19066"
         ],
         "lat": [
          64.6624
         ],
         "legendgroup": "2019-07-04T13:09Z",
         "lon": [
          -50.157383333333335
         ],
         "marker": {
          "color": "#19d3f3"
         },
         "mode": "markers",
         "name": "2019-07-04T13:09Z",
         "showlegend": true,
         "subplot": "mapbox",
         "type": "scattermapbox"
        },
        {
         "customdata": [
          [
           "GF19072",
           "2019-08-02T13:14Z",
           64.66943333333333,
           -50.25448333333333
          ]
         ],
         "hovertemplate": "<b>%{hovertext}</b><br><br>time=%{customdata[1]}<br>latitude=%{customdata[2]}<br>longitude=%{customdata[3]}<br>station=%{customdata[0]}<extra></extra>",
         "hovertext": [
          "GF19072"
         ],
         "lat": [
          64.66943333333333
         ],
         "legendgroup": "2019-08-02T13:14Z",
         "lon": [
          -50.25448333333333
         ],
         "marker": {
          "color": "#FF6692"
         },
         "mode": "markers",
         "name": "2019-08-02T13:14Z",
         "showlegend": true,
         "subplot": "mapbox",
         "type": "scattermapbox"
        },
        {
         "customdata": [
          [
           "GF19112",
           "2019-09-13T13:27Z",
           64.45158333333333,
           -50.01345
          ]
         ],
         "hovertemplate": "<b>%{hovertext}</b><br><br>time=%{customdata[1]}<br>latitude=%{customdata[2]}<br>longitude=%{customdata[3]}<br>station=%{customdata[0]}<extra></extra>",
         "hovertext": [
          "GF19112"
         ],
         "lat": [
          64.45158333333333
         ],
         "legendgroup": "2019-09-13T13:27Z",
         "lon": [
          -50.01345
         ],
         "marker": {
          "color": "#B6E880"
         },
         "mode": "markers",
         "name": "2019-09-13T13:27Z",
         "showlegend": true,
         "subplot": "mapbox",
         "type": "scattermapbox"
        },
        {
         "customdata": [
          [
           "GF19106",
           "2019-09-10T12:49Z",
           64.56626666666666,
           -51.17398333333333
          ]
         ],
         "hovertemplate": "<b>%{hovertext}</b><br><br>time=%{customdata[1]}<br>latitude=%{customdata[2]}<br>longitude=%{customdata[3]}<br>station=%{customdata[0]}<extra></extra>",
         "hovertext": [
          "GF19106"
         ],
         "lat": [
          64.56626666666666
         ],
         "legendgroup": "2019-09-10T12:49Z",
         "lon": [
          -51.17398333333333
         ],
         "marker": {
          "color": "#FF97FF"
         },
         "mode": "markers",
         "name": "2019-09-10T12:49Z",
         "showlegend": true,
         "subplot": "mapbox",
         "type": "scattermapbox"
        },
        {
         "customdata": [
          [
           "GF19102",
           "2019-08-27T14:39Z",
           64.68,
           -50.28798333333334
          ]
         ],
         "hovertemplate": "<b>%{hovertext}</b><br><br>time=%{customdata[1]}<br>latitude=%{customdata[2]}<br>longitude=%{customdata[3]}<br>station=%{customdata[0]}<extra></extra>",
         "hovertext": [
          "GF19102"
         ],
         "lat": [
          64.68
         ],
         "legendgroup": "2019-08-27T14:39Z",
         "lon": [
          -50.28798333333334
         ],
         "marker": {
          "color": "#FECB52"
         },
         "mode": "markers",
         "name": "2019-08-27T14:39Z",
         "showlegend": true,
         "subplot": "mapbox",
         "type": "scattermapbox"
        },
        {
         "customdata": [
          [
           "GF19116",
           "2019-09-13T15:41Z",
           64.67873333333333,
           -50.28645
          ]
         ],
         "hovertemplate": "<b>%{hovertext}</b><br><br>time=%{customdata[1]}<br>latitude=%{customdata[2]}<br>longitude=%{customdata[3]}<br>station=%{customdata[0]}<extra></extra>",
         "hovertext": [
          "GF19116"
         ],
         "lat": [
          64.67873333333333
         ],
         "legendgroup": "2019-09-13T15:41Z",
         "lon": [
          -50.28645
         ],
         "marker": {
          "color": "#636efa"
         },
         "mode": "markers",
         "name": "2019-09-13T15:41Z",
         "showlegend": true,
         "subplot": "mapbox",
         "type": "scattermapbox"
        },
        {
         "customdata": [
          [
           "GF19076",
           "2019-08-06T12:12Z",
           64.50798333333333,
           -51.39966666666667
          ]
         ],
         "hovertemplate": "<b>%{hovertext}</b><br><br>time=%{customdata[1]}<br>latitude=%{customdata[2]}<br>longitude=%{customdata[3]}<br>station=%{customdata[0]}<extra></extra>",
         "hovertext": [
          "GF19076"
         ],
         "lat": [
          64.50798333333333
         ],
         "legendgroup": "2019-08-06T12:12Z",
         "lon": [
          -51.39966666666667
         ],
         "marker": {
          "color": "#EF553B"
         },
         "mode": "markers",
         "name": "2019-08-06T12:12Z",
         "showlegend": true,
         "subplot": "mapbox",
         "type": "scattermapbox"
        },
        {
         "customdata": [
          [
           "GF19089",
           "2019-08-07T19:08Z",
           64.61,
           -50.95766666666667
          ]
         ],
         "hovertemplate": "<b>%{hovertext}</b><br><br>time=%{customdata[1]}<br>latitude=%{customdata[2]}<br>longitude=%{customdata[3]}<br>station=%{customdata[0]}<extra></extra>",
         "hovertext": [
          "GF19089"
         ],
         "lat": [
          64.61
         ],
         "legendgroup": "2019-08-07T19:08Z",
         "lon": [
          -50.95766666666667
         ],
         "marker": {
          "color": "#00cc96"
         },
         "mode": "markers",
         "name": "2019-08-07T19:08Z",
         "showlegend": true,
         "subplot": "mapbox",
         "type": "scattermapbox"
        },
        {
         "customdata": [
          [
           "GF19088",
           "2019-08-07T18:22Z",
           64.71518333333333,
           -50.5441
          ]
         ],
         "hovertemplate": "<b>%{hovertext}</b><br><br>time=%{customdata[1]}<br>latitude=%{customdata[2]}<br>longitude=%{customdata[3]}<br>station=%{customdata[0]}<extra></extra>",
         "hovertext": [
          "GF19088"
         ],
         "lat": [
          64.71518333333333
         ],
         "legendgroup": "2019-08-07T18:22Z",
         "lon": [
          -50.5441
         ],
         "marker": {
          "color": "#ab63fa"
         },
         "mode": "markers",
         "name": "2019-08-07T18:22Z",
         "showlegend": true,
         "subplot": "mapbox",
         "type": "scattermapbox"
        },
        {
         "customdata": [
          [
           "GF19077",
           "2019-08-06T13:07Z",
           64.60983333333333,
           -50.96066666666667
          ]
         ],
         "hovertemplate": "<b>%{hovertext}</b><br><br>time=%{customdata[1]}<br>latitude=%{customdata[2]}<br>longitude=%{customdata[3]}<br>station=%{customdata[0]}<extra></extra>",
         "hovertext": [
          "GF19077"
         ],
         "lat": [
          64.60983333333333
         ],
         "legendgroup": "2019-08-06T13:07Z",
         "lon": [
          -50.96066666666667
         ],
         "marker": {
          "color": "#FFA15A"
         },
         "mode": "markers",
         "name": "2019-08-06T13:07Z",
         "showlegend": true,
         "subplot": "mapbox",
         "type": "scattermapbox"
        },
        {
         "customdata": [
          [
           "GF19117",
           "2019-09-13T16:10Z",
           64.71475,
           -50.54691666666667
          ]
         ],
         "hovertemplate": "<b>%{hovertext}</b><br><br>time=%{customdata[1]}<br>latitude=%{customdata[2]}<br>longitude=%{customdata[3]}<br>station=%{customdata[0]}<extra></extra>",
         "hovertext": [
          "GF19117"
         ],
         "lat": [
          64.71475
         ],
         "legendgroup": "2019-09-13T16:10Z",
         "lon": [
          -50.54691666666667
         ],
         "marker": {
          "color": "#19d3f3"
         },
         "mode": "markers",
         "name": "2019-09-13T16:10Z",
         "showlegend": true,
         "subplot": "mapbox",
         "type": "scattermapbox"
        },
        {
         "customdata": [
          [
           "GF19103",
           "2019-08-27T16:25Z",
           64.71703333333333,
           -50.55591666666667
          ]
         ],
         "hovertemplate": "<b>%{hovertext}</b><br><br>time=%{customdata[1]}<br>latitude=%{customdata[2]}<br>longitude=%{customdata[3]}<br>station=%{customdata[0]}<extra></extra>",
         "hovertext": [
          "GF19103"
         ],
         "lat": [
          64.71703333333333
         ],
         "legendgroup": "2019-08-27T16:25Z",
         "lon": [
          -50.55591666666667
         ],
         "marker": {
          "color": "#FF6692"
         },
         "mode": "markers",
         "name": "2019-08-27T16:25Z",
         "showlegend": true,
         "subplot": "mapbox",
         "type": "scattermapbox"
        },
        {
         "customdata": [
          [
           "GF19115",
           "2019-09-13T15:05Z",
           64.61163333333333,
           -50.22346666666667
          ]
         ],
         "hovertemplate": "<b>%{hovertext}</b><br><br>time=%{customdata[1]}<br>latitude=%{customdata[2]}<br>longitude=%{customdata[3]}<br>station=%{customdata[0]}<extra></extra>",
         "hovertext": [
          "GF19115"
         ],
         "lat": [
          64.61163333333333
         ],
         "legendgroup": "2019-09-13T15:05Z",
         "lon": [
          -50.22346666666667
         ],
         "marker": {
          "color": "#B6E880"
         },
         "mode": "markers",
         "name": "2019-09-13T15:05Z",
         "showlegend": true,
         "subplot": "mapbox",
         "type": "scattermapbox"
        },
        {
         "customdata": [
          [
           "GF19101",
           "2019-08-27T14:00Z",
           64.61783333333334,
           -50.23108333333333
          ]
         ],
         "hovertemplate": "<b>%{hovertext}</b><br><br>time=%{customdata[1]}<br>latitude=%{customdata[2]}<br>longitude=%{customdata[3]}<br>station=%{customdata[0]}<extra></extra>",
         "hovertext": [
          "GF19101"
         ],
         "lat": [
          64.61783333333334
         ],
         "legendgroup": "2019-08-27T14:00Z",
         "lon": [
          -50.23108333333333
         ],
         "marker": {
          "color": "#FF97FF"
         },
         "mode": "markers",
         "name": "2019-08-27T14:00Z",
         "showlegend": true,
         "subplot": "mapbox",
         "type": "scattermapbox"
        },
        {
         "customdata": [
          [
           "GF19061",
           "2019-07-01T13:11Z",
           64.61023333333333,
           -50.95555
          ]
         ],
         "hovertemplate": "<b>%{hovertext}</b><br><br>time=%{customdata[1]}<br>latitude=%{customdata[2]}<br>longitude=%{customdata[3]}<br>station=%{customdata[0]}<extra></extra>",
         "hovertext": [
          "GF19061"
         ],
         "lat": [
          64.61023333333333
         ],
         "legendgroup": "2019-07-01T13:11Z",
         "lon": [
          -50.95555
         ],
         "marker": {
          "color": "#FECB52"
         },
         "mode": "markers",
         "name": "2019-07-01T13:11Z",
         "showlegend": true,
         "subplot": "mapbox",
         "type": "scattermapbox"
        },
        {
         "customdata": [
          [
           "GF19075",
           "2019-08-06T11:23Z",
           64.38051666666667,
           -51.58851666666666
          ]
         ],
         "hovertemplate": "<b>%{hovertext}</b><br><br>time=%{customdata[1]}<br>latitude=%{customdata[2]}<br>longitude=%{customdata[3]}<br>station=%{customdata[0]}<extra></extra>",
         "hovertext": [
          "GF19075"
         ],
         "lat": [
          64.38051666666667
         ],
         "legendgroup": "2019-08-06T11:23Z",
         "lon": [
          -51.58851666666666
         ],
         "marker": {
          "color": "#636efa"
         },
         "mode": "markers",
         "name": "2019-08-06T11:23Z",
         "showlegend": true,
         "subplot": "mapbox",
         "type": "scattermapbox"
        },
        {
         "customdata": [
          [
           "GF19074",
           "2019-08-06T10:46Z",
           64.26721666666667,
           -51.66471666666666
          ]
         ],
         "hovertemplate": "<b>%{hovertext}</b><br><br>time=%{customdata[1]}<br>latitude=%{customdata[2]}<br>longitude=%{customdata[3]}<br>station=%{customdata[0]}<extra></extra>",
         "hovertext": [
          "GF19074"
         ],
         "lat": [
          64.26721666666667
         ],
         "legendgroup": "2019-08-06T10:46Z",
         "lon": [
          -51.66471666666666
         ],
         "marker": {
          "color": "#EF553B"
         },
         "mode": "markers",
         "name": "2019-08-06T10:46Z",
         "showlegend": true,
         "subplot": "mapbox",
         "type": "scattermapbox"
        },
        {
         "customdata": [
          [
           "GF19060",
           "2019-07-01T12:09Z",
           64.50646666666667,
           -51.39955
          ]
         ],
         "hovertemplate": "<b>%{hovertext}</b><br><br>time=%{customdata[1]}<br>latitude=%{customdata[2]}<br>longitude=%{customdata[3]}<br>station=%{customdata[0]}<extra></extra>",
         "hovertext": [
          "GF19060"
         ],
         "lat": [
          64.50646666666667
         ],
         "legendgroup": "2019-07-01T12:09Z",
         "lon": [
          -51.39955
         ],
         "marker": {
          "color": "#00cc96"
         },
         "mode": "markers",
         "name": "2019-07-01T12:09Z",
         "showlegend": true,
         "subplot": "mapbox",
         "type": "scattermapbox"
        },
        {
         "customdata": [
          [
           "GF19114",
           "2019-09-13T14:30Z",
           64.54626666666667,
           -50.1839
          ]
         ],
         "hovertemplate": "<b>%{hovertext}</b><br><br>time=%{customdata[1]}<br>latitude=%{customdata[2]}<br>longitude=%{customdata[3]}<br>station=%{customdata[0]}<extra></extra>",
         "hovertext": [
          "GF19114"
         ],
         "lat": [
          64.54626666666667
         ],
         "legendgroup": "2019-09-13T14:30Z",
         "lon": [
          -50.1839
         ],
         "marker": {
          "color": "#ab63fa"
         },
         "mode": "markers",
         "name": "2019-09-13T14:30Z",
         "showlegend": true,
         "subplot": "mapbox",
         "type": "scattermapbox"
        },
        {
         "customdata": [
          [
           "GF19128",
           "2019-09-16T17:52Z",
           64.19068333333334,
           -51.78315
          ]
         ],
         "hovertemplate": "<b>%{hovertext}</b><br><br>time=%{customdata[1]}<br>latitude=%{customdata[2]}<br>longitude=%{customdata[3]}<br>station=%{customdata[0]}<extra></extra>",
         "hovertext": [
          "GF19128"
         ],
         "lat": [
          64.19068333333334
         ],
         "legendgroup": "2019-09-16T17:52Z",
         "lon": [
          -51.78315
         ],
         "marker": {
          "color": "#FFA15A"
         },
         "mode": "markers",
         "name": "2019-09-16T17:52Z",
         "showlegend": true,
         "subplot": "mapbox",
         "type": "scattermapbox"
        },
        {
         "customdata": [
          [
           "GF19125",
           "2019-09-16T15:56Z",
           64.42346666666667,
           -51.51241666666667
          ]
         ],
         "hovertemplate": "<b>%{hovertext}</b><br><br>time=%{customdata[1]}<br>latitude=%{customdata[2]}<br>longitude=%{customdata[3]}<br>station=%{customdata[0]}<extra></extra>",
         "hovertext": [
          "GF19125"
         ],
         "lat": [
          64.42346666666667
         ],
         "legendgroup": "2019-09-16T15:56Z",
         "lon": [
          -51.51241666666667
         ],
         "marker": {
          "color": "#19d3f3"
         },
         "mode": "markers",
         "name": "2019-09-16T15:56Z",
         "showlegend": true,
         "subplot": "mapbox",
         "type": "scattermapbox"
        },
        {
         "customdata": [
          [
           "GF19045",
           "2019-06-04T13:48Z",
           64.60996666666666,
           -50.9588
          ]
         ],
         "hovertemplate": "<b>%{hovertext}</b><br><br>time=%{customdata[1]}<br>latitude=%{customdata[2]}<br>longitude=%{customdata[3]}<br>station=%{customdata[0]}<extra></extra>",
         "hovertext": [
          "GF19045"
         ],
         "lat": [
          64.60996666666666
         ],
         "legendgroup": "2019-06-04T13:48Z",
         "lon": [
          -50.9588
         ],
         "marker": {
          "color": "#FF6692"
         },
         "mode": "markers",
         "name": "2019-06-04T13:48Z",
         "showlegend": true,
         "subplot": "mapbox",
         "type": "scattermapbox"
        },
        {
         "customdata": [
          [
           "GF19086",
           "2019-08-07T16:59Z",
           64.6568,
           -50.11365
          ]
         ],
         "hovertemplate": "<b>%{hovertext}</b><br><br>time=%{customdata[1]}<br>latitude=%{customdata[2]}<br>longitude=%{customdata[3]}<br>station=%{customdata[0]}<extra></extra>",
         "hovertext": [
          "GF19086"
         ],
         "lat": [
          64.6568
         ],
         "legendgroup": "2019-08-07T16:59Z",
         "lon": [
          -50.11365
         ],
         "marker": {
          "color": "#B6E880"
         },
         "mode": "markers",
         "name": "2019-08-07T16:59Z",
         "showlegend": true,
         "subplot": "mapbox",
         "type": "scattermapbox"
        },
        {
         "customdata": [
          [
           "GF19087",
           "2019-08-07T17:37Z",
           64.68068333333333,
           -50.29055
          ]
         ],
         "hovertemplate": "<b>%{hovertext}</b><br><br>time=%{customdata[1]}<br>latitude=%{customdata[2]}<br>longitude=%{customdata[3]}<br>station=%{customdata[0]}<extra></extra>",
         "hovertext": [
          "GF19087"
         ],
         "lat": [
          64.68068333333333
         ],
         "legendgroup": "2019-08-07T17:37Z",
         "lon": [
          -50.29055
         ],
         "marker": {
          "color": "#FF97FF"
         },
         "mode": "markers",
         "name": "2019-08-07T17:37Z",
         "showlegend": true,
         "subplot": "mapbox",
         "type": "scattermapbox"
        },
        {
         "customdata": [
          [
           "GF19044",
           "2019-06-04T12:43Z",
           64.50805,
           -51.399766666666665
          ]
         ],
         "hovertemplate": "<b>%{hovertext}</b><br><br>time=%{customdata[1]}<br>latitude=%{customdata[2]}<br>longitude=%{customdata[3]}<br>station=%{customdata[0]}<extra></extra>",
         "hovertext": [
          "GF19044"
         ],
         "lat": [
          64.50805
         ],
         "legendgroup": "2019-06-04T12:43Z",
         "lon": [
          -51.399766666666665
         ],
         "marker": {
          "color": "#FECB52"
         },
         "mode": "markers",
         "name": "2019-06-04T12:43Z",
         "showlegend": true,
         "subplot": "mapbox",
         "type": "scattermapbox"
        },
        {
         "customdata": [
          [
           "GF19118",
           "2019-09-13T16:51Z",
           64.68363333333333,
           -50.7437
          ]
         ],
         "hovertemplate": "<b>%{hovertext}</b><br><br>time=%{customdata[1]}<br>latitude=%{customdata[2]}<br>longitude=%{customdata[3]}<br>station=%{customdata[0]}<extra></extra>",
         "hovertext": [
          "GF19118"
         ],
         "lat": [
          64.68363333333333
         ],
         "legendgroup": "2019-09-13T16:51Z",
         "lon": [
          -50.7437
         ],
         "marker": {
          "color": "#636efa"
         },
         "mode": "markers",
         "name": "2019-09-13T16:51Z",
         "showlegend": true,
         "subplot": "mapbox",
         "type": "scattermapbox"
        },
        {
         "customdata": [
          [
           "GF19124",
           "2019-09-16T15:09Z",
           64.50655,
           -51.399033333333335
          ]
         ],
         "hovertemplate": "<b>%{hovertext}</b><br><br>time=%{customdata[1]}<br>latitude=%{customdata[2]}<br>longitude=%{customdata[3]}<br>station=%{customdata[0]}<extra></extra>",
         "hovertext": [
          "GF19124"
         ],
         "lat": [
          64.50655
         ],
         "legendgroup": "2019-09-16T15:09Z",
         "lon": [
          -51.399033333333335
         ],
         "marker": {
          "color": "#EF553B"
         },
         "mode": "markers",
         "name": "2019-09-16T15:09Z",
         "showlegend": true,
         "subplot": "mapbox",
         "type": "scattermapbox"
        },
        {
         "customdata": [
          [
           "HS190716",
           "2019-07-16T14:04Z",
           64.15253333333334,
           -51.82913333333333
          ]
         ],
         "hovertemplate": "<b>%{hovertext}</b><br><br>time=%{customdata[1]}<br>latitude=%{customdata[2]}<br>longitude=%{customdata[3]}<br>station=%{customdata[0]}<extra></extra>",
         "hovertext": [
          "HS190716"
         ],
         "lat": [
          64.15253333333334
         ],
         "legendgroup": "2019-07-16T14:04Z",
         "lon": [
          -51.82913333333333
         ],
         "marker": {
          "color": "#00cc96"
         },
         "mode": "markers",
         "name": "2019-07-16T14:04Z",
         "showlegend": true,
         "subplot": "mapbox",
         "type": "scattermapbox"
        },
        {
         "customdata": [
          [
           "GF19126",
           "2019-09-16T16:19Z",
           64.37846666666667,
           -51.592166666666664
          ]
         ],
         "hovertemplate": "<b>%{hovertext}</b><br><br>time=%{customdata[1]}<br>latitude=%{customdata[2]}<br>longitude=%{customdata[3]}<br>station=%{customdata[0]}<extra></extra>",
         "hovertext": [
          "GF19126"
         ],
         "lat": [
          64.37846666666667
         ],
         "legendgroup": "2019-09-16T16:19Z",
         "lon": [
          -51.592166666666664
         ],
         "marker": {
          "color": "#ab63fa"
         },
         "mode": "markers",
         "name": "2019-09-16T16:19Z",
         "showlegend": true,
         "subplot": "mapbox",
         "type": "scattermapbox"
        },
        {
         "customdata": [
          [
           "GF19046",
           "2019-06-04T15:02Z",
           64.7046,
           -50.63848333333333
          ]
         ],
         "hovertemplate": "<b>%{hovertext}</b><br><br>time=%{customdata[1]}<br>latitude=%{customdata[2]}<br>longitude=%{customdata[3]}<br>station=%{customdata[0]}<extra></extra>",
         "hovertext": [
          "GF19046"
         ],
         "lat": [
          64.7046
         ],
         "legendgroup": "2019-06-04T15:02Z",
         "lon": [
          -50.63848333333333
         ],
         "marker": {
          "color": "#FFA15A"
         },
         "mode": "markers",
         "name": "2019-06-04T15:02Z",
         "showlegend": true,
         "subplot": "mapbox",
         "type": "scattermapbox"
        },
        {
         "customdata": [
          [
           "GF19085",
           "2019-08-07T16:21Z",
           64.60291666666667,
           -50.2209
          ]
         ],
         "hovertemplate": "<b>%{hovertext}</b><br><br>time=%{customdata[1]}<br>latitude=%{customdata[2]}<br>longitude=%{customdata[3]}<br>station=%{customdata[0]}<extra></extra>",
         "hovertext": [
          "GF19085"
         ],
         "lat": [
          64.60291666666667
         ],
         "legendgroup": "2019-08-07T16:21Z",
         "lon": [
          -50.2209
         ],
         "marker": {
          "color": "#19d3f3"
         },
         "mode": "markers",
         "name": "2019-08-07T16:21Z",
         "showlegend": true,
         "subplot": "mapbox",
         "type": "scattermapbox"
        },
        {
         "customdata": [
          [
           "GF19084",
           "2019-08-07T15:45Z",
           64.54751666666667,
           -50.184066666666666
          ]
         ],
         "hovertemplate": "<b>%{hovertext}</b><br><br>time=%{customdata[1]}<br>latitude=%{customdata[2]}<br>longitude=%{customdata[3]}<br>station=%{customdata[0]}<extra></extra>",
         "hovertext": [
          "GF19084"
         ],
         "lat": [
          64.54751666666667
         ],
         "legendgroup": "2019-08-07T15:45Z",
         "lon": [
          -50.184066666666666
         ],
         "marker": {
          "color": "#FF6692"
         },
         "mode": "markers",
         "name": "2019-08-07T15:45Z",
         "showlegend": true,
         "subplot": "mapbox",
         "type": "scattermapbox"
        },
        {
         "customdata": [
          [
           "GF19127",
           "2019-09-16T17:12Z",
           64.28331666666666,
           -51.66825
          ]
         ],
         "hovertemplate": "<b>%{hovertext}</b><br><br>time=%{customdata[1]}<br>latitude=%{customdata[2]}<br>longitude=%{customdata[3]}<br>station=%{customdata[0]}<extra></extra>",
         "hovertext": [
          "GF19127"
         ],
         "lat": [
          64.28331666666666
         ],
         "legendgroup": "2019-09-16T17:12Z",
         "lon": [
          -51.66825
         ],
         "marker": {
          "color": "#B6E880"
         },
         "mode": "markers",
         "name": "2019-09-16T17:12Z",
         "showlegend": true,
         "subplot": "mapbox",
         "type": "scattermapbox"
        },
        {
         "customdata": [
          [
           "GF19123",
           "2019-09-16T14:18Z",
           64.58325,
           -51.150666666666666
          ]
         ],
         "hovertemplate": "<b>%{hovertext}</b><br><br>time=%{customdata[1]}<br>latitude=%{customdata[2]}<br>longitude=%{customdata[3]}<br>station=%{customdata[0]}<extra></extra>",
         "hovertext": [
          "GF19123"
         ],
         "lat": [
          64.58325
         ],
         "legendgroup": "2019-09-16T14:18Z",
         "lon": [
          -51.150666666666666
         ],
         "marker": {
          "color": "#FF97FF"
         },
         "mode": "markers",
         "name": "2019-09-16T14:18Z",
         "showlegend": true,
         "subplot": "mapbox",
         "type": "scattermapbox"
        },
        {
         "customdata": [
          [
           "GF19057",
           "2019-06-14T13:39Z",
           64.61061666666667,
           -50.9595
          ]
         ],
         "hovertemplate": "<b>%{hovertext}</b><br><br>time=%{customdata[1]}<br>latitude=%{customdata[2]}<br>longitude=%{customdata[3]}<br>station=%{customdata[0]}<extra></extra>",
         "hovertext": [
          "GF19057"
         ],
         "lat": [
          64.61061666666667
         ],
         "legendgroup": "2019-06-14T13:39Z",
         "lon": [
          -50.9595
         ],
         "marker": {
          "color": "#FECB52"
         },
         "mode": "markers",
         "name": "2019-06-14T13:39Z",
         "showlegend": true,
         "subplot": "mapbox",
         "type": "scattermapbox"
        },
        {
         "customdata": [
          [
           "GF19043",
           "2019-06-04T11:43Z",
           64.3793,
           -51.59
          ]
         ],
         "hovertemplate": "<b>%{hovertext}</b><br><br>time=%{customdata[1]}<br>latitude=%{customdata[2]}<br>longitude=%{customdata[3]}<br>station=%{customdata[0]}<extra></extra>",
         "hovertext": [
          "GF19043"
         ],
         "lat": [
          64.3793
         ],
         "legendgroup": "2019-06-04T11:43Z",
         "lon": [
          -51.59
         ],
         "marker": {
          "color": "#636efa"
         },
         "mode": "markers",
         "name": "2019-06-04T11:43Z",
         "showlegend": true,
         "subplot": "mapbox",
         "type": "scattermapbox"
        },
        {
         "customdata": [
          [
           "GF19042",
           "2019-06-04T11:01Z",
           64.26618333333333,
           -51.668083333333335
          ]
         ],
         "hovertemplate": "<b>%{hovertext}</b><br><br>time=%{customdata[1]}<br>latitude=%{customdata[2]}<br>longitude=%{customdata[3]}<br>station=%{customdata[0]}<extra></extra>",
         "hovertext": [
          "GF19042"
         ],
         "lat": [
          64.26618333333333
         ],
         "legendgroup": "2019-06-04T11:01Z",
         "lon": [
          -51.668083333333335
         ],
         "marker": {
          "color": "#EF553B"
         },
         "mode": "markers",
         "name": "2019-06-04T11:01Z",
         "showlegend": true,
         "subplot": "mapbox",
         "type": "scattermapbox"
        },
        {
         "customdata": [
          [
           "GF19122",
           "2019-09-16T13:52Z",
           64.60838333333334,
           -50.96083333333333
          ]
         ],
         "hovertemplate": "<b>%{hovertext}</b><br><br>time=%{customdata[1]}<br>latitude=%{customdata[2]}<br>longitude=%{customdata[3]}<br>station=%{customdata[0]}<extra></extra>",
         "hovertext": [
          "GF19122"
         ],
         "lat": [
          64.60838333333334
         ],
         "legendgroup": "2019-09-16T13:52Z",
         "lon": [
          -50.96083333333333
         ],
         "marker": {
          "color": "#00cc96"
         },
         "mode": "markers",
         "name": "2019-09-16T13:52Z",
         "showlegend": true,
         "subplot": "mapbox",
         "type": "scattermapbox"
        },
        {
         "customdata": [
          [
           "GF19108",
           "2019-09-10T14:29Z",
           64.42348333333334,
           -51.509566666666665
          ]
         ],
         "hovertemplate": "<b>%{hovertext}</b><br><br>time=%{customdata[1]}<br>latitude=%{customdata[2]}<br>longitude=%{customdata[3]}<br>station=%{customdata[0]}<extra></extra>",
         "hovertext": [
          "GF19108"
         ],
         "lat": [
          64.42348333333334
         ],
         "legendgroup": "2019-09-10T14:29Z",
         "lon": [
          -51.509566666666665
         ],
         "marker": {
          "color": "#ab63fa"
         },
         "mode": "markers",
         "name": "2019-09-10T14:29Z",
         "showlegend": true,
         "subplot": "mapbox",
         "type": "scattermapbox"
        },
        {
         "customdata": [
          [
           "GF19120",
           "2019-09-16T12:43Z",
           64.68278333333333,
           -50.74085
          ]
         ],
         "hovertemplate": "<b>%{hovertext}</b><br><br>time=%{customdata[1]}<br>latitude=%{customdata[2]}<br>longitude=%{customdata[3]}<br>station=%{customdata[0]}<extra></extra>",
         "hovertext": [
          "GF19120"
         ],
         "lat": [
          64.68278333333333
         ],
         "legendgroup": "2019-09-16T12:43Z",
         "lon": [
          -50.74085
         ],
         "marker": {
          "color": "#FFA15A"
         },
         "mode": "markers",
         "name": "2019-09-16T12:43Z",
         "showlegend": true,
         "subplot": "mapbox",
         "type": "scattermapbox"
        },
        {
         "customdata": [
          [
           "GF19068",
           "2019-07-04T13:48Z",
           64.66816666666666,
           -50.250083333333336
          ]
         ],
         "hovertemplate": "<b>%{hovertext}</b><br><br>time=%{customdata[1]}<br>latitude=%{customdata[2]}<br>longitude=%{customdata[3]}<br>station=%{customdata[0]}<extra></extra>",
         "hovertext": [
          "GF19068"
         ],
         "lat": [
          64.66816666666666
         ],
         "legendgroup": "2019-07-04T13:48Z",
         "lon": [
          -50.250083333333336
         ],
         "marker": {
          "color": "#19d3f3"
         },
         "mode": "markers",
         "name": "2019-07-04T13:48Z",
         "showlegend": true,
         "subplot": "mapbox",
         "type": "scattermapbox"
        },
        {
         "customdata": [
          [
           "GF19083",
           "2019-08-07T15:22Z",
           64.49341666666666,
           -50.113416666666666
          ]
         ],
         "hovertemplate": "<b>%{hovertext}</b><br><br>time=%{customdata[1]}<br>latitude=%{customdata[2]}<br>longitude=%{customdata[3]}<br>station=%{customdata[0]}<extra></extra>",
         "hovertext": [
          "GF19083"
         ],
         "lat": [
          64.49341666666666
         ],
         "legendgroup": "2019-08-07T15:22Z",
         "lon": [
          -50.113416666666666
         ],
         "marker": {
          "color": "#FF6692"
         },
         "mode": "markers",
         "name": "2019-08-07T15:22Z",
         "showlegend": true,
         "subplot": "mapbox",
         "type": "scattermapbox"
        },
        {
         "customdata": [
          [
           "GF19082",
           "2019-08-07T14:59Z",
           64.48761666666667,
           -50.06791666666667
          ]
         ],
         "hovertemplate": "<b>%{hovertext}</b><br><br>time=%{customdata[1]}<br>latitude=%{customdata[2]}<br>longitude=%{customdata[3]}<br>station=%{customdata[0]}<extra></extra>",
         "hovertext": [
          "GF19082"
         ],
         "lat": [
          64.48761666666667
         ],
         "legendgroup": "2019-08-07T14:59Z",
         "lon": [
          -50.06791666666667
         ],
         "marker": {
          "color": "#B6E880"
         },
         "mode": "markers",
         "name": "2019-08-07T14:59Z",
         "showlegend": true,
         "subplot": "mapbox",
         "type": "scattermapbox"
        },
        {
         "customdata": [
          [
           "GF19109",
           "2019-09-10T16:11Z",
           64.38023333333334,
           -51.58555
          ]
         ],
         "hovertemplate": "<b>%{hovertext}</b><br><br>time=%{customdata[1]}<br>latitude=%{customdata[2]}<br>longitude=%{customdata[3]}<br>station=%{customdata[0]}<extra></extra>",
         "hovertext": [
          "GF19109"
         ],
         "lat": [
          64.38023333333334
         ],
         "legendgroup": "2019-09-10T16:11Z",
         "lon": [
          -51.58555
         ],
         "marker": {
          "color": "#FF97FF"
         },
         "mode": "markers",
         "name": "2019-09-10T16:11Z",
         "showlegend": true,
         "subplot": "mapbox",
         "type": "scattermapbox"
        },
        {
         "customdata": [
          [
           "GF19033",
           "2019-05-06T10:41Z",
           64.26703333333333,
           -51.666016666666664
          ]
         ],
         "hovertemplate": "<b>%{hovertext}</b><br><br>time=%{customdata[1]}<br>latitude=%{customdata[2]}<br>longitude=%{customdata[3]}<br>station=%{customdata[0]}<extra></extra>",
         "hovertext": [
          "GF19033"
         ],
         "lat": [
          64.26703333333333
         ],
         "legendgroup": "2019-05-06T10:41Z",
         "lon": [
          -51.666016666666664
         ],
         "marker": {
          "color": "#FECB52"
         },
         "mode": "markers",
         "name": "2019-05-06T10:41Z",
         "showlegend": true,
         "subplot": "mapbox",
         "type": "scattermapbox"
        },
        {
         "customdata": [
          [
           "GF19034",
           "2019-05-06T11:18Z",
           64.37253333333334,
           -51.58711666666667
          ]
         ],
         "hovertemplate": "<b>%{hovertext}</b><br><br>time=%{customdata[1]}<br>latitude=%{customdata[2]}<br>longitude=%{customdata[3]}<br>station=%{customdata[0]}<extra></extra>",
         "hovertext": [
          "GF19034"
         ],
         "lat": [
          64.37253333333334
         ],
         "legendgroup": "2019-05-06T11:18Z",
         "lon": [
          -51.58711666666667
         ],
         "marker": {
          "color": "#636efa"
         },
         "mode": "markers",
         "name": "2019-05-06T11:18Z",
         "showlegend": true,
         "subplot": "mapbox",
         "type": "scattermapbox"
        },
        {
         "customdata": [
          [
           "GF19035",
           "2019-05-06T12:16Z",
           64.50753333333333,
           -51.39933333333333
          ]
         ],
         "hovertemplate": "<b>%{hovertext}</b><br><br>time=%{customdata[1]}<br>latitude=%{customdata[2]}<br>longitude=%{customdata[3]}<br>station=%{customdata[0]}<extra></extra>",
         "hovertext": [
          "GF19035"
         ],
         "lat": [
          64.50753333333333
         ],
         "legendgroup": "2019-05-06T12:16Z",
         "lon": [
          -51.39933333333333
         ],
         "marker": {
          "color": "#EF553B"
         },
         "mode": "markers",
         "name": "2019-05-06T12:16Z",
         "showlegend": true,
         "subplot": "mapbox",
         "type": "scattermapbox"
        },
        {
         "customdata": [
          [
           "GF19037",
           "2019-05-06T14:34Z",
           64.64785,
           -50.250733333333336
          ]
         ],
         "hovertemplate": "<b>%{hovertext}</b><br><br>time=%{customdata[1]}<br>latitude=%{customdata[2]}<br>longitude=%{customdata[3]}<br>station=%{customdata[0]}<extra></extra>",
         "hovertext": [
          "GF19037"
         ],
         "lat": [
          64.64785
         ],
         "legendgroup": "2019-05-06T14:34Z",
         "lon": [
          -50.250733333333336
         ],
         "marker": {
          "color": "#00cc96"
         },
         "mode": "markers",
         "name": "2019-05-06T14:34Z",
         "showlegend": true,
         "subplot": "mapbox",
         "type": "scattermapbox"
        },
        {
         "customdata": [
          [
           "GF19036",
           "2019-05-06T13:18Z",
           64.60975,
           -50.95635
          ]
         ],
         "hovertemplate": "<b>%{hovertext}</b><br><br>time=%{customdata[1]}<br>latitude=%{customdata[2]}<br>longitude=%{customdata[3]}<br>station=%{customdata[0]}<extra></extra>",
         "hovertext": [
          "GF19036"
         ],
         "lat": [
          64.60975
         ],
         "legendgroup": "2019-05-06T13:18Z",
         "lon": [
          -50.95635
         ],
         "marker": {
          "color": "#ab63fa"
         },
         "mode": "markers",
         "name": "2019-05-06T13:18Z",
         "showlegend": true,
         "subplot": "mapbox",
         "type": "scattermapbox"
        },
        {
         "customdata": [
          [
           "GF19013",
           "2019-03-05T13:39Z",
           64.50945,
           -51.39843333333334
          ]
         ],
         "hovertemplate": "<b>%{hovertext}</b><br><br>time=%{customdata[1]}<br>latitude=%{customdata[2]}<br>longitude=%{customdata[3]}<br>station=%{customdata[0]}<extra></extra>",
         "hovertext": [
          "GF19013"
         ],
         "lat": [
          64.50945
         ],
         "legendgroup": "2019-03-05T13:39Z",
         "lon": [
          -51.39843333333334
         ],
         "marker": {
          "color": "#FFA15A"
         },
         "mode": "markers",
         "name": "2019-03-05T13:39Z",
         "showlegend": true,
         "subplot": "mapbox",
         "type": "scattermapbox"
        },
        {
         "customdata": [
          [
           "GF19012",
           "2019-03-05T12:40Z",
           64.38046666666666,
           -51.58988333333333
          ]
         ],
         "hovertemplate": "<b>%{hovertext}</b><br><br>time=%{customdata[1]}<br>latitude=%{customdata[2]}<br>longitude=%{customdata[3]}<br>station=%{customdata[0]}<extra></extra>",
         "hovertext": [
          "GF19012"
         ],
         "lat": [
          64.38046666666666
         ],
         "legendgroup": "2019-03-05T12:40Z",
         "lon": [
          -51.58988333333333
         ],
         "marker": {
          "color": "#19d3f3"
         },
         "mode": "markers",
         "name": "2019-03-05T12:40Z",
         "showlegend": true,
         "subplot": "mapbox",
         "type": "scattermapbox"
        },
        {
         "customdata": [
          [
           "GF19010",
           "2019-02-27T18:32Z",
           64.21901666666666,
           -51.68195
          ]
         ],
         "hovertemplate": "<b>%{hovertext}</b><br><br>time=%{customdata[1]}<br>latitude=%{customdata[2]}<br>longitude=%{customdata[3]}<br>station=%{customdata[0]}<extra></extra>",
         "hovertext": [
          "GF19010"
         ],
         "lat": [
          64.21901666666666
         ],
         "legendgroup": "2019-02-27T18:32Z",
         "lon": [
          -51.68195
         ],
         "marker": {
          "color": "#FF6692"
         },
         "mode": "markers",
         "name": "2019-02-27T18:32Z",
         "showlegend": true,
         "subplot": "mapbox",
         "type": "scattermapbox"
        },
        {
         "customdata": [
          [
           "GF19004",
           "2019-02-05T14:35Z",
           64.60891666666667,
           -50.958533333333335
          ]
         ],
         "hovertemplate": "<b>%{hovertext}</b><br><br>time=%{customdata[1]}<br>latitude=%{customdata[2]}<br>longitude=%{customdata[3]}<br>station=%{customdata[0]}<extra></extra>",
         "hovertext": [
          "GF19004"
         ],
         "lat": [
          64.60891666666667
         ],
         "legendgroup": "2019-02-05T14:35Z",
         "lon": [
          -50.958533333333335
         ],
         "marker": {
          "color": "#B6E880"
         },
         "mode": "markers",
         "name": "2019-02-05T14:35Z",
         "showlegend": true,
         "subplot": "mapbox",
         "type": "scattermapbox"
        },
        {
         "customdata": [
          [
           "GF19005",
           "2019-02-05T15:17Z",
           64.67518333333334,
           -50.76671666666667
          ]
         ],
         "hovertemplate": "<b>%{hovertext}</b><br><br>time=%{customdata[1]}<br>latitude=%{customdata[2]}<br>longitude=%{customdata[3]}<br>station=%{customdata[0]}<extra></extra>",
         "hovertext": [
          "GF19005"
         ],
         "lat": [
          64.67518333333334
         ],
         "legendgroup": "2019-02-05T15:17Z",
         "lon": [
          -50.76671666666667
         ],
         "marker": {
          "color": "#FF97FF"
         },
         "mode": "markers",
         "name": "2019-02-05T15:17Z",
         "showlegend": true,
         "subplot": "mapbox",
         "type": "scattermapbox"
        },
        {
         "customdata": [
          [
           "GF19011",
           "2019-03-05T11:59Z",
           64.26671666666667,
           -51.667766666666665
          ]
         ],
         "hovertemplate": "<b>%{hovertext}</b><br><br>time=%{customdata[1]}<br>latitude=%{customdata[2]}<br>longitude=%{customdata[3]}<br>station=%{customdata[0]}<extra></extra>",
         "hovertext": [
          "GF19011"
         ],
         "lat": [
          64.26671666666667
         ],
         "legendgroup": "2019-03-05T11:59Z",
         "lon": [
          -51.667766666666665
         ],
         "marker": {
          "color": "#FECB52"
         },
         "mode": "markers",
         "name": "2019-03-05T11:59Z",
         "showlegend": true,
         "subplot": "mapbox",
         "type": "scattermapbox"
        },
        {
         "customdata": [
          [
           "GF19029",
           "2019-04-10T15:50Z",
           64.60783333333333,
           -50.96281666666667
          ]
         ],
         "hovertemplate": "<b>%{hovertext}</b><br><br>time=%{customdata[1]}<br>latitude=%{customdata[2]}<br>longitude=%{customdata[3]}<br>station=%{customdata[0]}<extra></extra>",
         "hovertext": [
          "GF19029"
         ],
         "lat": [
          64.60783333333333
         ],
         "legendgroup": "2019-04-10T15:50Z",
         "lon": [
          -50.96281666666667
         ],
         "marker": {
          "color": "#636efa"
         },
         "mode": "markers",
         "name": "2019-04-10T15:50Z",
         "showlegend": true,
         "subplot": "mapbox",
         "type": "scattermapbox"
        },
        {
         "customdata": [
          [
           "GF19015",
           "2019-03-05T16:13Z",
           64.72043333333333,
           -50.51035
          ]
         ],
         "hovertemplate": "<b>%{hovertext}</b><br><br>time=%{customdata[1]}<br>latitude=%{customdata[2]}<br>longitude=%{customdata[3]}<br>station=%{customdata[0]}<extra></extra>",
         "hovertext": [
          "GF19015"
         ],
         "lat": [
          64.72043333333333
         ],
         "legendgroup": "2019-03-05T16:13Z",
         "lon": [
          -50.51035
         ],
         "marker": {
          "color": "#EF553B"
         },
         "mode": "markers",
         "name": "2019-03-05T16:13Z",
         "showlegend": true,
         "subplot": "mapbox",
         "type": "scattermapbox"
        },
        {
         "customdata": [
          [
           "GF19001",
           "2019-02-05T12:03Z",
           64.26556666666667,
           -51.66725
          ]
         ],
         "hovertemplate": "<b>%{hovertext}</b><br><br>time=%{customdata[1]}<br>latitude=%{customdata[2]}<br>longitude=%{customdata[3]}<br>station=%{customdata[0]}<extra></extra>",
         "hovertext": [
          "GF19001"
         ],
         "lat": [
          64.26556666666667
         ],
         "legendgroup": "2019-02-05T12:03Z",
         "lon": [
          -51.66725
         ],
         "marker": {
          "color": "#00cc96"
         },
         "mode": "markers",
         "name": "2019-02-05T12:03Z",
         "showlegend": true,
         "subplot": "mapbox",
         "type": "scattermapbox"
        },
        {
         "customdata": [
          [
           "GF19028",
           "2019-04-10T14:49Z",
           64.69451666666667,
           -50.398183333333336
          ]
         ],
         "hovertemplate": "<b>%{hovertext}</b><br><br>time=%{customdata[1]}<br>latitude=%{customdata[2]}<br>longitude=%{customdata[3]}<br>station=%{customdata[0]}<extra></extra>",
         "hovertext": [
          "GF19028"
         ],
         "lat": [
          64.69451666666667
         ],
         "legendgroup": "2019-04-10T14:49Z",
         "lon": [
          -50.398183333333336
         ],
         "marker": {
          "color": "#ab63fa"
         },
         "mode": "markers",
         "name": "2019-04-10T14:49Z",
         "showlegend": true,
         "subplot": "mapbox",
         "type": "scattermapbox"
        },
        {
         "customdata": [
          [
           "GF19002",
           "2019-02-05T12:41Z",
           64.38038333333333,
           -51.58828333333334
          ]
         ],
         "hovertemplate": "<b>%{hovertext}</b><br><br>time=%{customdata[1]}<br>latitude=%{customdata[2]}<br>longitude=%{customdata[3]}<br>station=%{customdata[0]}<extra></extra>",
         "hovertext": [
          "GF19002"
         ],
         "lat": [
          64.38038333333333
         ],
         "legendgroup": "2019-02-05T12:41Z",
         "lon": [
          -51.58828333333334
         ],
         "marker": {
          "color": "#FFA15A"
         },
         "mode": "markers",
         "name": "2019-02-05T12:41Z",
         "showlegend": true,
         "subplot": "mapbox",
         "type": "scattermapbox"
        },
        {
         "customdata": [
          [
           "GF19017",
           "2019-03-05T17:51Z",
           64.60756666666667,
           -50.96211666666667
          ]
         ],
         "hovertemplate": "<b>%{hovertext}</b><br><br>time=%{customdata[1]}<br>latitude=%{customdata[2]}<br>longitude=%{customdata[3]}<br>station=%{customdata[0]}<extra></extra>",
         "hovertext": [
          "GF19017"
         ],
         "lat": [
          64.60756666666667
         ],
         "legendgroup": "2019-03-05T17:51Z",
         "lon": [
          -50.96211666666667
         ],
         "marker": {
          "color": "#19d3f3"
         },
         "mode": "markers",
         "name": "2019-03-05T17:51Z",
         "showlegend": true,
         "subplot": "mapbox",
         "type": "scattermapbox"
        },
        {
         "customdata": [
          [
           "GF19003",
           "2019-02-05T13:33Z",
           64.50785,
           -51.395783333333334
          ]
         ],
         "hovertemplate": "<b>%{hovertext}</b><br><br>time=%{customdata[1]}<br>latitude=%{customdata[2]}<br>longitude=%{customdata[3]}<br>station=%{customdata[0]}<extra></extra>",
         "hovertext": [
          "GF19003"
         ],
         "lat": [
          64.50785
         ],
         "legendgroup": "2019-02-05T13:33Z",
         "lon": [
          -51.395783333333334
         ],
         "marker": {
          "color": "#FF6692"
         },
         "mode": "markers",
         "name": "2019-02-05T13:33Z",
         "showlegend": true,
         "subplot": "mapbox",
         "type": "scattermapbox"
        },
        {
         "customdata": [
          [
           "GF19026",
           "2019-04-10T12:16Z",
           64.3799,
           -51.59011666666667
          ]
         ],
         "hovertemplate": "<b>%{hovertext}</b><br><br>time=%{customdata[1]}<br>latitude=%{customdata[2]}<br>longitude=%{customdata[3]}<br>station=%{customdata[0]}<extra></extra>",
         "hovertext": [
          "GF19026"
         ],
         "lat": [
          64.3799
         ],
         "legendgroup": "2019-04-10T12:16Z",
         "lon": [
          -51.59011666666667
         ],
         "marker": {
          "color": "#B6E880"
         },
         "mode": "markers",
         "name": "2019-04-10T12:16Z",
         "showlegend": true,
         "subplot": "mapbox",
         "type": "scattermapbox"
        },
        {
         "customdata": [
          [
           "GF19027",
           "2019-04-10T13:08Z",
           64.50771666666667,
           -51.39861666666667
          ]
         ],
         "hovertemplate": "<b>%{hovertext}</b><br><br>time=%{customdata[1]}<br>latitude=%{customdata[2]}<br>longitude=%{customdata[3]}<br>station=%{customdata[0]}<extra></extra>",
         "hovertext": [
          "GF19027"
         ],
         "lat": [
          64.50771666666667
         ],
         "legendgroup": "2019-04-10T13:08Z",
         "lon": [
          -51.39861666666667
         ],
         "marker": {
          "color": "#FF97FF"
         },
         "mode": "markers",
         "name": "2019-04-10T13:08Z",
         "showlegend": true,
         "subplot": "mapbox",
         "type": "scattermapbox"
        },
        {
         "customdata": [
          [
           "GF19024",
           "2019-04-10T11:07Z",
           64.26656666666666,
           -51.66755
          ]
         ],
         "hovertemplate": "<b>%{hovertext}</b><br><br>time=%{customdata[1]}<br>latitude=%{customdata[2]}<br>longitude=%{customdata[3]}<br>station=%{customdata[0]}<extra></extra>",
         "hovertext": [
          "GF19024"
         ],
         "lat": [
          64.26656666666666
         ],
         "legendgroup": "2019-04-10T11:07Z",
         "lon": [
          -51.66755
         ],
         "marker": {
          "color": "#FECB52"
         },
         "mode": "markers",
         "name": "2019-04-10T11:07Z",
         "showlegend": true,
         "subplot": "mapbox",
         "type": "scattermapbox"
        },
        {
         "lat": [
          64.612
         ],
         "lon": [
          -50.954
         ],
         "marker": {
          "color": "black",
          "size": 10
         },
         "mode": "markers+text",
         "text": [
          "Mooring"
         ],
         "type": "scattermapbox"
        }
       ],
       "layout": {
        "legend": {
         "title": {
          "text": "time"
         },
         "tracegroupgap": 0
        },
        "mapbox": {
         "center": {
          "lat": 64.50948422222221,
          "lon": -51.08716633333334
         },
         "domain": {
          "x": [
           0,
           1
          ],
          "y": [
           0,
           1
          ]
         },
         "style": "open-street-map",
         "zoom": 7
        },
        "margin": {
         "b": 0,
         "l": 0,
         "r": 0,
         "t": 0
        },
        "template": {
         "data": {
          "bar": [
           {
            "error_x": {
             "color": "#2a3f5f"
            },
            "error_y": {
             "color": "#2a3f5f"
            },
            "marker": {
             "line": {
              "color": "#E5ECF6",
              "width": 0.5
             },
             "pattern": {
              "fillmode": "overlay",
              "size": 10,
              "solidity": 0.2
             }
            },
            "type": "bar"
           }
          ],
          "barpolar": [
           {
            "marker": {
             "line": {
              "color": "#E5ECF6",
              "width": 0.5
             },
             "pattern": {
              "fillmode": "overlay",
              "size": 10,
              "solidity": 0.2
             }
            },
            "type": "barpolar"
           }
          ],
          "carpet": [
           {
            "aaxis": {
             "endlinecolor": "#2a3f5f",
             "gridcolor": "white",
             "linecolor": "white",
             "minorgridcolor": "white",
             "startlinecolor": "#2a3f5f"
            },
            "baxis": {
             "endlinecolor": "#2a3f5f",
             "gridcolor": "white",
             "linecolor": "white",
             "minorgridcolor": "white",
             "startlinecolor": "#2a3f5f"
            },
            "type": "carpet"
           }
          ],
          "choropleth": [
           {
            "colorbar": {
             "outlinewidth": 0,
             "ticks": ""
            },
            "type": "choropleth"
           }
          ],
          "contour": [
           {
            "colorbar": {
             "outlinewidth": 0,
             "ticks": ""
            },
            "colorscale": [
             [
              0,
              "#0d0887"
             ],
             [
              0.1111111111111111,
              "#46039f"
             ],
             [
              0.2222222222222222,
              "#7201a8"
             ],
             [
              0.3333333333333333,
              "#9c179e"
             ],
             [
              0.4444444444444444,
              "#bd3786"
             ],
             [
              0.5555555555555556,
              "#d8576b"
             ],
             [
              0.6666666666666666,
              "#ed7953"
             ],
             [
              0.7777777777777778,
              "#fb9f3a"
             ],
             [
              0.8888888888888888,
              "#fdca26"
             ],
             [
              1,
              "#f0f921"
             ]
            ],
            "type": "contour"
           }
          ],
          "contourcarpet": [
           {
            "colorbar": {
             "outlinewidth": 0,
             "ticks": ""
            },
            "type": "contourcarpet"
           }
          ],
          "heatmap": [
           {
            "colorbar": {
             "outlinewidth": 0,
             "ticks": ""
            },
            "colorscale": [
             [
              0,
              "#0d0887"
             ],
             [
              0.1111111111111111,
              "#46039f"
             ],
             [
              0.2222222222222222,
              "#7201a8"
             ],
             [
              0.3333333333333333,
              "#9c179e"
             ],
             [
              0.4444444444444444,
              "#bd3786"
             ],
             [
              0.5555555555555556,
              "#d8576b"
             ],
             [
              0.6666666666666666,
              "#ed7953"
             ],
             [
              0.7777777777777778,
              "#fb9f3a"
             ],
             [
              0.8888888888888888,
              "#fdca26"
             ],
             [
              1,
              "#f0f921"
             ]
            ],
            "type": "heatmap"
           }
          ],
          "heatmapgl": [
           {
            "colorbar": {
             "outlinewidth": 0,
             "ticks": ""
            },
            "colorscale": [
             [
              0,
              "#0d0887"
             ],
             [
              0.1111111111111111,
              "#46039f"
             ],
             [
              0.2222222222222222,
              "#7201a8"
             ],
             [
              0.3333333333333333,
              "#9c179e"
             ],
             [
              0.4444444444444444,
              "#bd3786"
             ],
             [
              0.5555555555555556,
              "#d8576b"
             ],
             [
              0.6666666666666666,
              "#ed7953"
             ],
             [
              0.7777777777777778,
              "#fb9f3a"
             ],
             [
              0.8888888888888888,
              "#fdca26"
             ],
             [
              1,
              "#f0f921"
             ]
            ],
            "type": "heatmapgl"
           }
          ],
          "histogram": [
           {
            "marker": {
             "pattern": {
              "fillmode": "overlay",
              "size": 10,
              "solidity": 0.2
             }
            },
            "type": "histogram"
           }
          ],
          "histogram2d": [
           {
            "colorbar": {
             "outlinewidth": 0,
             "ticks": ""
            },
            "colorscale": [
             [
              0,
              "#0d0887"
             ],
             [
              0.1111111111111111,
              "#46039f"
             ],
             [
              0.2222222222222222,
              "#7201a8"
             ],
             [
              0.3333333333333333,
              "#9c179e"
             ],
             [
              0.4444444444444444,
              "#bd3786"
             ],
             [
              0.5555555555555556,
              "#d8576b"
             ],
             [
              0.6666666666666666,
              "#ed7953"
             ],
             [
              0.7777777777777778,
              "#fb9f3a"
             ],
             [
              0.8888888888888888,
              "#fdca26"
             ],
             [
              1,
              "#f0f921"
             ]
            ],
            "type": "histogram2d"
           }
          ],
          "histogram2dcontour": [
           {
            "colorbar": {
             "outlinewidth": 0,
             "ticks": ""
            },
            "colorscale": [
             [
              0,
              "#0d0887"
             ],
             [
              0.1111111111111111,
              "#46039f"
             ],
             [
              0.2222222222222222,
              "#7201a8"
             ],
             [
              0.3333333333333333,
              "#9c179e"
             ],
             [
              0.4444444444444444,
              "#bd3786"
             ],
             [
              0.5555555555555556,
              "#d8576b"
             ],
             [
              0.6666666666666666,
              "#ed7953"
             ],
             [
              0.7777777777777778,
              "#fb9f3a"
             ],
             [
              0.8888888888888888,
              "#fdca26"
             ],
             [
              1,
              "#f0f921"
             ]
            ],
            "type": "histogram2dcontour"
           }
          ],
          "mesh3d": [
           {
            "colorbar": {
             "outlinewidth": 0,
             "ticks": ""
            },
            "type": "mesh3d"
           }
          ],
          "parcoords": [
           {
            "line": {
             "colorbar": {
              "outlinewidth": 0,
              "ticks": ""
             }
            },
            "type": "parcoords"
           }
          ],
          "pie": [
           {
            "automargin": true,
            "type": "pie"
           }
          ],
          "scatter": [
           {
            "fillpattern": {
             "fillmode": "overlay",
             "size": 10,
             "solidity": 0.2
            },
            "type": "scatter"
           }
          ],
          "scatter3d": [
           {
            "line": {
             "colorbar": {
              "outlinewidth": 0,
              "ticks": ""
             }
            },
            "marker": {
             "colorbar": {
              "outlinewidth": 0,
              "ticks": ""
             }
            },
            "type": "scatter3d"
           }
          ],
          "scattercarpet": [
           {
            "marker": {
             "colorbar": {
              "outlinewidth": 0,
              "ticks": ""
             }
            },
            "type": "scattercarpet"
           }
          ],
          "scattergeo": [
           {
            "marker": {
             "colorbar": {
              "outlinewidth": 0,
              "ticks": ""
             }
            },
            "type": "scattergeo"
           }
          ],
          "scattergl": [
           {
            "marker": {
             "colorbar": {
              "outlinewidth": 0,
              "ticks": ""
             }
            },
            "type": "scattergl"
           }
          ],
          "scattermapbox": [
           {
            "marker": {
             "colorbar": {
              "outlinewidth": 0,
              "ticks": ""
             }
            },
            "type": "scattermapbox"
           }
          ],
          "scatterpolar": [
           {
            "marker": {
             "colorbar": {
              "outlinewidth": 0,
              "ticks": ""
             }
            },
            "type": "scatterpolar"
           }
          ],
          "scatterpolargl": [
           {
            "marker": {
             "colorbar": {
              "outlinewidth": 0,
              "ticks": ""
             }
            },
            "type": "scatterpolargl"
           }
          ],
          "scatterternary": [
           {
            "marker": {
             "colorbar": {
              "outlinewidth": 0,
              "ticks": ""
             }
            },
            "type": "scatterternary"
           }
          ],
          "surface": [
           {
            "colorbar": {
             "outlinewidth": 0,
             "ticks": ""
            },
            "colorscale": [
             [
              0,
              "#0d0887"
             ],
             [
              0.1111111111111111,
              "#46039f"
             ],
             [
              0.2222222222222222,
              "#7201a8"
             ],
             [
              0.3333333333333333,
              "#9c179e"
             ],
             [
              0.4444444444444444,
              "#bd3786"
             ],
             [
              0.5555555555555556,
              "#d8576b"
             ],
             [
              0.6666666666666666,
              "#ed7953"
             ],
             [
              0.7777777777777778,
              "#fb9f3a"
             ],
             [
              0.8888888888888888,
              "#fdca26"
             ],
             [
              1,
              "#f0f921"
             ]
            ],
            "type": "surface"
           }
          ],
          "table": [
           {
            "cells": {
             "fill": {
              "color": "#EBF0F8"
             },
             "line": {
              "color": "white"
             }
            },
            "header": {
             "fill": {
              "color": "#C8D4E3"
             },
             "line": {
              "color": "white"
             }
            },
            "type": "table"
           }
          ]
         },
         "layout": {
          "annotationdefaults": {
           "arrowcolor": "#2a3f5f",
           "arrowhead": 0,
           "arrowwidth": 1
          },
          "autotypenumbers": "strict",
          "coloraxis": {
           "colorbar": {
            "outlinewidth": 0,
            "ticks": ""
           }
          },
          "colorscale": {
           "diverging": [
            [
             0,
             "#8e0152"
            ],
            [
             0.1,
             "#c51b7d"
            ],
            [
             0.2,
             "#de77ae"
            ],
            [
             0.3,
             "#f1b6da"
            ],
            [
             0.4,
             "#fde0ef"
            ],
            [
             0.5,
             "#f7f7f7"
            ],
            [
             0.6,
             "#e6f5d0"
            ],
            [
             0.7,
             "#b8e186"
            ],
            [
             0.8,
             "#7fbc41"
            ],
            [
             0.9,
             "#4d9221"
            ],
            [
             1,
             "#276419"
            ]
           ],
           "sequential": [
            [
             0,
             "#0d0887"
            ],
            [
             0.1111111111111111,
             "#46039f"
            ],
            [
             0.2222222222222222,
             "#7201a8"
            ],
            [
             0.3333333333333333,
             "#9c179e"
            ],
            [
             0.4444444444444444,
             "#bd3786"
            ],
            [
             0.5555555555555556,
             "#d8576b"
            ],
            [
             0.6666666666666666,
             "#ed7953"
            ],
            [
             0.7777777777777778,
             "#fb9f3a"
            ],
            [
             0.8888888888888888,
             "#fdca26"
            ],
            [
             1,
             "#f0f921"
            ]
           ],
           "sequentialminus": [
            [
             0,
             "#0d0887"
            ],
            [
             0.1111111111111111,
             "#46039f"
            ],
            [
             0.2222222222222222,
             "#7201a8"
            ],
            [
             0.3333333333333333,
             "#9c179e"
            ],
            [
             0.4444444444444444,
             "#bd3786"
            ],
            [
             0.5555555555555556,
             "#d8576b"
            ],
            [
             0.6666666666666666,
             "#ed7953"
            ],
            [
             0.7777777777777778,
             "#fb9f3a"
            ],
            [
             0.8888888888888888,
             "#fdca26"
            ],
            [
             1,
             "#f0f921"
            ]
           ]
          },
          "colorway": [
           "#636efa",
           "#EF553B",
           "#00cc96",
           "#ab63fa",
           "#FFA15A",
           "#19d3f3",
           "#FF6692",
           "#B6E880",
           "#FF97FF",
           "#FECB52"
          ],
          "font": {
           "color": "#2a3f5f"
          },
          "geo": {
           "bgcolor": "white",
           "lakecolor": "white",
           "landcolor": "#E5ECF6",
           "showlakes": true,
           "showland": true,
           "subunitcolor": "white"
          },
          "hoverlabel": {
           "align": "left"
          },
          "hovermode": "closest",
          "mapbox": {
           "style": "light"
          },
          "paper_bgcolor": "white",
          "plot_bgcolor": "#E5ECF6",
          "polar": {
           "angularaxis": {
            "gridcolor": "white",
            "linecolor": "white",
            "ticks": ""
           },
           "bgcolor": "#E5ECF6",
           "radialaxis": {
            "gridcolor": "white",
            "linecolor": "white",
            "ticks": ""
           }
          },
          "scene": {
           "xaxis": {
            "backgroundcolor": "#E5ECF6",
            "gridcolor": "white",
            "gridwidth": 2,
            "linecolor": "white",
            "showbackground": true,
            "ticks": "",
            "zerolinecolor": "white"
           },
           "yaxis": {
            "backgroundcolor": "#E5ECF6",
            "gridcolor": "white",
            "gridwidth": 2,
            "linecolor": "white",
            "showbackground": true,
            "ticks": "",
            "zerolinecolor": "white"
           },
           "zaxis": {
            "backgroundcolor": "#E5ECF6",
            "gridcolor": "white",
            "gridwidth": 2,
            "linecolor": "white",
            "showbackground": true,
            "ticks": "",
            "zerolinecolor": "white"
           }
          },
          "shapedefaults": {
           "line": {
            "color": "#2a3f5f"
           }
          },
          "ternary": {
           "aaxis": {
            "gridcolor": "white",
            "linecolor": "white",
            "ticks": ""
           },
           "baxis": {
            "gridcolor": "white",
            "linecolor": "white",
            "ticks": ""
           },
           "bgcolor": "#E5ECF6",
           "caxis": {
            "gridcolor": "white",
            "linecolor": "white",
            "ticks": ""
           }
          },
          "title": {
           "x": 0.05
          },
          "xaxis": {
           "automargin": true,
           "gridcolor": "white",
           "linecolor": "white",
           "ticks": "",
           "title": {
            "standoff": 15
           },
           "zerolinecolor": "white",
           "zerolinewidth": 2
          },
          "yaxis": {
           "automargin": true,
           "gridcolor": "white",
           "linecolor": "white",
           "ticks": "",
           "title": {
            "standoff": 15
           },
           "zerolinecolor": "white",
           "zerolinewidth": 2
          }
         }
        }
       }
      }
     },
     "metadata": {},
     "output_type": "display_data"
    }
   ],
   "source": [
    "import plotly.express as px\n",
    "import xarray as xr\n",
    "import plotly.graph_objects as go\n",
    "\n",
    "def add_rectangle(fig, max_lat, min_lat, max_lon, min_lon, text=None):\n",
    "    fig.add_trace(go.Scattermapbox(\n",
    "        mode = \"markers+lines\",\n",
    "        lon = [max_lon, min_lon, min_lon, max_lon, max_lon], lat = [max_lat, max_lat, min_lat, min_lat, max_lat],\n",
    "        marker = {'size': 5, }))\n",
    "    if text is not None:\n",
    "        fig.add_trace(go.Scattermapbox(\n",
    "            lon = [max_lon, min_lon, min_lon, max_lon, max_lon], lat = [max_lat, max_lat, min_lat, min_lat, max_lat],\n",
    "            text = [text,text, text, text],  textfont = {'color': 'black', 'size': 10, 'family': \"Courier New, monospace\"},    textposition = \"top right\",\n",
    "            ))\n",
    "    return fig\n",
    "    \n",
    "figpath = \"../../img/\"\n",
    "ds = xr.open_dataset(\"../../data/temp/netcdf/CTD_all_stations.nc\")\n",
    "\n",
    "mooring_loc = {\"latitude\": 64.612, \"longitude\": -50.954}\n",
    "\n",
    "df_stations = ds.coords[\"latitude\"].to_dataframe().reset_index()\n",
    "df_stations.head()\n",
    "\n",
    "fig = px.scatter_mapbox(df_stations.iloc[:,:-1], lat=\"latitude\", lon=\"longitude\", \n",
    "                        hover_name=\"station\", hover_data=[\"station\", \"time\", \"latitude\", \"longitude\"],\n",
    "                        color=\"time\",\n",
    "                        color_continuous_scale=px.colors.cyclical.IceFire,\n",
    "                        # # color_discrete_sequence=[\"fuchsia\"], \n",
    "                        zoom=7, \n",
    "                        # height=300,\n",
    "                        )\n",
    "\n",
    "fig.add_trace(go.Scattermapbox(\n",
    "    mode = \"markers+text\",\n",
    "    lon = [mooring_loc[\"longitude\"]], lat = [mooring_loc[\"latitude\"]],\n",
    "    text=[\"Mooring\"],\n",
    "    marker = {'size': 10, 'color': \"black\"},\n",
    "    ))\n",
    "\n",
    "\n",
    "fig.update_layout(mapbox_style=\"open-street-map\")\n",
    "fig.update_layout(margin={\"r\":0,\"t\":0,\"l\":0,\"b\":0})\n",
    "\n",
    "\n",
    "# for i, station in enumerate([Puattorfik, Uuummannap_Sullua, KangersuneqGF12NorthSide, GF10NorthSide, GF3, Mouth]):\n",
    "#     fig = add_rectangle(fig, station[\"latitude_max\"], station[\"latitude_min\"], station[\"longitude_max\"], station[\"longitude_min\"], text=station[\"name\"])\n",
    "# fig.update_layout(mapbox_style= \"mapbox://styles/anneke-vries/cldmzfy3a003c01mwjiz2yj47\", mapbox_accesstoken=token) # if you want to use a satellite background\n",
    "\n",
    "\n",
    "# fig.write_image(f\"{figpath}/map_with_selected_stations_osm.jpg\")\n",
    "fig.write_html(f\"{figpath}/map_with_selected_stations_osm.html\")\n",
    "\n",
    "\n",
    "fig.update_layout(margin={\"r\":0,\"t\":0,\"l\":0,\"b\":0}) \n",
    "fig.show()"
   ]
  },
  {
   "cell_type": "code",
   "execution_count": 37,
   "metadata": {},
   "outputs": [
    {
     "name": "stdout",
     "output_type": "stream",
     "text": [
      "Total number of stations: 150\n",
      "Total number of unique dates: 37\n",
      "Westernmost station: 64 8m 20.76s N, 51 50m 59.04s W\n",
      "Easternmost station: 64 27m 5.7s N, 50 0m 48.42s W\n"
     ]
    }
   ],
   "source": [
    "import pandas as pd\n",
    "df_selected_stations = pd.read_csv(\"../../data/temp/CTD_selected_stations_info.csv\")\n",
    "print(\"Total number of stations:\", len(df_selected_stations[\"St.No.\"].unique()))\n",
    "print(\"Total number of unique dates:\", len(df_selected_stations[\"Date\"].unique()))\n",
    "# print unique Coordinates and format as table\n",
    "# format as table\n",
    "# find minimum longitude and maximum longitude and print as table\n",
    "\n",
    "most_west_station = df_selected_stations[df_selected_stations.Longitude == df_selected_stations.Longitude.min()]\n",
    "most_east_station = df_selected_stations[df_selected_stations.Longitude == df_selected_stations.Longitude.max()]\n",
    "most_north_station = df_selected_stations[df_selected_stations.Latitude == df_selected_stations.Latitude.max()]\n",
    "most_south_station = df_selected_stations[df_selected_stations.Latitude == df_selected_stations.Latitude.min()]\n",
    "\n",
    "print(f\"Westernmost station: {most_west_station.Coordinates.values[0]}\")\n",
    "print(f\"Easternmost station: {most_east_station.Coordinates.values[0]}\")\n",
    "# most_west_station"
   ]
  },
  {
   "cell_type": "markdown",
   "metadata": {},
   "source": [
    "# Example plots"
   ]
  },
  {
   "cell_type": "markdown",
   "metadata": {},
   "source": [
    "## ADCP"
   ]
  },
  {
   "cell_type": "code",
   "execution_count": 16,
   "metadata": {},
   "outputs": [
    {
     "name": "stdout",
     "output_type": "stream",
     "text": [
      "total 8\n",
      "drwx------@ 5 annek  staff   160 Nov 21 09:59 \u001b[34mCTD\u001b[m\u001b[m\n",
      "drwx------  6 annek  staff   192 Nov 27 14:00 \u001b[34mMoorings\u001b[m\u001b[m\n",
      "-rw-r--r--@ 1 annek  staff  1137 Sep 26  2022 Stations GHF.csv\n"
     ]
    }
   ],
   "source": [
    "!ls -l ../../data/raw"
   ]
  },
  {
   "cell_type": "code",
   "execution_count": 60,
   "metadata": {},
   "outputs": [
    {
     "data": {
      "image/png": "[encoded data removed]",
      "text/plain": [
       "<Figure size 800x400 with 2 Axes>"
      ]
     },
     "metadata": {},
     "output_type": "display_data"
    }
   ],
   "source": [
    "import xarray as xr\n",
    "import matplotlib.pyplot as plt\n",
    "fpathname = \"../../data/processed/ADCP75_20180529_20190612_64.61_-50.95.nc\"\n",
    "figpath = \"../../img/\"\n",
    "\n",
    "\n",
    "\n",
    "dataset = xr.open_dataset(fpathname)\n",
    "dataset = dataset.load()\n",
    "dataset.close()\n",
    "\n",
    "plt.style.use('seaborn-ticks')\n",
    "fig, axs = plt.subplots(2,1, figsize=(8, 4), sharex=True, sharey=True)\n",
    "dataset.sel(z=150, method=\"nearest\").Alongmpersec.plot.scatter(x=\"time\", y=\"Alongmpersec\", s=2, marker=\"o\", color=\"black\", alpha=0.5, label = \"All data points\", ax=axs[0])\n",
    "dataset.sel(z=150, method=\"nearest\").Alongmpersec.rolling(time=25, center=True).mean().plot(label=\"Rolling mean over \\ntwo tidal cycles\", ax=axs[0])  # 2 tidal cycles\n",
    "axs[0].set_title('Velocity parallel to the main fjord axis at 155 m depth')\n",
    "\n",
    "dataset.sel(z=150, method=\"nearest\").Acrossmpersec.plot.scatter(x=\"time\", y=\"Acrossmpersec\", s=2, marker=\"o\", color=\"black\", alpha=0.5, label = \"All data points\", ax=axs[1])\n",
    "dataset.sel(z=150, method=\"nearest\").Acrossmpersec.rolling(time=25, center=True).mean().plot(label=\"Rolling mean over \\ntwo tidal cycles\", ax=axs[1], )  # 2 tidal cycles\n",
    "axs[1].set_title('Velocity perpendicular to the main fjord axis at 155 m depth')\n",
    "axs[1].legend()\n",
    "\n",
    "plt.xlim(dataset.time.min(), dataset.time.max())\n",
    "for ax in axs:\n",
    "    ax.set_xlabel(\"\")\n",
    "    ax.set_ylabel(\"Velocity [m/s]\")\n",
    "    # remove spines\n",
    "    ax.spines['top'].set_visible(False)\n",
    "    ax.spines['right'].set_visible(False)\n",
    "\n",
    "plt.tight_layout()\n",
    "plt.savefig(f\"{figpath}/ADCP_timeseries_example.jpg\", dpi=300)"
   ]
  },
  {
   "cell_type": "markdown",
   "metadata": {},
   "source": [
    "## CTD profiles"
   ]
  },
  {
   "cell_type": "code",
   "execution_count": 87,
   "metadata": {},
   "outputs": [
    {
     "data": {
      "image/png": "[encoded data removed]",
      "text/plain": [
       "<Figure size 500x400 with 2 Axes>"
      ]
     },
     "metadata": {},
     "output_type": "display_data"
    }
   ],
   "source": [
    "fpath = \"../../data/temp/netcdf/single_profiles/CTD_GF18005_2018-01-09_64.38N_-51.59E.nc\"\n",
    "\n",
    "ds = xr.open_dataset(fpath)\n",
    "ds = ds.load()\n",
    "ds.close()\n",
    "\n",
    "# plot all three variables with shared y axis in subplots\n",
    "plt.style.use('seaborn-ticks')\n",
    "\n",
    "fig, axs = plt.subplots(1,2, figsize=(5, 4), sharey=True)\n",
    "\n",
    "ds[\"Temperature\"].plot(ax=axs[0], y=\"Pressure [dbar]\", color=\"black\")\n",
    "axs[0].set_ylabel(\"Depth [m]\")\n",
    "axs[0].invert_yaxis()\n",
    "\n",
    "ds[\"Salinity\"].plot(ax=axs[1], y=\"Pressure [dbar]\", color=\"black\")\n",
    "axs[1].set_ylabel(\"\")\n",
    "fig.suptitle(ds.attrs[\"title\"], fontsize=11)\n",
    "\n",
    "# remove spines\n",
    "for ax in axs:\n",
    "    ax.spines['top'].set_visible(False)\n",
    "    ax.spines['right'].set_visible(False)\n",
    "\n",
    "plt.tight_layout()\n",
    "plt.savefig(f\"{figpath}/CTD_profile_example.jpg\", dpi=300)\n"
   ]
  },
  {
   "cell_type": "code",
   "execution_count": 81,
   "metadata": {},
   "outputs": [
    {
     "data": {
      "text/html": [
       "<div><svg style=\"position: absolute; width: 0; height: 0; overflow: hidden\">\n",
       "<defs>\n",
       "<symbol id=\"icon-database\" viewBox=\"0 0 32 32\">\n",
       "<path d=\"M16 0c-8.837 0-16 2.239-16 5v4c0 2.761 7.163 5 16 5s16-2.239 16-5v-4c0-2.761-7.163-5-16-5z\"></path>\n",
       "<path d=\"M16 17c-8.837 0-16-2.239-16-5v6c0 2.761 7.163 5 16 5s16-2.239 16-5v-6c0 2.761-7.163 5-16 5z\"></path>\n",
       "<path d=\"M16 26c-8.837 0-16-2.239-16-5v6c0 2.761 7.163 5 16 5s16-2.239 16-5v-6c0 2.761-7.163 5-16 5z\"></path>\n",
       "</symbol>\n",
       "<symbol id=\"icon-file-text2\" viewBox=\"0 0 32 32\">\n",
       "<path d=\"M28.681 7.159c-0.694-0.947-1.662-2.053-2.724-3.116s-2.169-2.030-3.116-2.724c-1.612-1.182-2.393-1.319-2.841-1.319h-15.5c-1.378 0-2.5 1.121-2.5 2.5v27c0 1.378 1.122 2.5 2.5 2.5h23c1.378 0 2.5-1.122 2.5-2.5v-19.5c0-0.448-0.137-1.23-1.319-2.841zM24.543 5.457c0.959 0.959 1.712 1.825 2.268 2.543h-4.811v-4.811c0.718 0.556 1.584 1.309 2.543 2.268zM28 29.5c0 0.271-0.229 0.5-0.5 0.5h-23c-0.271 0-0.5-0.229-0.5-0.5v-27c0-0.271 0.229-0.5 0.5-0.5 0 0 15.499-0 15.5 0v7c0 0.552 0.448 1 1 1h7v19.5z\"></path>\n",
       "<path d=\"M23 26h-14c-0.552 0-1-0.448-1-1s0.448-1 1-1h14c0.552 0 1 0.448 1 1s-0.448 1-1 1z\"></path>\n",
       "<path d=\"M23 22h-14c-0.552 0-1-0.448-1-1s0.448-1 1-1h14c0.552 0 1 0.448 1 1s-0.448 1-1 1z\"></path>\n",
       "<path d=\"M23 18h-14c-0.552 0-1-0.448-1-1s0.448-1 1-1h14c0.552 0 1 0.448 1 1s-0.448 1-1 1z\"></path>\n",
       "</symbol>\n",
       "</defs>\n",
       "</svg>\n",
       "<style>/* CSS stylesheet for displaying xarray objects in jupyterlab.\n",
       " *\n",
       " */\n",
       "\n",
       ":root {\n",
       "  --xr-font-color0: var(--jp-content-font-color0, rgba(0, 0, 0, 1));\n",
       "  --xr-font-color2: var(--jp-content-font-color2, rgba(0, 0, 0, 0.54));\n",
       "  --xr-font-color3: var(--jp-content-font-color3, rgba(0, 0, 0, 0.38));\n",
       "  --xr-border-color: var(--jp-border-color2, #e0e0e0);\n",
       "  --xr-disabled-color: var(--jp-layout-color3, #bdbdbd);\n",
       "  --xr-background-color: var(--jp-layout-color0, white);\n",
       "  --xr-background-color-row-even: var(--jp-layout-color1, white);\n",
       "  --xr-background-color-row-odd: var(--jp-layout-color2, #eeeeee);\n",
       "}\n",
       "\n",
       "html[theme=dark],\n",
       "body[data-theme=dark],\n",
       "body.vscode-dark {\n",
       "  --xr-font-color0: rgba(255, 255, 255, 1);\n",
       "  --xr-font-color2: rgba(255, 255, 255, 0.54);\n",
       "  --xr-font-color3: rgba(255, 255, 255, 0.38);\n",
       "  --xr-border-color: #1F1F1F;\n",
       "  --xr-disabled-color: #515151;\n",
       "  --xr-background-color: #111111;\n",
       "  --xr-background-color-row-even: #111111;\n",
       "  --xr-background-color-row-odd: #313131;\n",
       "}\n",
       "\n",
       ".xr-wrap {\n",
       "  display: block !important;\n",
       "  min-width: 300px;\n",
       "  max-width: 700px;\n",
       "}\n",
       "\n",
       ".xr-text-repr-fallback {\n",
       "  /* fallback to plain text repr when CSS is not injected (untrusted notebook) */\n",
       "  display: none;\n",
       "}\n",
       "\n",
       ".xr-header {\n",
       "  padding-top: 6px;\n",
       "  padding-bottom: 6px;\n",
       "  margin-bottom: 4px;\n",
       "  border-bottom: solid 1px var(--xr-border-color);\n",
       "}\n",
       "\n",
       ".xr-header > div,\n",
       ".xr-header > ul {\n",
       "  display: inline;\n",
       "  margin-top: 0;\n",
       "  margin-bottom: 0;\n",
       "}\n",
       "\n",
       ".xr-obj-type,\n",
       ".xr-array-name {\n",
       "  margin-left: 2px;\n",
       "  margin-right: 10px;\n",
       "}\n",
       "\n",
       ".xr-obj-type {\n",
       "  color: var(--xr-font-color2);\n",
       "}\n",
       "\n",
       ".xr-sections {\n",
       "  padding-left: 0 !important;\n",
       "  display: grid;\n",
       "  grid-template-columns: 150px auto auto 1fr 20px 20px;\n",
       "}\n",
       "\n",
       ".xr-section-item {\n",
       "  display: contents;\n",
       "}\n",
       "\n",
       ".xr-section-item input {\n",
       "  display: none;\n",
       "}\n",
       "\n",
       ".xr-section-item input + label {\n",
       "  color: var(--xr-disabled-color);\n",
       "}\n",
       "\n",
       ".xr-section-item input:enabled + label {\n",
       "  cursor: pointer;\n",
       "  color: var(--xr-font-color2);\n",
       "}\n",
       "\n",
       ".xr-section-item input:enabled + label:hover {\n",
       "  color: var(--xr-font-color0);\n",
       "}\n",
       "\n",
       ".xr-section-summary {\n",
       "  grid-column: 1;\n",
       "  color: var(--xr-font-color2);\n",
       "  font-weight: 500;\n",
       "}\n",
       "\n",
       ".xr-section-summary > span {\n",
       "  display: inline-block;\n",
       "  padding-left: 0.5em;\n",
       "}\n",
       "\n",
       ".xr-section-summary-in:disabled + label {\n",
       "  color: var(--xr-font-color2);\n",
       "}\n",
       "\n",
       ".xr-section-summary-in + label:before {\n",
       "  display: inline-block;\n",
       "  content: '►';\n",
       "  font-size: 11px;\n",
       "  width: 15px;\n",
       "  text-align: center;\n",
       "}\n",
       "\n",
       ".xr-section-summary-in:disabled + label:before {\n",
       "  color: var(--xr-disabled-color);\n",
       "}\n",
       "\n",
       ".xr-section-summary-in:checked + label:before {\n",
       "  content: '▼';\n",
       "}\n",
       "\n",
       ".xr-section-summary-in:checked + label > span {\n",
       "  display: none;\n",
       "}\n",
       "\n",
       ".xr-section-summary,\n",
       ".xr-section-inline-details {\n",
       "  padding-top: 4px;\n",
       "  padding-bottom: 4px;\n",
       "}\n",
       "\n",
       ".xr-section-inline-details {\n",
       "  grid-column: 2 / -1;\n",
       "}\n",
       "\n",
       ".xr-section-details {\n",
       "  display: none;\n",
       "  grid-column: 1 / -1;\n",
       "  margin-bottom: 5px;\n",
       "}\n",
       "\n",
       ".xr-section-summary-in:checked ~ .xr-section-details {\n",
       "  display: contents;\n",
       "}\n",
       "\n",
       ".xr-array-wrap {\n",
       "  grid-column: 1 / -1;\n",
       "  display: grid;\n",
       "  grid-template-columns: 20px auto;\n",
       "}\n",
       "\n",
       ".xr-array-wrap > label {\n",
       "  grid-column: 1;\n",
       "  vertical-align: top;\n",
       "}\n",
       "\n",
       ".xr-preview {\n",
       "  color: var(--xr-font-color3);\n",
       "}\n",
       "\n",
       ".xr-array-preview,\n",
       ".xr-array-data {\n",
       "  padding: 0 5px !important;\n",
       "  grid-column: 2;\n",
       "}\n",
       "\n",
       ".xr-array-data,\n",
       ".xr-array-in:checked ~ .xr-array-preview {\n",
       "  display: none;\n",
       "}\n",
       "\n",
       ".xr-array-in:checked ~ .xr-array-data,\n",
       ".xr-array-preview {\n",
       "  display: inline-block;\n",
       "}\n",
       "\n",
       ".xr-dim-list {\n",
       "  display: inline-block !important;\n",
       "  list-style: none;\n",
       "  padding: 0 !important;\n",
       "  margin: 0;\n",
       "}\n",
       "\n",
       ".xr-dim-list li {\n",
       "  display: inline-block;\n",
       "  padding: 0;\n",
       "  margin: 0;\n",
       "}\n",
       "\n",
       ".xr-dim-list:before {\n",
       "  content: '(';\n",
       "}\n",
       "\n",
       ".xr-dim-list:after {\n",
       "  content: ')';\n",
       "}\n",
       "\n",
       ".xr-dim-list li:not(:last-child):after {\n",
       "  content: ',';\n",
       "  padding-right: 5px;\n",
       "}\n",
       "\n",
       ".xr-has-index {\n",
       "  font-weight: bold;\n",
       "}\n",
       "\n",
       ".xr-var-list,\n",
       ".xr-var-item {\n",
       "  display: contents;\n",
       "}\n",
       "\n",
       ".xr-var-item > div,\n",
       ".xr-var-item label,\n",
       ".xr-var-item > .xr-var-name span {\n",
       "  background-color: var(--xr-background-color-row-even);\n",
       "  margin-bottom: 0;\n",
       "}\n",
       "\n",
       ".xr-var-item > .xr-var-name:hover span {\n",
       "  padding-right: 5px;\n",
       "}\n",
       "\n",
       ".xr-var-list > li:nth-child(odd) > div,\n",
       ".xr-var-list > li:nth-child(odd) > label,\n",
       ".xr-var-list > li:nth-child(odd) > .xr-var-name span {\n",
       "  background-color: var(--xr-background-color-row-odd);\n",
       "}\n",
       "\n",
       ".xr-var-name {\n",
       "  grid-column: 1;\n",
       "}\n",
       "\n",
       ".xr-var-dims {\n",
       "  grid-column: 2;\n",
       "}\n",
       "\n",
       ".xr-var-dtype {\n",
       "  grid-column: 3;\n",
       "  text-align: right;\n",
       "  color: var(--xr-font-color2);\n",
       "}\n",
       "\n",
       ".xr-var-preview {\n",
       "  grid-column: 4;\n",
       "}\n",
       "\n",
       ".xr-index-preview {\n",
       "  grid-column: 2 / 5;\n",
       "  color: var(--xr-font-color2);\n",
       "}\n",
       "\n",
       ".xr-var-name,\n",
       ".xr-var-dims,\n",
       ".xr-var-dtype,\n",
       ".xr-preview,\n",
       ".xr-attrs dt {\n",
       "  white-space: nowrap;\n",
       "  overflow: hidden;\n",
       "  text-overflow: ellipsis;\n",
       "  padding-right: 10px;\n",
       "}\n",
       "\n",
       ".xr-var-name:hover,\n",
       ".xr-var-dims:hover,\n",
       ".xr-var-dtype:hover,\n",
       ".xr-attrs dt:hover {\n",
       "  overflow: visible;\n",
       "  width: auto;\n",
       "  z-index: 1;\n",
       "}\n",
       "\n",
       ".xr-var-attrs,\n",
       ".xr-var-data,\n",
       ".xr-index-data {\n",
       "  display: none;\n",
       "  background-color: var(--xr-background-color) !important;\n",
       "  padding-bottom: 5px !important;\n",
       "}\n",
       "\n",
       ".xr-var-attrs-in:checked ~ .xr-var-attrs,\n",
       ".xr-var-data-in:checked ~ .xr-var-data,\n",
       ".xr-index-data-in:checked ~ .xr-index-data {\n",
       "  display: block;\n",
       "}\n",
       "\n",
       ".xr-var-data > table {\n",
       "  float: right;\n",
       "}\n",
       "\n",
       ".xr-var-name span,\n",
       ".xr-var-data,\n",
       ".xr-index-name div,\n",
       ".xr-index-data,\n",
       ".xr-attrs {\n",
       "  padding-left: 25px !important;\n",
       "}\n",
       "\n",
       ".xr-attrs,\n",
       ".xr-var-attrs,\n",
       ".xr-var-data,\n",
       ".xr-index-data {\n",
       "  grid-column: 1 / -1;\n",
       "}\n",
       "\n",
       "dl.xr-attrs {\n",
       "  padding: 0;\n",
       "  margin: 0;\n",
       "  display: grid;\n",
       "  grid-template-columns: 125px auto;\n",
       "}\n",
       "\n",
       ".xr-attrs dt,\n",
       ".xr-attrs dd {\n",
       "  padding: 0;\n",
       "  margin: 0;\n",
       "  float: left;\n",
       "  padding-right: 10px;\n",
       "  width: auto;\n",
       "}\n",
       "\n",
       ".xr-attrs dt {\n",
       "  font-weight: normal;\n",
       "  grid-column: 1;\n",
       "}\n",
       "\n",
       ".xr-attrs dt:hover span {\n",
       "  display: inline-block;\n",
       "  background: var(--xr-background-color);\n",
       "  padding-right: 10px;\n",
       "}\n",
       "\n",
       ".xr-attrs dd {\n",
       "  grid-column: 2;\n",
       "  white-space: pre-wrap;\n",
       "  word-break: break-all;\n",
       "}\n",
       "\n",
       ".xr-icon-database,\n",
       ".xr-icon-file-text2,\n",
       ".xr-no-icon {\n",
       "  display: inline-block;\n",
       "  vertical-align: middle;\n",
       "  width: 1em;\n",
       "  height: 1.5em !important;\n",
       "  stroke-width: 0;\n",
       "  stroke: currentColor;\n",
       "  fill: currentColor;\n",
       "}\n",
       "</style><pre class='xr-text-repr-fallback'>&lt;xarray.Dataset&gt;\n",
       "Dimensions:                (Pressure [dbar]: 618)\n",
       "Coordinates:\n",
       "  * Pressure [dbar]        (Pressure [dbar]) float64 1.0 2.0 3.0 ... 617.0 618.0\n",
       "Data variables:\n",
       "    Potential temperature  (Pressure [dbar]) float64 -0.5868 -0.5842 ... 0.9759\n",
       "    Salinity               (Pressure [dbar]) float64 32.06 32.06 ... 33.51 33.5\n",
       "    Density                (Pressure [dbar]) float64 1.026e+03 ... 1.03e+03\n",
       "Attributes: (12/30)\n",
       "    user_name:              Anneke Vries\n",
       "    data_type:              CTD\n",
       "    featureType:            profile\n",
       "    keywords:               EARTH SCIENCE&gt;OCEANS&gt;OCEAN TEMPERATURE&gt;WATER TEMP...\n",
       "    Conventions:            ACDD-1.3\n",
       "    history:                2023-12-06T12:04:16Z converted to netcdf with xar...\n",
       "    ...                     ...\n",
       "    geospatial_lon_min:     -51.58755\n",
       "    geospatial_lon_max:     -51.58755\n",
       "    source:                 CTD #GF18005\n",
       "    title:                  CTD profile GF18005 on 2018-01-09 00:00:00, in Nu...\n",
       "    summary:                The file contains potential temperature, practica...\n",
       "    GCRC_standard_station:  GF6</pre><div class='xr-wrap' style='display:none'><div class='xr-header'><div class='xr-obj-type'>xarray.Dataset</div></div><ul class='xr-sections'><li class='xr-section-item'><input id='section-694fb834-ccfa-4490-b603-673c38ff2b3b' class='xr-section-summary-in' type='checkbox' disabled ><label for='section-694fb834-ccfa-4490-b603-673c38ff2b3b' class='xr-section-summary'  title='Expand/collapse section'>Dimensions:</label><div class='xr-section-inline-details'><ul class='xr-dim-list'><li><span class='xr-has-index'>Pressure [dbar]</span>: 618</li></ul></div><div class='xr-section-details'></div></li><li class='xr-section-item'><input id='section-62e800a4-bbb3-460e-af6d-04e1678f8c97' class='xr-section-summary-in' type='checkbox'  checked><label for='section-62e800a4-bbb3-460e-af6d-04e1678f8c97' class='xr-section-summary' >Coordinates: <span>(1)</span></label><div class='xr-section-inline-details'></div><div class='xr-section-details'><ul class='xr-var-list'><li class='xr-var-item'><div class='xr-var-name'><span class='xr-has-index'>Pressure [dbar]</span></div><div class='xr-var-dims'>(Pressure [dbar])</div><div class='xr-var-dtype'>float64</div><div class='xr-var-preview xr-preview'>1.0 2.0 3.0 ... 616.0 617.0 618.0</div><input id='attrs-e7fce951-7e19-4924-99e6-d961219f1b4f' class='xr-var-attrs-in' type='checkbox' disabled><label for='attrs-e7fce951-7e19-4924-99e6-d961219f1b4f' title='Show/Hide attributes'><svg class='icon xr-icon-file-text2'><use xlink:href='#icon-file-text2'></use></svg></label><input id='data-e3343f7d-c44e-43ff-bf9e-a3bc4d4941fb' class='xr-var-data-in' type='checkbox'><label for='data-e3343f7d-c44e-43ff-bf9e-a3bc4d4941fb' title='Show/Hide data repr'><svg class='icon xr-icon-database'><use xlink:href='#icon-database'></use></svg></label><div class='xr-var-attrs'><dl class='xr-attrs'></dl></div><div class='xr-var-data'><pre>array([  1.,   2.,   3., ..., 616., 617., 618.])</pre></div></li></ul></div></li><li class='xr-section-item'><input id='section-d55b9270-11ec-4cbb-9852-3e2f6f4285a3' class='xr-section-summary-in' type='checkbox'  checked><label for='section-d55b9270-11ec-4cbb-9852-3e2f6f4285a3' class='xr-section-summary' >Data variables: <span>(3)</span></label><div class='xr-section-inline-details'></div><div class='xr-section-details'><ul class='xr-var-list'><li class='xr-var-item'><div class='xr-var-name'><span>Potential temperature</span></div><div class='xr-var-dims'>(Pressure [dbar])</div><div class='xr-var-dtype'>float64</div><div class='xr-var-preview xr-preview'>-0.5868 -0.5842 ... 0.9759 0.9759</div><input id='attrs-85fa5ee9-b0e2-4173-8d64-1d3156c93514' class='xr-var-attrs-in' type='checkbox' ><label for='attrs-85fa5ee9-b0e2-4173-8d64-1d3156c93514' title='Show/Hide attributes'><svg class='icon xr-icon-file-text2'><use xlink:href='#icon-file-text2'></use></svg></label><input id='data-0427f1a4-adc8-4bfe-ae6f-be1930044e3c' class='xr-var-data-in' type='checkbox'><label for='data-0427f1a4-adc8-4bfe-ae6f-be1930044e3c' title='Show/Hide data repr'><svg class='icon xr-icon-database'><use xlink:href='#icon-database'></use></svg></label><div class='xr-var-attrs'><dl class='xr-attrs'><dt><span>units :</span></dt><dd>degree C</dd><dt><span>standard_name :</span></dt><dd>sea_water_potential_temperature</dd><dt><span>long_name :</span></dt><dd>Potential temperature of sea water</dd></dl></div><div class='xr-var-data'><pre>array([-0.5868, -0.5842, -0.5544, -0.531 , -0.5171, -0.4996, -0.4662,\n",
       "       -0.4509, -0.4194, -0.3679, -0.3429, -0.3364, -0.3355, -0.3421,\n",
       "       -0.3546, -0.3831, -0.3499, -0.329 , -0.2983, -0.2735, -0.2597,\n",
       "       -0.2612, -0.2459, -0.2215, -0.2001, -0.1758, -0.1486, -0.1089,\n",
       "       -0.0757, -0.0774, -0.0858, -0.0984, -0.1201, -0.1271, -0.13  ,\n",
       "       -0.1283, -0.1206, -0.1208, -0.1205, -0.1197, -0.1182, -0.0869,\n",
       "       -0.0541, -0.0551, -0.0354, -0.007 ,  0.0067,  0.0112,  0.0143,\n",
       "        0.02  ,  0.025 ,  0.0304,  0.0308,  0.0317,  0.0443,  0.0491,\n",
       "        0.0538,  0.0576,  0.0628,  0.066 ,  0.0687,  0.0748,  0.0803,\n",
       "        0.0956,  0.1128,  0.1241,  0.1318,  0.1423,  0.1496,  0.1624,\n",
       "        0.1735,  0.1767,  0.1765,  0.1759,  0.1782,  0.194 ,  0.224 ,\n",
       "        0.2511,  0.263 ,  0.2649,  0.2756,  0.2804,  0.2818,  0.2936,\n",
       "        0.3157,  0.3234,  0.3445,  0.3703,  0.3757,  0.3809,  0.3931,\n",
       "        0.4078,  0.4149,  0.4206,  0.4298,  0.4631,  0.4728,  0.475 ,\n",
       "        0.4765,  0.4772,  0.4791,  0.4798,  0.4795,  0.4824,  0.4899,\n",
       "        0.4929,  0.5008,  0.5016,  0.5018,  0.5028,  0.5046,  0.507 ,\n",
       "        0.5085,  0.5123,  0.5131,  0.5137,  0.5151,  0.5194,  0.5216,\n",
       "        0.5274,  0.5469,  0.5639,  0.5751,  0.5731,  0.5648,  0.5639,\n",
       "        0.5709,  0.5654,  0.5607,  0.5595,  0.558 ,  0.5581,  0.5599,\n",
       "        0.561 ,  0.5622,  0.5618,  0.5531,  0.5557,  0.5676,  0.5728,\n",
       "...\n",
       "        1.0261,  1.026 ,  1.0259,  1.0257,  1.0255,  1.0246,  1.0236,\n",
       "        1.0229,  1.0229,  1.0228,  1.0228,  1.0225,  1.0206,  1.0176,\n",
       "        1.0171,  1.0169,  1.0168,  1.0166,  1.0162,  1.0148,  1.0141,\n",
       "        1.0139,  1.0137,  1.0138,  1.0138,  1.0134,  1.0131,  1.0129,\n",
       "        1.0127,  1.0125,  1.0124,  1.0115,  1.0105,  1.0105,  1.0104,\n",
       "        1.01  ,  1.0093,  1.0085,  1.0067,  1.0055,  1.0054,  1.0052,\n",
       "        1.0036,  1.0029,  1.0018,  1.0013,  1.0013,  1.0015,  1.0016,\n",
       "        1.0015,  0.9991,  0.9951,  0.993 ,  0.9919,  0.9906,  0.99  ,\n",
       "        0.9898,  0.9896,  0.9896,  0.9891,  0.9889,  0.9877,  0.9872,\n",
       "        0.987 ,  0.987 ,  0.9869,  0.9868,  0.9865,  0.9863,  0.9862,\n",
       "        0.9856,  0.9851,  0.985 ,  0.9845,  0.9839,  0.9834,  0.9828,\n",
       "        0.9823,  0.9821,  0.9821,  0.9819,  0.9812,  0.9799,  0.9796,\n",
       "        0.9796,  0.9795,  0.9794,  0.9795,  0.9796,  0.9795,  0.9794,\n",
       "        0.9793,  0.9793,  0.9793,  0.9781,  0.9775,  0.977 ,  0.977 ,\n",
       "        0.9771,  0.977 ,  0.9769,  0.977 ,  0.9769,  0.977 ,  0.9772,\n",
       "        0.9774,  0.9774,  0.9777,  0.9776,  0.9777,  0.9776,  0.9771,\n",
       "        0.9767,  0.9765,  0.9762,  0.9762,  0.9758,  0.9758,  0.9758,\n",
       "        0.9758,  0.9758,  0.9758,  0.9758,  0.9758,  0.9758,  0.9758,\n",
       "        0.9758,  0.9758,  0.9759,  0.9758,  0.9759,  0.9758,  0.9759,\n",
       "        0.9759,  0.9759])</pre></div></li><li class='xr-var-item'><div class='xr-var-name'><span>Salinity</span></div><div class='xr-var-dims'>(Pressure [dbar])</div><div class='xr-var-dtype'>float64</div><div class='xr-var-preview xr-preview'>32.06 32.06 32.06 ... 33.51 33.5</div><input id='attrs-0df61b4e-2db6-4868-aeaa-3f5aedb27d1c' class='xr-var-attrs-in' type='checkbox' ><label for='attrs-0df61b4e-2db6-4868-aeaa-3f5aedb27d1c' title='Show/Hide attributes'><svg class='icon xr-icon-file-text2'><use xlink:href='#icon-file-text2'></use></svg></label><input id='data-5f5875c9-8263-4226-af5b-7ee855020f57' class='xr-var-data-in' type='checkbox'><label for='data-5f5875c9-8263-4226-af5b-7ee855020f57' title='Show/Hide data repr'><svg class='icon xr-icon-database'><use xlink:href='#icon-database'></use></svg></label><div class='xr-var-attrs'><dl class='xr-attrs'><dt><span>units :</span></dt><dd>psu</dd><dt><span>standard_name :</span></dt><dd>sea_water_practical_salinity</dd><dt><span>long_name :</span></dt><dd>Salinity</dd></dl></div><div class='xr-var-data'><pre>array([32.0585, 32.0583, 32.0589, 32.0612, 32.0614, 32.0638, 32.0689,\n",
       "       32.0709, 32.0752, 32.0826, 32.0878, 32.0902, 32.0912, 32.0919,\n",
       "       32.0929, 32.1101, 32.1293, 32.1321, 32.139 , 32.1426, 32.1458,\n",
       "       32.1458, 32.1523, 32.1581, 32.1632, 32.1705, 32.1774, 32.1896,\n",
       "       32.1986, 32.1999, 32.2001, 32.2003, 32.2104, 32.2141, 32.2169,\n",
       "       32.2193, 32.2266, 32.2255, 32.2268, 32.2276, 32.2287, 32.2512,\n",
       "       32.2628, 32.2614, 32.2716, 32.2827, 32.2886, 32.2909, 32.2915,\n",
       "       32.2936, 32.2974, 32.3001, 32.2999, 32.2999, 32.3089, 32.3087,\n",
       "       32.3117, 32.3138, 32.3188, 32.3216, 32.3235, 32.3296, 32.3319,\n",
       "       32.3436, 32.3547, 32.3627, 32.3679, 32.3738, 32.3764, 32.3817,\n",
       "       32.3846, 32.385 , 32.3874, 32.39  , 32.3937, 32.4041, 32.4197,\n",
       "       32.4325, 32.4377, 32.4394, 32.4497, 32.4518, 32.4533, 32.4576,\n",
       "       32.4675, 32.4715, 32.4856, 32.5026, 32.5042, 32.5077, 32.5155,\n",
       "       32.5232, 32.5259, 32.5292, 32.535 , 32.5558, 32.5564, 32.5577,\n",
       "       32.5581, 32.5583, 32.5586, 32.5587, 32.559 , 32.5591, 32.5603,\n",
       "       32.5603, 32.5629, 32.5626, 32.5628, 32.5639, 32.5652, 32.5683,\n",
       "       32.5709, 32.5736, 32.5733, 32.5733, 32.5734, 32.5754, 32.5756,\n",
       "       32.5783, 32.5869, 32.5926, 32.5979, 32.601 , 32.6001, 32.6008,\n",
       "       32.6065, 32.6097, 32.611 , 32.6122, 32.6132, 32.6152, 32.6182,\n",
       "       32.6189, 32.6217, 32.6238, 32.6245, 32.632 , 32.6434, 32.6457,\n",
       "...\n",
       "       33.4865, 33.4865, 33.4865, 33.4866, 33.4866, 33.487 , 33.4873,\n",
       "       33.4876, 33.4876, 33.4875, 33.4876, 33.4877, 33.4884, 33.4896,\n",
       "       33.4871, 33.4899, 33.49  , 33.4901, 33.4902, 33.491 , 33.4913,\n",
       "       33.4914, 33.4916, 33.4914, 33.4914, 33.4916, 33.4918, 33.4918,\n",
       "       33.4919, 33.492 , 33.492 , 33.4924, 33.4929, 33.493 , 33.4928,\n",
       "       33.4931, 33.4934, 33.4936, 33.4945, 33.495 , 33.4951, 33.4952,\n",
       "       33.4957, 33.4961, 33.4965, 33.4967, 33.4967, 33.4967, 33.4967,\n",
       "       33.4967, 33.4976, 33.4992, 33.4999, 33.5004, 33.5009, 33.5011,\n",
       "       33.5012, 33.5012, 33.5012, 33.5015, 33.5015, 33.502 , 33.5022,\n",
       "       33.5023, 33.5023, 33.5023, 33.5023, 33.5024, 33.5026, 33.5023,\n",
       "       33.5028, 33.5029, 33.5029, 33.503 , 33.5033, 33.5035, 33.5036,\n",
       "       33.5038, 33.5038, 33.5039, 33.5041, 33.5044, 33.5047, 33.5048,\n",
       "       33.505 , 33.5049, 33.5049, 33.505 , 33.5049, 33.5049, 33.505 ,\n",
       "       33.505 , 33.505 , 33.505 , 33.5052, 33.5056, 33.5057, 33.5056,\n",
       "       33.5056, 33.5058, 33.5057, 33.5058, 33.5058, 33.5057, 33.5056,\n",
       "       33.5055, 33.5055, 33.5055, 33.5054, 33.5053, 33.5055, 33.5056,\n",
       "       33.5057, 33.5059, 33.5059, 33.506 , 33.5062, 33.5061, 33.5061,\n",
       "       33.5061, 33.5061, 33.5062, 33.5061, 33.5061, 33.506 , 33.5061,\n",
       "       33.5054, 33.5061, 33.5061, 33.5061, 33.5061, 33.5061, 33.506 ,\n",
       "       33.506 , 33.4999])</pre></div></li><li class='xr-var-item'><div class='xr-var-name'><span>Density</span></div><div class='xr-var-dims'>(Pressure [dbar])</div><div class='xr-var-dtype'>float64</div><div class='xr-var-preview xr-preview'>1.026e+03 1.026e+03 ... 1.03e+03</div><input id='attrs-d25aec36-5d36-425f-af91-662c6dc7ee56' class='xr-var-attrs-in' type='checkbox' ><label for='attrs-d25aec36-5d36-425f-af91-662c6dc7ee56' title='Show/Hide attributes'><svg class='icon xr-icon-file-text2'><use xlink:href='#icon-file-text2'></use></svg></label><input id='data-a77497dc-f858-46b7-8e0e-1816cbaa424a' class='xr-var-data-in' type='checkbox'><label for='data-a77497dc-f858-46b7-8e0e-1816cbaa424a' title='Show/Hide data repr'><svg class='icon xr-icon-database'><use xlink:href='#icon-database'></use></svg></label><div class='xr-var-attrs'><dl class='xr-attrs'><dt><span>units :</span></dt><dd>kg/m3</dd><dt><span>standard_name :</span></dt><dd>sea_water_density</dd><dt><span>long_name :</span></dt><dd>Density of sea water</dd></dl></div><div class='xr-var-data'><pre>array([1025.7607, 1025.7651, 1025.7694, 1025.7752, 1025.7796, 1025.7857,\n",
       "       1025.7933, 1025.7991, 1025.8062, 1025.8149, 1025.8229, 1025.8295,\n",
       "       1025.835 , 1025.8407, 1025.8467, 1025.8666, 1025.8855, 1025.8918,\n",
       "       1025.9009, 1025.9075, 1025.9143, 1025.9192, 1025.9286, 1025.937 ,\n",
       "       1025.945 , 1025.9546, 1025.9638, 1025.9768, 1025.9872, 1025.9932,\n",
       "       1025.9985, 1026.004 , 1026.0179, 1026.026 , 1026.0332, 1026.0399,\n",
       "       1026.0502, 1026.054 , 1026.0598, 1026.0653, 1026.0709, 1026.0924,\n",
       "       1026.1051, 1026.1088, 1026.1209, 1026.1333, 1026.1421, 1026.1486,\n",
       "       1026.1537, 1026.1599, 1026.1675, 1026.1742, 1026.1788, 1026.1836,\n",
       "       1026.195 , 1026.1994, 1026.2063, 1026.2126, 1026.2212, 1026.2281,\n",
       "       1026.2343, 1026.2437, 1026.25  , 1026.2635, 1026.2764, 1026.287 ,\n",
       "       1026.2957, 1026.3046, 1026.3111, 1026.3195, 1026.3261, 1026.331 ,\n",
       "       1026.3377, 1026.3446, 1026.3523, 1026.3646, 1026.3804, 1026.3941,\n",
       "       1026.4024, 1026.4085, 1026.421 , 1026.4272, 1026.4331, 1026.4407,\n",
       "       1026.4523, 1026.4599, 1026.4748, 1026.4919, 1026.4977, 1026.505 ,\n",
       "       1026.5154, 1026.5255, 1026.5321, 1026.5391, 1026.5481, 1026.5678,\n",
       "       1026.5725, 1026.5781, 1026.5831, 1026.5881, 1026.5929, 1026.5977,\n",
       "       1026.6027, 1026.6074, 1026.6127, 1026.6173, 1026.6237, 1026.6282,\n",
       "       1026.6331, 1026.6387, 1026.6444, 1026.6515, 1026.6582, 1026.6649,\n",
       "       1026.6694, 1026.6742, 1026.6789, 1026.6851, 1026.6898, 1026.6964,\n",
       "...\n",
       "       1029.1844, 1029.1892, 1029.194 , 1029.1988, 1029.2042, 1029.2092,\n",
       "       1029.214 , 1029.2188, 1029.2233, 1029.228 , 1029.233 , 1029.2378,\n",
       "       1029.2425, 1029.2473, 1029.252 , 1029.2568, 1029.2618, 1029.267 ,\n",
       "       1029.2718, 1029.2764, 1029.2813, 1029.2862, 1029.2912, 1029.2967,\n",
       "       1029.3019, 1029.3067, 1029.3115, 1029.3167, 1029.3217, 1029.3268,\n",
       "       1029.3317, 1029.3364, 1029.3411, 1029.3457, 1029.3505, 1029.3561,\n",
       "       1029.3623, 1029.3678, 1029.373 , 1029.3781, 1029.383 , 1029.3878,\n",
       "       1029.3925, 1029.3972, 1029.4022, 1029.4069, 1029.412 , 1029.4169,\n",
       "       1029.4217, 1029.4264, 1029.4311, 1029.4358, 1029.4406, 1029.4454,\n",
       "       1029.4499, 1029.455 , 1029.4598, 1029.4646, 1029.4693, 1029.4743,\n",
       "       1029.4791, 1029.484 , 1029.4889, 1029.4936, 1029.4984, 1029.5031,\n",
       "       1029.5082, 1029.5133, 1029.518 , 1029.5229, 1029.5275, 1029.5321,\n",
       "       1029.5369, 1029.5415, 1029.5462, 1029.5509, 1029.5557, 1029.5604,\n",
       "       1029.565 , 1029.57  , 1029.575 , 1029.5798, 1029.5845, 1029.5891,\n",
       "       1029.5939, 1029.5985, 1029.6033, 1029.608 , 1029.6127, 1029.6172,\n",
       "       1029.6218, 1029.6265, 1029.6312, 1029.6358, 1029.6404, 1029.6452,\n",
       "       1029.65  , 1029.6548, 1029.6596, 1029.6644, 1029.6691, 1029.674 ,\n",
       "       1029.6786, 1029.6833, 1029.688 , 1029.6926, 1029.6973, 1029.702 ,\n",
       "       1029.7067, 1029.7113, 1029.7161, 1029.7201, 1029.7254, 1029.73  ,\n",
       "       1029.7348, 1029.7394, 1029.7441, 1029.7487, 1029.7534, 1029.7532])</pre></div></li></ul></div></li><li class='xr-section-item'><input id='section-3bbf177c-7f12-41e9-87c1-ed2be02aa67c' class='xr-section-summary-in' type='checkbox'  ><label for='section-3bbf177c-7f12-41e9-87c1-ed2be02aa67c' class='xr-section-summary' >Indexes: <span>(1)</span></label><div class='xr-section-inline-details'></div><div class='xr-section-details'><ul class='xr-var-list'><li class='xr-var-item'><div class='xr-index-name'><div>Pressure [dbar]</div></div><div class='xr-index-preview'>PandasIndex</div><div></div><input id='index-010b965d-f4b7-4f58-be05-045d0716b1bf' class='xr-index-data-in' type='checkbox'/><label for='index-010b965d-f4b7-4f58-be05-045d0716b1bf' title='Show/Hide index repr'><svg class='icon xr-icon-database'><use xlink:href='#icon-database'></use></svg></label><div class='xr-index-data'><pre>PandasIndex(Float64Index([  1.0,   2.0,   3.0,   4.0,   5.0,   6.0,   7.0,   8.0,   9.0,\n",
       "               10.0,\n",
       "              ...\n",
       "              609.0, 610.0, 611.0, 612.0, 613.0, 614.0, 615.0, 616.0, 617.0,\n",
       "              618.0],\n",
       "             dtype=&#x27;float64&#x27;, name=&#x27;Pressure [dbar]&#x27;, length=618))</pre></div></li></ul></div></li><li class='xr-section-item'><input id='section-9e49c53b-4e29-41ba-b81a-998660e6cf6a' class='xr-section-summary-in' type='checkbox'  ><label for='section-9e49c53b-4e29-41ba-b81a-998660e6cf6a' class='xr-section-summary' >Attributes: <span>(30)</span></label><div class='xr-section-inline-details'></div><div class='xr-section-details'><dl class='xr-attrs'><dt><span>user_name :</span></dt><dd>Anneke Vries</dd><dt><span>data_type :</span></dt><dd>CTD</dd><dt><span>featureType :</span></dt><dd>profile</dd><dt><span>keywords :</span></dt><dd>EARTH SCIENCE&gt;OCEANS&gt;OCEAN TEMPERATURE&gt;WATER TEMPERATURE, EARTH SCIENCE&gt;OCEANS&gt;OCEAN PRESSURE&gt;WATER PRESSURE,EARTH SCIENCE&gt;OCEANS&gt;SALINITY/DENSITY&gt;SALINITY</dd><dt><span>Conventions :</span></dt><dd>ACDD-1.3</dd><dt><span>history :</span></dt><dd>2023-12-06T12:04:16Z converted to netcdf with xarray by Anneke Vries</dd><dt><span>processing_level :</span></dt><dd>binning and manual inspection</dd><dt><span>date_created :</span></dt><dd>2023-12-06T12:04:16Z</dd><dt><span>creator_type :</span></dt><dd>person</dd><dt><span>creator_institution :</span></dt><dd>NIOZ Royal Netherlands Institute for Sea Research</dd><dt><span>creator_name :</span></dt><dd>Anneke Vries</dd><dt><span>creator_email :</span></dt><dd>anneke.vries@nioz.nl</dd><dt><span>creator_url :</span></dt><dd>https://orcid.org/0000-0001-9970-1189</dd><dt><span>project :</span></dt><dd>UU-NIOZ Greenland fjords as gateways between the ice sheet and the ocean</dd><dt><span>platform :</span></dt><dd>ship</dd><dt><span>license :</span></dt><dd>https://creativecommons.org/licenses/by/4.0/</dd><dt><span>iso_topic_category :</span></dt><dd>oceans</dd><dt><span>time_coverage_start :</span></dt><dd>2018-01-09T13:11Z</dd><dt><span>time_coverage_end :</span></dt><dd>2018-01-09T13:25Z</dd><dt><span>GCRC_station_number :</span></dt><dd>GF18005</dd><dt><span>latitude :</span></dt><dd>64.37985</dd><dt><span>longitude :</span></dt><dd>-51.58755</dd><dt><span>geospatial_lat_min :</span></dt><dd>64.37985</dd><dt><span>geospatial_lat_max :</span></dt><dd>64.37985</dd><dt><span>geospatial_lon_min :</span></dt><dd>-51.58755</dd><dt><span>geospatial_lon_max :</span></dt><dd>-51.58755</dd><dt><span>source :</span></dt><dd>CTD #GF18005</dd><dt><span>title :</span></dt><dd>CTD profile GF18005 on 2018-01-09 00:00:00, in Nuup Kangerlua, Greenland</dd><dt><span>summary :</span></dt><dd>The file contains potential temperature, practical salinity and depth measurements binned into 1 db bins. The raw data was measured at 64.380N, -51.588E, on 2018-01-09 00:00:00 UTC , with a Sea-Bird SBE19plus. The data was collected by the Greenland Climate Research Center (GCRC)</dd><dt><span>GCRC_standard_station :</span></dt><dd>GF6</dd></dl></div></li></ul></div></div>"
      ],
      "text/plain": [
       "<xarray.Dataset>\n",
       "Dimensions:                (Pressure [dbar]: 618)\n",
       "Coordinates:\n",
       "  * Pressure [dbar]        (Pressure [dbar]) float64 1.0 2.0 3.0 ... 617.0 618.0\n",
       "Data variables:\n",
       "    Potential temperature  (Pressure [dbar]) float64 -0.5868 -0.5842 ... 0.9759\n",
       "    Salinity               (Pressure [dbar]) float64 32.06 32.06 ... 33.51 33.5\n",
       "    Density                (Pressure [dbar]) float64 1.026e+03 ... 1.03e+03\n",
       "Attributes: (12/30)\n",
       "    user_name:              Anneke Vries\n",
       "    data_type:              CTD\n",
       "    featureType:            profile\n",
       "    keywords:               EARTH SCIENCE>OCEANS>OCEAN TEMPERATURE>WATER TEMP...\n",
       "    Conventions:            ACDD-1.3\n",
       "    history:                2023-12-06T12:04:16Z converted to netcdf with xar...\n",
       "    ...                     ...\n",
       "    geospatial_lon_min:     -51.58755\n",
       "    geospatial_lon_max:     -51.58755\n",
       "    source:                 CTD #GF18005\n",
       "    title:                  CTD profile GF18005 on 2018-01-09 00:00:00, in Nu...\n",
       "    summary:                The file contains potential temperature, practica...\n",
       "    GCRC_standard_station:  GF6"
      ]
     },
     "execution_count": 81,
     "metadata": {},
     "output_type": "execute_result"
    }
   ],
   "source": [
    "ds"
   ]
  },
  {
   "cell_type": "code",
   "execution_count": null,
   "metadata": {},
   "outputs": [],
   "source": []
  }
 ],
 "metadata": {
  "kernelspec": {
   "display_name": "nioz_ctd",
   "language": "python",
   "name": "python3"
  },
  "language_info": {
   "codemirror_mode": {
    "name": "ipython",
    "version": 3
   },
   "file_extension": ".py",
   "mimetype": "text/x-python",
   "name": "python",
   "nbconvert_exporter": "python",
   "pygments_lexer": "ipython3",
   "version": "3.9.16"
  }
 },
 "nbformat": 4,
 "nbformat_minor": 2
}
